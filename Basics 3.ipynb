{
 "cells": [
  {
   "cell_type": "markdown",
   "id": "c49e4de2",
   "metadata": {},
   "source": [
    "## Conditional statements (If Else)"
   ]
  },
  {
   "cell_type": "code",
   "execution_count": 1,
   "id": "11cdadb9",
   "metadata": {},
   "outputs": [],
   "source": [
    "#if condition:\n",
    "#    print(\"execute this statement\")\n",
    "#else:\n",
    "#    print(\"if condition is not true\")"
   ]
  },
  {
   "cell_type": "code",
   "execution_count": 2,
   "id": "bffff06f",
   "metadata": {},
   "outputs": [
    {
     "name": "stdout",
     "output_type": "stream",
     "text": [
      "Let's do work from home\n"
     ]
    }
   ],
   "source": [
    "# If it is raining then let's work from home else let's go to office\n",
    "\n",
    "raining = True\n",
    "\n",
    "if raining:\n",
    "    print(\"Let's do work from home\")\n",
    "else:\n",
    "    print(\"Let's go to office\")        "
   ]
  },
  {
   "cell_type": "code",
   "execution_count": 5,
   "id": "f79deb62",
   "metadata": {},
   "outputs": [
    {
     "name": "stdout",
     "output_type": "stream",
     "text": [
      "Let's go to office\n"
     ]
    }
   ],
   "source": [
    "raining = False\n",
    "\n",
    "if raining:\n",
    "    print(\"Let's do work from home\")\n",
    "else:\n",
    "    print(\"Let's go to office\")  "
   ]
  },
  {
   "cell_type": "markdown",
   "id": "c7c11a08",
   "metadata": {},
   "source": [
    "## Use of indentation"
   ]
  },
  {
   "cell_type": "code",
   "execution_count": 6,
   "id": "8694ba33",
   "metadata": {},
   "outputs": [
    {
     "ename": "IndentationError",
     "evalue": "expected an indented block (3195642894.py, line 4)",
     "output_type": "error",
     "traceback": [
      "\u001b[1;36m  Cell \u001b[1;32mIn[6], line 4\u001b[1;36m\u001b[0m\n\u001b[1;33m    print(\"Let's do work from home\")\u001b[0m\n\u001b[1;37m    ^\u001b[0m\n\u001b[1;31mIndentationError\u001b[0m\u001b[1;31m:\u001b[0m expected an indented block\n"
     ]
    }
   ],
   "source": [
    "raining = False\n",
    "\n",
    "if raining:\n",
    "print(\"Let's do work from home\")\n",
    "else:\n",
    "print(\"Let's go to office\")  "
   ]
  },
  {
   "cell_type": "code",
   "execution_count": 7,
   "id": "a3f31ba6",
   "metadata": {},
   "outputs": [
    {
     "name": "stdout",
     "output_type": "stream",
     "text": [
      "Since its not raining\n",
      "Let's go to office\n"
     ]
    }
   ],
   "source": [
    "raining = True\n",
    "\n",
    "if raining:\n",
    "    print(\"Since its not raining\")\n",
    "    print(\"Let's go to office\") \n",
    "\n",
    "else:\n",
    "    print(\"Since its raining\")\n",
    "    print(\"Let's do work from home\")"
   ]
  },
  {
   "cell_type": "code",
   "execution_count": 8,
   "id": "752bd388",
   "metadata": {},
   "outputs": [
    {
     "name": "stdout",
     "output_type": "stream",
     "text": [
      "Since its raining\n",
      "Let's do work from home\n"
     ]
    }
   ],
   "source": [
    "raining = False\n",
    "\n",
    "if raining:\n",
    "    print(\"Since its not raining\")\n",
    "    print(\"Let's go to office\") \n",
    "\n",
    "else:\n",
    "    print(\"Since its raining\")\n",
    "    print(\"Let's do work from home\")"
   ]
  },
  {
   "cell_type": "code",
   "execution_count": 9,
   "id": "1086c2c3",
   "metadata": {},
   "outputs": [
    {
     "name": "stdout",
     "output_type": "stream",
     "text": [
      "Let's revise the previous topic\n"
     ]
    }
   ],
   "source": [
    "class_started = False\n",
    "\n",
    "if class_started:\n",
    "    print(\"Let's concentrate\")\n",
    "else:\n",
    "    print(\"Let's revise the previous topic\")"
   ]
  },
  {
   "cell_type": "code",
   "execution_count": 10,
   "id": "264af280",
   "metadata": {},
   "outputs": [
    {
     "name": "stdout",
     "output_type": "stream",
     "text": [
      "Let's concentrate\n"
     ]
    }
   ],
   "source": [
    "class_started = True\n",
    "\n",
    "if class_started:\n",
    "    print(\"Let's concentrate\")\n",
    "else:\n",
    "    print(\"Let's revise the previous topic\")"
   ]
  },
  {
   "cell_type": "markdown",
   "id": "3a9f3422",
   "metadata": {},
   "source": [
    "## Logical operators"
   ]
  },
  {
   "cell_type": "markdown",
   "id": "92a2d3c8",
   "metadata": {},
   "source": [
    "keywords | meaning\n",
    "- | -\n",
    "not | unary negation\n",
    "and | conditional AND\n",
    "or | conditional OR"
   ]
  },
  {
   "cell_type": "code",
   "execution_count": 11,
   "id": "6a5f2b1f",
   "metadata": {},
   "outputs": [
    {
     "name": "stdout",
     "output_type": "stream",
     "text": [
      "Since class started\n",
      "Let's concentrate\n"
     ]
    }
   ],
   "source": [
    "# if class is started then let's concentrate else revise the previous clss\n",
    "\n",
    "class_started = True\n",
    "\n",
    "if class_started:\n",
    "    print(\"Since class started\")\n",
    "    print(\"Let's concentrate\")\n",
    "    \n",
    "else:\n",
    "    print(\"Since class is not started\")\n",
    "    print(\"Let's revise\")"
   ]
  },
  {
   "cell_type": "code",
   "execution_count": 12,
   "id": "bef83139",
   "metadata": {},
   "outputs": [
    {
     "name": "stdout",
     "output_type": "stream",
     "text": [
      "Since class is not started\n",
      "Let's revise\n"
     ]
    }
   ],
   "source": [
    "class_started = False\n",
    "\n",
    "if class_started:\n",
    "    print(\"Since class started\")\n",
    "    print(\"Let's concentrate\")\n",
    "    \n",
    "else:\n",
    "    print(\"Since class is not started\")\n",
    "    print(\"Let's revise\")"
   ]
  },
  {
   "cell_type": "code",
   "execution_count": 13,
   "id": "ca2edd85",
   "metadata": {},
   "outputs": [
    {
     "name": "stdout",
     "output_type": "stream",
     "text": [
      "Since class started\n",
      "Let's concentrate\n"
     ]
    }
   ],
   "source": [
    "# if class is NOT started then let's revise else let's concentrate\n",
    "\n",
    "class_started = True\n",
    "\n",
    "if not class_started:\n",
    "    print(\"Since class is not started\")\n",
    "    print(\"Let's revise\")\n",
    "else:\n",
    "    print(\"Since class started\")\n",
    "    print(\"Let's concentrate\")"
   ]
  },
  {
   "cell_type": "code",
   "execution_count": 14,
   "id": "2e94132a",
   "metadata": {},
   "outputs": [
    {
     "name": "stdout",
     "output_type": "stream",
     "text": [
      "Since class is not started\n",
      "Let's revise\n"
     ]
    }
   ],
   "source": [
    "class_started = False\n",
    "\n",
    "if not class_started:\n",
    "    print(\"Since class is not started\")\n",
    "    print(\"Let's revise\")\n",
    "else:\n",
    "    print(\"Since class started\")\n",
    "    print(\"Let's concentrate\")"
   ]
  },
  {
   "cell_type": "code",
   "execution_count": 15,
   "id": "6e43288c",
   "metadata": {},
   "outputs": [
    {
     "ename": "IndentationError",
     "evalue": "unexpected indent (4072419073.py, line 7)",
     "output_type": "error",
     "traceback": [
      "\u001b[1;36m  Cell \u001b[1;32mIn[15], line 7\u001b[1;36m\u001b[0m\n\u001b[1;33m    print(\"Let's revise\")\u001b[0m\n\u001b[1;37m    ^\u001b[0m\n\u001b[1;31mIndentationError\u001b[0m\u001b[1;31m:\u001b[0m unexpected indent\n"
     ]
    }
   ],
   "source": [
    "# statement not aligned properly with identation\n",
    "\n",
    "class_started = False\n",
    "\n",
    "if not class_started:\n",
    "   print(\"Since class is not started\")\n",
    "    print(\"Let's revise\")\n",
    "else:\n",
    "  print(\"Since class started\")\n",
    "     print(\"Let's concentrate\")"
   ]
  },
  {
   "cell_type": "markdown",
   "id": "3718ec42",
   "metadata": {},
   "source": [
    "## and - conditional AND"
   ]
  },
  {
   "cell_type": "markdown",
   "id": "30d3c1c5",
   "metadata": {},
   "source": [
    "if both vegetable and salt is present in my dish, then only its a good dish, else its a bad dish\n",
    " \n",
    "Vegetable | Salt | Dish\n",
    "- | - | -\n",
    "False | False | False\n",
    "False | True | False\n",
    "True | False | False\n",
    "True | True | True"
   ]
  },
  {
   "cell_type": "code",
   "execution_count": 16,
   "id": "43702c00",
   "metadata": {},
   "outputs": [
    {
     "name": "stdout",
     "output_type": "stream",
     "text": [
      "its a bad dish\n",
      "because vegetable_present: False\n",
      "and salt_present: False\n"
     ]
    }
   ],
   "source": [
    "vegetable_present = False\n",
    "salt_present = False\n",
    "\n",
    "if vegetable_present and salt_present:\n",
    "    print(\"its a good dish\")\n",
    "else:\n",
    "    print(\"its a bad dish\")\n",
    "    print(f\"because vegetable_present: {vegetable_present}\")\n",
    "    print(f\"and salt_present: {salt_present}\")"
   ]
  },
  {
   "cell_type": "code",
   "execution_count": 17,
   "id": "9c260160",
   "metadata": {},
   "outputs": [
    {
     "name": "stdout",
     "output_type": "stream",
     "text": [
      "its a bad dish\n",
      "because vegetable_present: False\n",
      "and salt_present: True\n"
     ]
    }
   ],
   "source": [
    "vegetable_present = False\n",
    "salt_present = True\n",
    "\n",
    "if vegetable_present and salt_present:\n",
    "    print(\"its a good dish\")\n",
    "else:\n",
    "    print(\"its a bad dish\")\n",
    "    print(f\"because vegetable_present: {vegetable_present}\")\n",
    "    print(f\"and salt_present: {salt_present}\")"
   ]
  },
  {
   "cell_type": "code",
   "execution_count": 18,
   "id": "6e0914f0",
   "metadata": {},
   "outputs": [
    {
     "name": "stdout",
     "output_type": "stream",
     "text": [
      "its a bad dish\n",
      "because vegetable_present: True\n",
      "and salt_present: False\n"
     ]
    }
   ],
   "source": [
    "vegetable_present = True\n",
    "salt_present = False\n",
    "\n",
    "if vegetable_present and salt_present:\n",
    "    print(\"its a good dish\")\n",
    "else:\n",
    "    print(\"its a bad dish\")\n",
    "    print(f\"because vegetable_present: {vegetable_present}\")\n",
    "    print(f\"and salt_present: {salt_present}\")"
   ]
  },
  {
   "cell_type": "code",
   "execution_count": 19,
   "id": "84852479",
   "metadata": {},
   "outputs": [
    {
     "name": "stdout",
     "output_type": "stream",
     "text": [
      "its a good dish\n"
     ]
    }
   ],
   "source": [
    "vegetable_present = True\n",
    "salt_present = True\n",
    "\n",
    "if vegetable_present and salt_present:\n",
    "    print(\"its a good dish\")\n",
    "else:\n",
    "    print(\"its a bad dish\")\n",
    "    print(f\"because vegetable_present: {vegetable_present}\")\n",
    "    print(f\"and salt_present: {salt_present}\")"
   ]
  },
  {
   "cell_type": "markdown",
   "id": "bf6fb84c",
   "metadata": {},
   "source": [
    "# # or conditional OR"
   ]
  },
  {
   "cell_type": "markdown",
   "id": "10145a44",
   "metadata": {},
   "source": [
    "if I have a car or bike, then I can travel 100 km in a day\n",
    "\n",
    "Car | Bike | Travel 100 Km\n",
    "- | - | -\n",
    "False | False | False\n",
    "False | True | True\n",
    "True | False | True\n",
    "True | True | True"
   ]
  },
  {
   "cell_type": "code",
   "execution_count": 20,
   "id": "e0f015e5",
   "metadata": {},
   "outputs": [
    {
     "name": "stdout",
     "output_type": "stream",
     "text": [
      "I am stuck as I don't have car or bike\n"
     ]
    }
   ],
   "source": [
    "i_own_car = False\n",
    "i_own_bike = False\n",
    "\n",
    "if i_own_car or i_own_bike:\n",
    "    print(\"I can travel 100 kms in a day.\")\n",
    "else:\n",
    "    print(\"I am stuck as I don't have car or bike\")"
   ]
  },
  {
   "cell_type": "code",
   "execution_count": 21,
   "id": "cd189f53",
   "metadata": {},
   "outputs": [
    {
     "name": "stdout",
     "output_type": "stream",
     "text": [
      "I can travel 100 kms in a day.\n"
     ]
    }
   ],
   "source": [
    "i_own_car = False\n",
    "i_own_bike = True\n",
    "\n",
    "if i_own_car or i_own_bike:\n",
    "    print(\"I can travel 100 kms in a day.\")\n",
    "else:\n",
    "    print(\"I am stuck as I don't have car or bike\")"
   ]
  },
  {
   "cell_type": "code",
   "execution_count": 22,
   "id": "f3441ec4",
   "metadata": {},
   "outputs": [
    {
     "name": "stdout",
     "output_type": "stream",
     "text": [
      "I can travel 100 kms in a day.\n"
     ]
    }
   ],
   "source": [
    "i_own_car = True\n",
    "i_own_bike = False\n",
    "\n",
    "if i_own_car or i_own_bike:\n",
    "    print(\"I can travel 100 kms in a day.\")\n",
    "else:\n",
    "    print(\"I am stuck as I don't have car or bike\")"
   ]
  },
  {
   "cell_type": "code",
   "execution_count": 23,
   "id": "62e0c4d9",
   "metadata": {},
   "outputs": [
    {
     "name": "stdout",
     "output_type": "stream",
     "text": [
      "I can travel 100 kms in a day.\n"
     ]
    }
   ],
   "source": [
    "i_own_car = True\n",
    "i_own_bike = True\n",
    "\n",
    "if i_own_car or i_own_bike:\n",
    "    print(\"I can travel 100 kms in a day.\")\n",
    "else:\n",
    "    print(\"I am stuck as I don't have car or bike\")"
   ]
  },
  {
   "cell_type": "code",
   "execution_count": 24,
   "id": "444b9001",
   "metadata": {},
   "outputs": [
    {
     "data": {
      "text/plain": [
       "'\\nNote:\\nUse and operator when all condition is to be true\\nuse or operator if anyone of the condirion is to be true\\n'"
      ]
     },
     "execution_count": 24,
     "metadata": {},
     "output_type": "execute_result"
    }
   ],
   "source": [
    "\"\"\"\n",
    "Note:\n",
    "Use and operator when all condition is to be true\n",
    "use or operator if anyone of the condirion is to be true\n",
    "\"\"\""
   ]
  },
  {
   "cell_type": "markdown",
   "id": "33930f9e",
   "metadata": {},
   "source": [
    "One more example for AND operator\n",
    "\n",
    "attendance|assignment|eligible for exam\n",
    "-|-|-\n",
    ">=75%|>=70%|True"
   ]
  },
  {
   "cell_type": "code",
   "execution_count": 25,
   "id": "49b731b5",
   "metadata": {},
   "outputs": [
    {
     "name": "stdout",
     "output_type": "stream",
     "text": [
      "attendance criteria met?: False\n",
      "assignment criteria met?: False\n",
      "The student is not eligible\n"
     ]
    }
   ],
   "source": [
    "attendance = 70\n",
    "assignment_submitted = 40\n",
    "\n",
    "print(f\"attendance criteria met?: {attendance >= 75}\")\n",
    "print(f\"assignment criteria met?: {assignment_submitted >= 70}\")\n",
    "\n",
    "if attendance >= 75 and assignment_submitted >= 70:\n",
    "    print(\"The student is eligible to appear in final exam\")\n",
    "else:\n",
    "    print(\"The student is not eligible\")"
   ]
  },
  {
   "cell_type": "code",
   "execution_count": 26,
   "id": "15cb46e5",
   "metadata": {},
   "outputs": [
    {
     "name": "stdout",
     "output_type": "stream",
     "text": [
      "attendance criteria met?: True\n",
      "assignment criteria met?: False\n",
      "The student is not eligible\n"
     ]
    }
   ],
   "source": [
    "attendance = 90\n",
    "assignment_submitted = 40\n",
    "\n",
    "print(f\"attendance criteria met?: {attendance >= 75}\")\n",
    "print(f\"assignment criteria met?: {assignment_submitted >= 70}\")\n",
    "\n",
    "if attendance >= 75 and assignment_submitted >= 70:\n",
    "    print(\"The student is eligible to appear in final exam\")\n",
    "else:\n",
    "    print(\"The student is not eligible\")"
   ]
  },
  {
   "cell_type": "code",
   "execution_count": 27,
   "id": "96edeb9a",
   "metadata": {},
   "outputs": [
    {
     "name": "stdout",
     "output_type": "stream",
     "text": [
      "attendance criteria met?: True\n",
      "assignment criteria met?: True\n",
      "The student is eligible to appear in final exam\n"
     ]
    }
   ],
   "source": [
    "attendance = 90\n",
    "assignment_submitted = 90\n",
    "\n",
    "print(f\"attendance criteria met?: {attendance >= 75}\")\n",
    "print(f\"assignment criteria met?: {assignment_submitted >= 70}\")\n",
    "\n",
    "if attendance >= 75 and assignment_submitted >= 70:\n",
    "    print(\"The student is eligible to appear in final exam\")\n",
    "else:\n",
    "    print(\"The student is not eligible\")"
   ]
  },
  {
   "cell_type": "markdown",
   "id": "0f91b7cd",
   "metadata": {},
   "source": [
    "Another example for OR operator\n",
    "\n",
    "credit card|debit card|purchase book from amazon\n",
    "-|-|-\n",
    "True|True|True\n",
    "False|False|True\n",
    "\n",
    "cash on delivery option also available!!!"
   ]
  },
  {
   "cell_type": "code",
   "execution_count": 28,
   "id": "0dbf5e00",
   "metadata": {},
   "outputs": [
    {
     "name": "stdout",
     "output_type": "stream",
     "text": [
      "Ask from someone else for debit or credit card!\n",
      "or place the order with cash on delivery service.\n"
     ]
    }
   ],
   "source": [
    "own_credit_card = False\n",
    "own_debit_card = False\n",
    "\n",
    "if own_credit_card or own_debit_card:\n",
    "    print(\"proceed for further payment\")\n",
    "else:\n",
    "    print(\"Ask from someone else for debit or credit card!\")\n",
    "    print(\"or place the order with cash on delivery service.\")"
   ]
  },
  {
   "cell_type": "code",
   "execution_count": 29,
   "id": "cac00619",
   "metadata": {},
   "outputs": [
    {
     "name": "stdout",
     "output_type": "stream",
     "text": [
      "proceed for further payment\n"
     ]
    }
   ],
   "source": [
    "own_credit_card = False\n",
    "own_debit_card = True\n",
    "\n",
    "if own_credit_card or own_debit_card:\n",
    "    print(\"proceed for further payment\")\n",
    "else:\n",
    "    print(\"Ask from someone else for debit or credit card!\")\n",
    "    print(\"or place the order with cash on delivery service.\")"
   ]
  },
  {
   "cell_type": "code",
   "execution_count": 30,
   "id": "7179c8ec",
   "metadata": {},
   "outputs": [
    {
     "name": "stdout",
     "output_type": "stream",
     "text": [
      "proceed for further payment\n"
     ]
    }
   ],
   "source": [
    "# one more method- net banking\n",
    "own_credit_card = False\n",
    "own_debit_card = False\n",
    "net_banking= True\n",
    "\n",
    "if own_credit_card or own_debit_card or net_banking:\n",
    "    print(\"proceed for further payment\")\n",
    "else:\n",
    "    print(\"Ask from someone else for debit or credit card!\")\n",
    "    print(\"or place the order with cash on delivery service.\")"
   ]
  },
  {
   "cell_type": "markdown",
   "id": "658cdd67",
   "metadata": {},
   "source": [
    "AND OR together\n",
    "\n",
    "attendance|assignment|sports player|eligible for exam\n",
    "-|-|-|-\n",
    ">=75%|>=70%|False|True\n",
    ">=75%|>=70%|True|True\n",
    "\n",
    "if attendance is more than 75% AND assignment completed more than 70% OR the student is sports player, then only the student is eligible for exam.\n",
    "If you are sports player, then you will get grace marks = +10"
   ]
  },
  {
   "cell_type": "code",
   "execution_count": 34,
   "id": "cc2b3981",
   "metadata": {},
   "outputs": [
    {
     "name": "stdout",
     "output_type": "stream",
     "text": [
      "attendance criteria met?: False\n",
      "assignment criteria met?: True\n",
      "sports criteria met?: True\n",
      "The student is not eligible to write the exam\n"
     ]
    }
   ],
   "source": [
    "attendance = 70\n",
    "assignemnt_submitted = 40\n",
    "sports_player = True\n",
    "\n",
    "print(f\"attendance criteria met?: {attendance >= 75}\")\n",
    "print(f\"assignment criteria met?: {assignment_submitted >= 70}\")\n",
    "print(f\"sports criteria met?: {sports_player}\")\n",
    "\n",
    "if attendance >=75 and assignemnt_submitted >= 70:\n",
    "    if sports_player:\n",
    "        print(\"The student is eligible to appear in final exam\")\n",
    "    else:\n",
    "        print(\"The student is eligible to appear in final exam\")\n",
    "else:\n",
    "    print(\"The student is not eligible to write the exam\")"
   ]
  },
  {
   "cell_type": "code",
   "execution_count": 39,
   "id": "2b695c47",
   "metadata": {},
   "outputs": [
    {
     "name": "stdout",
     "output_type": "stream",
     "text": [
      "attendance criteria met?: True\n",
      "assignment criteria met?: True\n",
      "sports criteria met?: False\n",
      "The student is eligible to appear in final exam but without grace marks\n"
     ]
    }
   ],
   "source": [
    "#Complex condition case as mentioned above\n",
    "attendance = 90\n",
    "assignemnt_submitted = 75\n",
    "sports_player = False\n",
    "\n",
    "print(f\"attendance criteria met?: {attendance >= 75}\")\n",
    "print(f\"assignment criteria met?: {assignment_submitted >= 70}\")\n",
    "print(f\"sports criteria met?: {sports_player}\")\n",
    "\n",
    "if attendance >=75 and assignemnt_submitted >= 70:\n",
    "    if sports_player:\n",
    "        print(\"The student will get grace marks = +10\")\n",
    "    else:\n",
    "        print(\"The student is eligible to appear in final exam but without grace marks\")\n",
    "else:\n",
    "    print(\"The student is not eligible to write the exam\")"
   ]
  },
  {
   "cell_type": "code",
   "execution_count": 40,
   "id": "1e3a3094",
   "metadata": {},
   "outputs": [
    {
     "name": "stdout",
     "output_type": "stream",
     "text": [
      "attendance criteria met?: True\n",
      "assignment criteria met?: True\n",
      "sports criteria met?: True\n",
      "The student will get grace marks = +10\n"
     ]
    }
   ],
   "source": [
    "attendance = 90\n",
    "assignemnt_submitted = 75\n",
    "sports_player = True\n",
    "\n",
    "print(f\"attendance criteria met?: {attendance >= 75}\")\n",
    "print(f\"assignment criteria met?: {assignment_submitted >= 70}\")\n",
    "print(f\"sports criteria met?: {sports_player}\")\n",
    "\n",
    "if attendance >=75 and assignemnt_submitted >= 70:\n",
    "    if sports_player:\n",
    "        print(\"The student will get grace marks = +10\")\n",
    "    else:\n",
    "        print(\"The student is eligible to appear in final exam but without grace marks\")\n",
    "else:\n",
    "    print(\"The student is not eligible to write the exam\")"
   ]
  },
  {
   "cell_type": "code",
   "execution_count": 41,
   "id": "06348c14",
   "metadata": {},
   "outputs": [
    {
     "name": "stdout",
     "output_type": "stream",
     "text": [
      "attendance criteria met?: True\n",
      "assignment criteria met?: True\n",
      "sports criteria met?: True\n",
      "The student is not eligible to write the exam\n"
     ]
    }
   ],
   "source": [
    "attendance = 90\n",
    "assignemnt_submitted = 40\n",
    "sports_player = True\n",
    "\n",
    "print(f\"attendance criteria met?: {attendance >= 75}\")\n",
    "print(f\"assignment criteria met?: {assignment_submitted >= 70}\")\n",
    "print(f\"sports criteria met?: {sports_player}\")\n",
    "\n",
    "if attendance >=75 and assignemnt_submitted >= 70:\n",
    "    if sports_player:\n",
    "        print(\"The student will get grace marks = +10\")\n",
    "    else:\n",
    "        print(\"The student is eligible to appear in final exam but without grace marks\")\n",
    "else:\n",
    "    print(\"The student is not eligible to write the exam\")"
   ]
  },
  {
   "cell_type": "markdown",
   "id": "e9e01b44",
   "metadata": {},
   "source": [
    "## Equality operators\n",
    "\n",
    "operator|uses|menaing\n",
    "-|-|-\n",
    "is|A is B|return true if A and B points to the same object\n",
    "is not|A is not B|return True if A and B do not points the same object\n",
    "==|A==B|A is equal to B\n",
    "!=|A!=B|A is not equal to B\n",
    "\n",
    "Note: \n",
    "- When using `is` then we are also comparing memory location. When using `is not` then we are also comparing memory location\n",
    "- `==` and `!=` is only checking the value of variables\n"
   ]
  },
  {
   "cell_type": "code",
   "execution_count": 42,
   "id": "4cc3a1df",
   "metadata": {},
   "outputs": [
    {
     "name": "stdout",
     "output_type": "stream",
     "text": [
      "A and B are same\n"
     ]
    }
   ],
   "source": [
    "A = 1\n",
    "B = 1\n",
    "if A is B:\n",
    "    print(\"A and B are same\")\n",
    "else:\n",
    "    print(\"A and B are not same\")"
   ]
  },
  {
   "cell_type": "code",
   "execution_count": 43,
   "id": "8e95adff",
   "metadata": {},
   "outputs": [
    {
     "data": {
      "text/plain": [
       "2760062691632"
      ]
     },
     "execution_count": 43,
     "metadata": {},
     "output_type": "execute_result"
    }
   ],
   "source": [
    "id(A)"
   ]
  },
  {
   "cell_type": "code",
   "execution_count": 44,
   "id": "f6e5901c",
   "metadata": {},
   "outputs": [
    {
     "data": {
      "text/plain": [
       "2760062691632"
      ]
     },
     "execution_count": 44,
     "metadata": {},
     "output_type": "execute_result"
    }
   ],
   "source": [
    "id(B)"
   ]
  },
  {
   "cell_type": "code",
   "execution_count": 45,
   "id": "2160ce1b",
   "metadata": {},
   "outputs": [
    {
     "name": "stdout",
     "output_type": "stream",
     "text": [
      "A and B are not same\n"
     ]
    }
   ],
   "source": [
    "A = 1\n",
    "B = 2\n",
    "if A is B:\n",
    "    print(\"A and B are same\")\n",
    "else:\n",
    "    print(\"A and B are not same\")"
   ]
  },
  {
   "cell_type": "code",
   "execution_count": 48,
   "id": "f6ae43f6",
   "metadata": {},
   "outputs": [
    {
     "name": "stdout",
     "output_type": "stream",
     "text": [
      "2760062691632\n",
      "2760062691664\n"
     ]
    }
   ],
   "source": [
    "print(id(A))\n",
    "print(id(B))"
   ]
  },
  {
   "cell_type": "code",
   "execution_count": 49,
   "id": "c5219dff",
   "metadata": {},
   "outputs": [
    {
     "name": "stdout",
     "output_type": "stream",
     "text": [
      "A and B are not same\n"
     ]
    }
   ],
   "source": [
    "A = 1\n",
    "B = 2\n",
    "if A is not B:\n",
    "    print(\"A and B are not same\")\n",
    "else:\n",
    "    print(\"A and B are same\")"
   ]
  },
  {
   "cell_type": "code",
   "execution_count": 50,
   "id": "a36d981a",
   "metadata": {},
   "outputs": [
    {
     "name": "stdout",
     "output_type": "stream",
     "text": [
      "A and B are same\n"
     ]
    }
   ],
   "source": [
    "A = 1\n",
    "B = 1\n",
    "if A is not B:\n",
    "    print(\"A and B are not same\")\n",
    "else:\n",
    "    print(\"A and B are same\")"
   ]
  },
  {
   "cell_type": "code",
   "execution_count": 52,
   "id": "c54da2c9",
   "metadata": {},
   "outputs": [
    {
     "name": "stdout",
     "output_type": "stream",
     "text": [
      "A and B are same\n"
     ]
    }
   ],
   "source": [
    "A = 1\n",
    "B = 1\n",
    "if A == B:\n",
    "    print(\"A and B are same\")\n",
    "else:\n",
    "    print(\"A and B are not same\")"
   ]
  },
  {
   "cell_type": "code",
   "execution_count": 53,
   "id": "e550d472",
   "metadata": {},
   "outputs": [
    {
     "name": "stdout",
     "output_type": "stream",
     "text": [
      "A and B are not same\n"
     ]
    }
   ],
   "source": [
    "A = 1\n",
    "B = 1\n",
    "if A != B:\n",
    "    print(\"A and B are same\")\n",
    "else:\n",
    "    print(\"A and B are not same\")"
   ]
  },
  {
   "cell_type": "code",
   "execution_count": 54,
   "id": "bb3c6e0e",
   "metadata": {},
   "outputs": [
    {
     "data": {
      "text/plain": [
       "True"
      ]
     },
     "execution_count": 54,
     "metadata": {},
     "output_type": "execute_result"
    }
   ],
   "source": [
    "A = \"Shubhranshu\"\n",
    "B = \"Shubhranshu\"\n",
    "\n",
    "A is B"
   ]
  },
  {
   "cell_type": "code",
   "execution_count": 55,
   "id": "d1a57561",
   "metadata": {},
   "outputs": [
    {
     "data": {
      "text/plain": [
       "True"
      ]
     },
     "execution_count": 55,
     "metadata": {},
     "output_type": "execute_result"
    }
   ],
   "source": [
    "A = \"Shubhranshu\"\n",
    "B = \"Shubhranshu\"\n",
    "\n",
    "A == B"
   ]
  },
  {
   "cell_type": "code",
   "execution_count": 56,
   "id": "1b970abf",
   "metadata": {},
   "outputs": [],
   "source": [
    "A = \"Shubhranshu\"\n",
    "B = \"Shubhranshu\"\n",
    "\n",
    "A = B"
   ]
  },
  {
   "cell_type": "code",
   "execution_count": 59,
   "id": "a2929069",
   "metadata": {},
   "outputs": [
    {
     "data": {
      "text/plain": [
       "False"
      ]
     },
     "execution_count": 59,
     "metadata": {},
     "output_type": "execute_result"
    }
   ],
   "source": [
    "A = [\"Shubhranshu\",\"Mishra\"] # List data structures (called as array in other languages)\n",
    "B = [\"Shubhranshu\",\"Mishra\"]\n",
    "\n",
    "A is B"
   ]
  },
  {
   "cell_type": "code",
   "execution_count": 58,
   "id": "5545cc21",
   "metadata": {},
   "outputs": [
    {
     "data": {
      "text/plain": [
       "True"
      ]
     },
     "execution_count": 58,
     "metadata": {},
     "output_type": "execute_result"
    }
   ],
   "source": [
    "A = [\"Shubhranshu\",\"Mishra\"]\n",
    "B = [\"Shubhranshu\",\"Mishra\"]\n",
    "\n",
    "A == B"
   ]
  },
  {
   "cell_type": "code",
   "execution_count": 60,
   "id": "6be0a9d8",
   "metadata": {},
   "outputs": [
    {
     "data": {
      "text/plain": [
       "True"
      ]
     },
     "execution_count": 60,
     "metadata": {},
     "output_type": "execute_result"
    }
   ],
   "source": [
    "A is not B"
   ]
  },
  {
   "cell_type": "code",
   "execution_count": 61,
   "id": "a9a56b62",
   "metadata": {},
   "outputs": [
    {
     "name": "stdout",
     "output_type": "stream",
     "text": [
      "2760145636672\n",
      "2760145214912\n"
     ]
    }
   ],
   "source": [
    "print(id(A))\n",
    "print(id(B))"
   ]
  },
  {
   "cell_type": "code",
   "execution_count": 62,
   "id": "ade5a29b",
   "metadata": {},
   "outputs": [
    {
     "name": "stdout",
     "output_type": "stream",
     "text": [
      "Enter the value of A 1\n",
      "Enter the value of B 1\n"
     ]
    },
    {
     "data": {
      "text/plain": [
       "True"
      ]
     },
     "execution_count": 62,
     "metadata": {},
     "output_type": "execute_result"
    }
   ],
   "source": [
    "A = int(input(\"Enter the value of A \"))\n",
    "B = int(input(\"Enter the value of B \"))\n",
    "\n",
    "A is B"
   ]
  },
  {
   "cell_type": "code",
   "execution_count": 63,
   "id": "3244491d",
   "metadata": {},
   "outputs": [
    {
     "name": "stdout",
     "output_type": "stream",
     "text": [
      "Enter the value of B 1\n"
     ]
    },
    {
     "data": {
      "text/plain": [
       "True"
      ]
     },
     "execution_count": 63,
     "metadata": {},
     "output_type": "execute_result"
    }
   ],
   "source": [
    "A = 1\n",
    "B = int(input(\"Enter the value of B \"))\n",
    "\n",
    "A is B"
   ]
  },
  {
   "cell_type": "code",
   "execution_count": 64,
   "id": "8c960722",
   "metadata": {},
   "outputs": [
    {
     "name": "stdout",
     "output_type": "stream",
     "text": [
      "Enter the value of A 1\n",
      "Enter the value of B 3\n"
     ]
    },
    {
     "data": {
      "text/plain": [
       "False"
      ]
     },
     "execution_count": 64,
     "metadata": {},
     "output_type": "execute_result"
    }
   ],
   "source": [
    "A = int(input(\"Enter the value of A \"))\n",
    "B = int(input(\"Enter the value of B \"))\n",
    "\n",
    "A is B"
   ]
  },
  {
   "cell_type": "code",
   "execution_count": 66,
   "id": "b394b4f9",
   "metadata": {},
   "outputs": [
    {
     "name": "stdout",
     "output_type": "stream",
     "text": [
      "Enter your name: Shubhranshu Mishra\n",
      "He is learning Python programming langyage\n"
     ]
    }
   ],
   "source": [
    "name = input(\"Enter your name: \")\n",
    "\n",
    "if name == \"Shubhranshu Mishra\":\n",
    "    print(f\"He is learning Python programming langyage\")\n",
    "else:\n",
    "    print(f\"Its possible is that he/she may not learning the same\")"
   ]
  },
  {
   "cell_type": "code",
   "execution_count": 67,
   "id": "b527feb4",
   "metadata": {},
   "outputs": [
    {
     "name": "stdout",
     "output_type": "stream",
     "text": [
      "Enter your name: S Mishra\n",
      "Its possible is that he/she may not learning the same\n"
     ]
    }
   ],
   "source": [
    "name = input(\"Enter your name: \")\n",
    "\n",
    "if name == \"Shubhranshu Mishra\":\n",
    "    print(f\"He is learning Python programming langyage\")\n",
    "else:\n",
    "    print(f\"Its possible is that he/she may not learning the same\")"
   ]
  },
  {
   "cell_type": "code",
   "execution_count": 68,
   "id": "c94f696c",
   "metadata": {},
   "outputs": [
    {
     "name": "stdout",
     "output_type": "stream",
     "text": [
      "Enter your name: Alien\n",
      "Its possible is that he/she may not learning the same\n"
     ]
    }
   ],
   "source": [
    "name = input(\"Enter your name: \")\n",
    "\n",
    "if name == \"Shubhranshu Mishra\":\n",
    "    print(f\"He is learning Python programming langyage\")\n",
    "else:\n",
    "    print(f\"Its possible is that he/she may not learning the same\")"
   ]
  },
  {
   "cell_type": "code",
   "execution_count": 69,
   "id": "9c6076d5",
   "metadata": {},
   "outputs": [
    {
     "name": "stdout",
     "output_type": "stream",
     "text": [
      "Enter your name: shubhranshu mishra\n",
      "Its possible is that he/she may not learning the same\n"
     ]
    }
   ],
   "source": [
    "name = input(\"Enter your name: \")\n",
    "\n",
    "if name == \"Shubhranshu Mishra\":\n",
    "    print(f\"He is learning Python programming langyage\")\n",
    "else:\n",
    "    print(f\"Its possible is that he/she may not learning the same\")"
   ]
  },
  {
   "cell_type": "markdown",
   "id": "da9b10a6",
   "metadata": {},
   "source": [
    "## Comparison\n",
    "\n",
    "operation|meaning\n",
    "-|-\n",
    "<|A<B\n",
    "<=|A<=B\n",
    ">|A>B\n",
    ">=|A>=B"
   ]
  },
  {
   "cell_type": "code",
   "execution_count": 71,
   "id": "be2cc12c",
   "metadata": {},
   "outputs": [
    {
     "name": "stdout",
     "output_type": "stream",
     "text": [
      "attendance criteria met?: True\n",
      "assignment criteria met?: True\n",
      "The student is eligible to appear in final exam\n"
     ]
    }
   ],
   "source": [
    "attendance = 75\n",
    "assignment = 70\n",
    "\n",
    "print(f\"attendance criteria met?: {attendance >= 75}\")\n",
    "print(f\"assignment criteria met?: {assignment_submitted >= 70}\")\n",
    "\n",
    "if attendance >= 75 and assignment >=70:\n",
    "    print(\"The student is eligible to appear in final exam\")\n",
    "else:\n",
    "    print(\"The student is not eligible\")"
   ]
  },
  {
   "cell_type": "code",
   "execution_count": 72,
   "id": "c2414fab",
   "metadata": {},
   "outputs": [
    {
     "name": "stdout",
     "output_type": "stream",
     "text": [
      "Since you have scored: 40, you have passed the exam.\n"
     ]
    }
   ],
   "source": [
    "your_score = 40\n",
    "passing_marks = 33.33\n",
    "\n",
    "if your_score >= 33.33:\n",
    "    print(f\"Since you have scored: {your_score}, you have passed the exam.\")\n",
    "else:\n",
    "    print(\"Try to study properly and give re exam\")"
   ]
  },
  {
   "cell_type": "code",
   "execution_count": 73,
   "id": "b51ada0b",
   "metadata": {},
   "outputs": [
    {
     "name": "stdout",
     "output_type": "stream",
     "text": [
      "Try to study properly and give re exam\n"
     ]
    }
   ],
   "source": [
    "your_score = 30\n",
    "passing_marks = 33.33\n",
    "\n",
    "if your_score >= 33.33:\n",
    "    print(f\"Since you have scored: {your_score}, you have passed the exam.\")\n",
    "else:\n",
    "    print(\"Try to study properly and give re exam\")"
   ]
  },
  {
   "cell_type": "code",
   "execution_count": 74,
   "id": "b913d2b9",
   "metadata": {},
   "outputs": [
    {
     "name": "stdout",
     "output_type": "stream",
     "text": [
      "Try to study properly and give re exam\n"
     ]
    }
   ],
   "source": [
    "your_score = 33.33\n",
    "passing_marks = 33.33\n",
    "\n",
    "if your_score > 33.33: #Strict case\n",
    "    print(f\"Since you have scored: {your_score}, you have passed the exam.\")\n",
    "else:\n",
    "    print(\"Try to study properly and give re exam\")"
   ]
  },
  {
   "cell_type": "code",
   "execution_count": 76,
   "id": "61e65b76",
   "metadata": {},
   "outputs": [
    {
     "name": "stdout",
     "output_type": "stream",
     "text": [
      "Since you have scored: 76, you have passed the exam.\n",
      "Well done, you have scored really well!\n"
     ]
    }
   ],
   "source": [
    "your_score = 76\n",
    "passing_marks = 33.33\n",
    "distinction_marks = 75\n",
    "\n",
    "if your_score >= 33.33:\n",
    "    print(f\"Since you have scored: {your_score}, you have passed the exam.\")\n",
    "    if your_score > distinction_marks:\n",
    "        print(\"Well done, you have scored really well!\")\n",
    "else:\n",
    "    print(\"Try to study properly and give re exam\")"
   ]
  },
  {
   "cell_type": "code",
   "execution_count": 78,
   "id": "f0dd1d77",
   "metadata": {},
   "outputs": [
    {
     "name": "stdout",
     "output_type": "stream",
     "text": [
      "Since you have scored: 65, you have passed the exam.\n",
      "Don't worry, you have really studied well. Try to score more in future\n"
     ]
    }
   ],
   "source": [
    "your_score = 65\n",
    "passing_marks = 33.33\n",
    "distinction_marks = 75\n",
    "\n",
    "if your_score >= 33.33:\n",
    "    print(f\"Since you have scored: {your_score}, you have passed the exam.\")\n",
    "    if your_score > distinction_marks:\n",
    "        print(\"Well done, you have scored really well!\")\n",
    "    else:\n",
    "        print(\"Don't worry, you have really studied well. Try to score more in future\")\n",
    "else:\n",
    "    print(\"Try to study properly and give re exam\")"
   ]
  },
  {
   "cell_type": "code",
   "execution_count": null,
   "id": "ff82805b",
   "metadata": {},
   "outputs": [],
   "source": []
  }
 ],
 "metadata": {
  "kernelspec": {
   "display_name": "Python 3 (ipykernel)",
   "language": "python",
   "name": "python3"
  },
  "language_info": {
   "codemirror_mode": {
    "name": "ipython",
    "version": 3
   },
   "file_extension": ".py",
   "mimetype": "text/x-python",
   "name": "python",
   "nbconvert_exporter": "python",
   "pygments_lexer": "ipython3",
   "version": "3.9.12"
  }
 },
 "nbformat": 4,
 "nbformat_minor": 5
}
