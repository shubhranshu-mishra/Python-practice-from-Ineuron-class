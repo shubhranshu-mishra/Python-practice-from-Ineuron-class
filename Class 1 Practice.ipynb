{
 "cells": [
  {
   "cell_type": "code",
   "execution_count": 7,
   "id": "e8867d99",
   "metadata": {},
   "outputs": [
    {
     "name": "stdout",
     "output_type": "stream",
     "text": [
      "Hello World!\n"
     ]
    }
   ],
   "source": [
    "print(\"Hello World!\")"
   ]
  },
  {
   "cell_type": "code",
   "execution_count": 8,
   "id": "17afccdd",
   "metadata": {},
   "outputs": [
    {
     "name": "stdout",
     "output_type": "stream",
     "text": [
      "Greetings! Today is my 1st class\n",
      "Good Evening\n"
     ]
    }
   ],
   "source": [
    "print(\"Greetings! Today is my 1st class\")\n",
    "print('Good Evening')"
   ]
  },
  {
   "cell_type": "code",
   "execution_count": 9,
   "id": "6558602b",
   "metadata": {},
   "outputs": [
    {
     "ename": "NameError",
     "evalue": "name 'Print' is not defined",
     "output_type": "error",
     "traceback": [
      "\u001b[1;31m---------------------------------------------------------------------------\u001b[0m",
      "\u001b[1;31mNameError\u001b[0m                                 Traceback (most recent call last)",
      "Cell \u001b[1;32mIn[9], line 1\u001b[0m\n\u001b[1;32m----> 1\u001b[0m \u001b[43mPrint\u001b[49m(\u001b[38;5;124m\"\u001b[39m\u001b[38;5;124mHello World\u001b[39m\u001b[38;5;124m\"\u001b[39m) \u001b[38;5;66;03m# Python is case sensitive and functions must be written as defined\u001b[39;00m\n",
      "\u001b[1;31mNameError\u001b[0m: name 'Print' is not defined"
     ]
    }
   ],
   "source": [
    "Print(\"Hello World\") # Python is case sensitive and functions must be written as defined"
   ]
  },
  {
   "cell_type": "code",
   "execution_count": 10,
   "id": "002f7e7a",
   "metadata": {},
   "outputs": [
    {
     "data": {
      "text/plain": [
       "'Good Evening'"
      ]
     },
     "execution_count": 10,
     "metadata": {},
     "output_type": "execute_result"
    }
   ],
   "source": [
    "\"Good Evening\""
   ]
  },
  {
   "cell_type": "code",
   "execution_count": 11,
   "id": "c9faa726",
   "metadata": {},
   "outputs": [
    {
     "ename": "SyntaxError",
     "evalue": "Missing parentheses in call to 'print'. Did you mean print(\"Good Evening\" # Mind the error)? (382041453.py, line 1)",
     "output_type": "error",
     "traceback": [
      "\u001b[1;36m  Cell \u001b[1;32mIn[11], line 1\u001b[1;36m\u001b[0m\n\u001b[1;33m    print \"Good Evening\" # Mind the error\u001b[0m\n\u001b[1;37m          ^\u001b[0m\n\u001b[1;31mSyntaxError\u001b[0m\u001b[1;31m:\u001b[0m Missing parentheses in call to 'print'. Did you mean print(\"Good Evening\" # Mind the error)?\n"
     ]
    }
   ],
   "source": [
    "print \"Good Evening\" # Mind the error"
   ]
  },
  {
   "cell_type": "code",
   "execution_count": 12,
   "id": "8a7ed05c",
   "metadata": {},
   "outputs": [
    {
     "name": "stdout",
     "output_type": "stream",
     "text": [
      "Hi there\n"
     ]
    }
   ],
   "source": [
    "\"Good Morning\"\n",
    "print(\"Hi there\") #Mind it"
   ]
  },
  {
   "cell_type": "code",
   "execution_count": 13,
   "id": "c608a735",
   "metadata": {},
   "outputs": [
    {
     "ename": "SyntaxError",
     "evalue": "EOL while scanning string literal (3848610968.py, line 1)",
     "output_type": "error",
     "traceback": [
      "\u001b[1;36m  Cell \u001b[1;32mIn[13], line 1\u001b[1;36m\u001b[0m\n\u001b[1;33m    print(\"Good\u001b[0m\n\u001b[1;37m                ^\u001b[0m\n\u001b[1;31mSyntaxError\u001b[0m\u001b[1;31m:\u001b[0m EOL while scanning string literal\n"
     ]
    }
   ],
   "source": [
    "print(\"Good \n",
    "Evening\") # Multi line error, [5] -> correct one"
   ]
  },
  {
   "cell_type": "code",
   "execution_count": 14,
   "id": "dbcb7c0b",
   "metadata": {},
   "outputs": [
    {
     "name": "stdout",
     "output_type": "stream",
     "text": [
      "Good \n",
      "Evening\n"
     ]
    }
   ],
   "source": [
    "print(\"\"\"Good \n",
    "Evening\"\"\")"
   ]
  },
  {
   "cell_type": "code",
   "execution_count": 15,
   "id": "e708e150",
   "metadata": {},
   "outputs": [
    {
     "name": "stdout",
     "output_type": "stream",
     "text": [
      "My name is Shubhranshu Mishra\n",
      "I am learning Python programming language\n",
      "It is really interesting\n",
      "\n"
     ]
    }
   ],
   "source": [
    "print(\"\"\"My name is Shubhranshu Mishra\n",
    "I am learning Python programming language\n",
    "It is really interesting\n",
    "\"\"\")"
   ]
  },
  {
   "cell_type": "code",
   "execution_count": 16,
   "id": "e4fb9213",
   "metadata": {},
   "outputs": [
    {
     "name": "stdout",
     "output_type": "stream",
     "text": [
      "Say cheers!\n"
     ]
    }
   ],
   "source": [
    "\"\"\"\n",
    "This is a \n",
    "demonstration \n",
    "of multi line comment\n",
    "\"\"\"\n",
    "print(\"Say cheers!\")"
   ]
  },
  {
   "cell_type": "code",
   "execution_count": 17,
   "id": "dccad895",
   "metadata": {},
   "outputs": [
    {
     "name": "stdout",
     "output_type": "stream",
     "text": [
      "Hurrey!\n"
     ]
    }
   ],
   "source": [
    "# Alternate approach\n",
    "# of multi line comment\n",
    "print(\"Hurrey!\")"
   ]
  },
  {
   "cell_type": "code",
   "execution_count": 18,
   "id": "0dffd224",
   "metadata": {},
   "outputs": [
    {
     "name": "stdout",
     "output_type": "stream",
     "text": [
      "My name is 'Shubhranshu Mishra'\n",
      "My name is \"Shubhranshu Mishra\" \n",
      "My name is \"Shubhranshu Mishra\"\n"
     ]
    }
   ],
   "source": [
    "print(\"My name is 'Shubhranshu Mishra'\") #Exception case in print statement\n",
    "# or\n",
    "print(\"\"\"My name is \"Shubhranshu Mishra\" \"\"\")\n",
    "# or\n",
    "print('My name is \"Shubhranshu Mishra\"')"
   ]
  },
  {
   "cell_type": "markdown",
   "id": "d49466db",
   "metadata": {},
   "source": [
    "-------------------------"
   ]
  },
  {
   "cell_type": "code",
   "execution_count": 19,
   "id": "0570ec9e",
   "metadata": {},
   "outputs": [
    {
     "data": {
      "text/plain": [
       "583"
      ]
     },
     "execution_count": 19,
     "metadata": {},
     "output_type": "execute_result"
    }
   ],
   "source": [
    "125 + 458"
   ]
  },
  {
   "cell_type": "code",
   "execution_count": 20,
   "id": "d3b90d70",
   "metadata": {},
   "outputs": [
    {
     "data": {
      "text/plain": [
       "73840"
      ]
     },
     "execution_count": 20,
     "metadata": {},
     "output_type": "execute_result"
    }
   ],
   "source": [
    "142 * 520"
   ]
  },
  {
   "cell_type": "code",
   "execution_count": 21,
   "id": "8a09549f",
   "metadata": {},
   "outputs": [
    {
     "data": {
      "text/plain": [
       "0.2721238938053097"
      ]
     },
     "execution_count": 21,
     "metadata": {},
     "output_type": "execute_result"
    }
   ],
   "source": [
    "123 / 452"
   ]
  },
  {
   "cell_type": "code",
   "execution_count": 22,
   "id": "52dc1d09",
   "metadata": {},
   "outputs": [
    {
     "data": {
      "text/plain": [
       "23716"
      ]
     },
     "execution_count": 22,
     "metadata": {},
     "output_type": "execute_result"
    }
   ],
   "source": [
    "154**2 # Power of the given number raise to 2"
   ]
  },
  {
   "cell_type": "code",
   "execution_count": 23,
   "id": "270bfa45",
   "metadata": {},
   "outputs": [
    {
     "data": {
      "text/plain": [
       "3515625"
      ]
     },
     "execution_count": 23,
     "metadata": {},
     "output_type": "execute_result"
    }
   ],
   "source": [
    "(-1875)**2"
   ]
  },
  {
   "cell_type": "code",
   "execution_count": 24,
   "id": "97aa4ea8",
   "metadata": {},
   "outputs": [
    {
     "data": {
      "text/plain": [
       "0"
      ]
     },
     "execution_count": 24,
     "metadata": {},
     "output_type": "execute_result"
    }
   ],
   "source": [
    "1578 % 2 #Modulo operator gives the value of remainder"
   ]
  },
  {
   "cell_type": "code",
   "execution_count": 25,
   "id": "734cfb80",
   "metadata": {},
   "outputs": [
    {
     "data": {
      "text/plain": [
       "1"
      ]
     },
     "execution_count": 25,
     "metadata": {},
     "output_type": "execute_result"
    }
   ],
   "source": [
    "123 % 2"
   ]
  },
  {
   "cell_type": "code",
   "execution_count": 26,
   "id": "9665b8b6",
   "metadata": {},
   "outputs": [
    {
     "name": "stdout",
     "output_type": "stream",
     "text": [
      "Result\n"
     ]
    }
   ],
   "source": [
    "125 * 458\n",
    "print(\"Result\")"
   ]
  },
  {
   "cell_type": "code",
   "execution_count": 27,
   "id": "4ce791b7",
   "metadata": {},
   "outputs": [
    {
     "name": "stdout",
     "output_type": "stream",
     "text": [
      "125 * 458\n",
      "Result\n"
     ]
    }
   ],
   "source": [
    "print(\"125 * 458\")\n",
    "print(\"Result\")"
   ]
  },
  {
   "cell_type": "code",
   "execution_count": 28,
   "id": "e70f7a28",
   "metadata": {},
   "outputs": [
    {
     "name": "stdout",
     "output_type": "stream",
     "text": [
      "57250\n",
      "Result\n"
     ]
    }
   ],
   "source": [
    "print(125 * 458)\n",
    "print(\"Result\")"
   ]
  },
  {
   "cell_type": "markdown",
   "id": "a7406990",
   "metadata": {},
   "source": [
    "--------------------"
   ]
  },
  {
   "cell_type": "markdown",
   "id": "da6574a5",
   "metadata": {},
   "source": [
    "Variable in Python\n",
    "# Variable in Python\n",
    "## Variable in Python\n",
    "### Variable in Python\n",
    "#### Variable in Python\n",
    "###### Variable in Python"
   ]
  },
  {
   "cell_type": "code",
   "execution_count": 29,
   "id": "ae789832",
   "metadata": {},
   "outputs": [
    {
     "name": "stdout",
     "output_type": "stream",
     "text": [
      "Use # to increase font size in markdown\n"
     ]
    }
   ],
   "source": [
    "\"\"\"\n",
    "Variable in Python\n",
    "# Variable in Python\n",
    "## Variable in Python\n",
    "### Variable in Python\n",
    "#### Variable in Python\n",
    "###### Variable in Python\n",
    "\"\"\"\n",
    "print(\"Use # to increase font size in markdown\")"
   ]
  },
  {
   "cell_type": "code",
   "execution_count": 30,
   "id": "f585b5b5",
   "metadata": {},
   "outputs": [],
   "source": [
    "x = 10"
   ]
  },
  {
   "cell_type": "code",
   "execution_count": 31,
   "id": "2d44c571",
   "metadata": {},
   "outputs": [
    {
     "name": "stdout",
     "output_type": "stream",
     "text": [
      "10\n"
     ]
    }
   ],
   "source": [
    "print(x)"
   ]
  },
  {
   "cell_type": "code",
   "execution_count": 32,
   "id": "6116f4d5",
   "metadata": {},
   "outputs": [],
   "source": [
    "y = 10"
   ]
  },
  {
   "cell_type": "code",
   "execution_count": 33,
   "id": "bc20ffd1",
   "metadata": {},
   "outputs": [
    {
     "name": "stdout",
     "output_type": "stream",
     "text": [
      "y\n"
     ]
    }
   ],
   "source": [
    "print(\"y\")"
   ]
  },
  {
   "cell_type": "code",
   "execution_count": 34,
   "id": "8caa9856",
   "metadata": {},
   "outputs": [
    {
     "name": "stdout",
     "output_type": "stream",
     "text": [
      "20\n"
     ]
    }
   ],
   "source": [
    "print(x + y)"
   ]
  },
  {
   "cell_type": "code",
   "execution_count": 35,
   "id": "24129dfb",
   "metadata": {},
   "outputs": [
    {
     "name": "stdout",
     "output_type": "stream",
     "text": [
      "1.0\n"
     ]
    }
   ],
   "source": [
    "print(x / y)"
   ]
  },
  {
   "cell_type": "code",
   "execution_count": 36,
   "id": "0984905a",
   "metadata": {},
   "outputs": [],
   "source": [
    "ten = 10 # Variable name should start from alphabet\n",
    "ten_number = 10\n",
    "tenNumber = 10"
   ]
  },
  {
   "cell_type": "code",
   "execution_count": 37,
   "id": "58273395",
   "metadata": {},
   "outputs": [
    {
     "ename": "SyntaxError",
     "evalue": "cannot assign to operator (770747323.py, line 1)",
     "output_type": "error",
     "traceback": [
      "\u001b[1;36m  Cell \u001b[1;32mIn[37], line 1\u001b[1;36m\u001b[0m\n\u001b[1;33m    ten%number = 10 # Variable name should not contain any special charatcter\u001b[0m\n\u001b[1;37m    ^\u001b[0m\n\u001b[1;31mSyntaxError\u001b[0m\u001b[1;31m:\u001b[0m cannot assign to operator\n"
     ]
    }
   ],
   "source": [
    "ten%number = 10 # Variable name should not contain any special charatcter\n",
    "ten* = 10"
   ]
  },
  {
   "cell_type": "code",
   "execution_count": 38,
   "id": "325e64f3",
   "metadata": {},
   "outputs": [],
   "source": [
    "ten10 = 10"
   ]
  },
  {
   "cell_type": "code",
   "execution_count": 39,
   "id": "cfceb86f",
   "metadata": {},
   "outputs": [
    {
     "ename": "SyntaxError",
     "evalue": "invalid syntax (130689908.py, line 1)",
     "output_type": "error",
     "traceback": [
      "\u001b[1;36m  Cell \u001b[1;32mIn[39], line 1\u001b[1;36m\u001b[0m\n\u001b[1;33m    10ten = 10 # Variable name should not start with number but it can contain numbers\u001b[0m\n\u001b[1;37m      ^\u001b[0m\n\u001b[1;31mSyntaxError\u001b[0m\u001b[1;31m:\u001b[0m invalid syntax\n"
     ]
    }
   ],
   "source": [
    "10ten = 10 # Variable name should not start with number but it can contain numbers"
   ]
  },
  {
   "cell_type": "code",
   "execution_count": 40,
   "id": "3f2da320",
   "metadata": {},
   "outputs": [],
   "source": [
    "__num = 10 # Hidden variable, which I dont want to show to the user"
   ]
  },
  {
   "cell_type": "code",
   "execution_count": 41,
   "id": "6b3998ec",
   "metadata": {},
   "outputs": [
    {
     "ename": "SyntaxError",
     "evalue": "invalid syntax (2262126045.py, line 1)",
     "output_type": "error",
     "traceback": [
      "\u001b[1;36m  Cell \u001b[1;32mIn[41], line 1\u001b[1;36m\u001b[0m\n\u001b[1;33m    ten number = 10\u001b[0m\n\u001b[1;37m        ^\u001b[0m\n\u001b[1;31mSyntaxError\u001b[0m\u001b[1;31m:\u001b[0m invalid syntax\n"
     ]
    }
   ],
   "source": [
    "ten number = 10"
   ]
  },
  {
   "cell_type": "code",
   "execution_count": 42,
   "id": "080a1f09",
   "metadata": {},
   "outputs": [],
   "source": [
    "ten_number = 10 # Spaces are not allowed in variable name"
   ]
  },
  {
   "cell_type": "code",
   "execution_count": 43,
   "id": "0b9123f5",
   "metadata": {},
   "outputs": [],
   "source": [
    "_ = 10 # Dummy variable"
   ]
  },
  {
   "cell_type": "markdown",
   "id": "791a36a9",
   "metadata": {},
   "source": [
    "-------------"
   ]
  },
  {
   "cell_type": "markdown",
   "id": "f34225d5",
   "metadata": {},
   "source": [
    "# Fundamental Data Type"
   ]
  },
  {
   "cell_type": "markdown",
   "id": "c9557d2d",
   "metadata": {},
   "source": [
    "Integer"
   ]
  },
  {
   "cell_type": "code",
   "execution_count": 44,
   "id": "4f51d22d",
   "metadata": {},
   "outputs": [],
   "source": [
    "a = 7"
   ]
  },
  {
   "cell_type": "code",
   "execution_count": 45,
   "id": "230b59d2",
   "metadata": {},
   "outputs": [
    {
     "data": {
      "text/plain": [
       "int"
      ]
     },
     "execution_count": 45,
     "metadata": {},
     "output_type": "execute_result"
    }
   ],
   "source": [
    "type(a)"
   ]
  },
  {
   "cell_type": "code",
   "execution_count": 46,
   "id": "ec79b40c",
   "metadata": {},
   "outputs": [
    {
     "data": {
      "text/plain": [
       "int"
      ]
     },
     "execution_count": 46,
     "metadata": {},
     "output_type": "execute_result"
    }
   ],
   "source": [
    "b = 77777\n",
    "type(b)"
   ]
  },
  {
   "cell_type": "markdown",
   "id": "048456e0",
   "metadata": {},
   "source": [
    "Float- number with decimal "
   ]
  },
  {
   "cell_type": "code",
   "execution_count": 47,
   "id": "b637ac78",
   "metadata": {},
   "outputs": [],
   "source": [
    "pi = 3.14"
   ]
  },
  {
   "cell_type": "code",
   "execution_count": 48,
   "id": "a3b924d9",
   "metadata": {},
   "outputs": [
    {
     "data": {
      "text/plain": [
       "float"
      ]
     },
     "execution_count": 48,
     "metadata": {},
     "output_type": "execute_result"
    }
   ],
   "source": [
    "type(pi)"
   ]
  },
  {
   "cell_type": "code",
   "execution_count": 49,
   "id": "50bcd4e8",
   "metadata": {},
   "outputs": [
    {
     "data": {
      "text/plain": [
       "3.142857142857143"
      ]
     },
     "execution_count": 49,
     "metadata": {},
     "output_type": "execute_result"
    }
   ],
   "source": [
    "pi_1 = 22 / 7\n",
    "pi_1"
   ]
  },
  {
   "cell_type": "code",
   "execution_count": 50,
   "id": "510a4006",
   "metadata": {},
   "outputs": [
    {
     "data": {
      "text/plain": [
       "float"
      ]
     },
     "execution_count": 50,
     "metadata": {},
     "output_type": "execute_result"
    }
   ],
   "source": [
    "type(pi)"
   ]
  },
  {
   "cell_type": "code",
   "execution_count": 51,
   "id": "8156e7a1",
   "metadata": {},
   "outputs": [
    {
     "data": {
      "text/plain": [
       "float"
      ]
     },
     "execution_count": 51,
     "metadata": {},
     "output_type": "execute_result"
    }
   ],
   "source": [
    "x = 2.0\n",
    "type(x)"
   ]
  },
  {
   "cell_type": "code",
   "execution_count": 52,
   "id": "c1c0b43a",
   "metadata": {},
   "outputs": [
    {
     "data": {
      "text/plain": [
       "int"
      ]
     },
     "execution_count": 52,
     "metadata": {},
     "output_type": "execute_result"
    }
   ],
   "source": [
    "y = 2\n",
    "type(y)"
   ]
  },
  {
   "cell_type": "markdown",
   "id": "18dbf263",
   "metadata": {},
   "source": [
    "Complex Number"
   ]
  },
  {
   "cell_type": "code",
   "execution_count": 55,
   "id": "7e5790a2",
   "metadata": {},
   "outputs": [],
   "source": [
    "a = 2  + 3j"
   ]
  },
  {
   "cell_type": "code",
   "execution_count": 56,
   "id": "551fcc3d",
   "metadata": {},
   "outputs": [
    {
     "data": {
      "text/plain": [
       "(2+3j)"
      ]
     },
     "execution_count": 56,
     "metadata": {},
     "output_type": "execute_result"
    }
   ],
   "source": [
    "a"
   ]
  },
  {
   "cell_type": "code",
   "execution_count": 57,
   "id": "e9072d62",
   "metadata": {},
   "outputs": [
    {
     "data": {
      "text/plain": [
       "complex"
      ]
     },
     "execution_count": 57,
     "metadata": {},
     "output_type": "execute_result"
    }
   ],
   "source": [
    "type(a)"
   ]
  },
  {
   "cell_type": "code",
   "execution_count": 58,
   "id": "4c00bf7d",
   "metadata": {},
   "outputs": [
    {
     "data": {
      "text/plain": [
       "2.0"
      ]
     },
     "execution_count": 58,
     "metadata": {},
     "output_type": "execute_result"
    }
   ],
   "source": [
    "a.real"
   ]
  },
  {
   "cell_type": "code",
   "execution_count": 60,
   "id": "93ee7374",
   "metadata": {},
   "outputs": [
    {
     "data": {
      "text/plain": [
       "3.0"
      ]
     },
     "execution_count": 60,
     "metadata": {},
     "output_type": "execute_result"
    }
   ],
   "source": [
    "a.imag"
   ]
  },
  {
   "cell_type": "markdown",
   "id": "a84cb437",
   "metadata": {},
   "source": [
    "## Dynamic Typing"
   ]
  },
  {
   "cell_type": "code",
   "execution_count": 66,
   "id": "ca46c388",
   "metadata": {},
   "outputs": [
    {
     "data": {
      "text/plain": [
       "float"
      ]
     },
     "execution_count": 66,
     "metadata": {},
     "output_type": "execute_result"
    }
   ],
   "source": [
    "a = 22\n",
    "type(a)\n",
    "a = 22.2\n",
    "type(a)"
   ]
  },
  {
   "cell_type": "code",
   "execution_count": 68,
   "id": "652cdc64",
   "metadata": {},
   "outputs": [
    {
     "name": "stdout",
     "output_type": "stream",
     "text": [
      "<class 'int'>\n",
      "<class 'float'>\n",
      "<class 'str'>\n"
     ]
    }
   ],
   "source": [
    "a = 22\n",
    "print(type(a))\n",
    "a = 22.2\n",
    "print(type(a))\n",
    "a = \"Shubhranshu\"\n",
    "print(type(a))"
   ]
  },
  {
   "cell_type": "code",
   "execution_count": 69,
   "id": "1ea83f80",
   "metadata": {},
   "outputs": [
    {
     "name": "stdout",
     "output_type": "stream",
     "text": [
      "Shubhranshu\n"
     ]
    }
   ],
   "source": [
    "print(a)"
   ]
  },
  {
   "cell_type": "markdown",
   "id": "426f3cd5",
   "metadata": {},
   "source": [
    "## Strong typing"
   ]
  },
  {
   "cell_type": "code",
   "execution_count": 70,
   "id": "f63abf0e",
   "metadata": {},
   "outputs": [
    {
     "ename": "TypeError",
     "evalue": "can only concatenate str (not \"int\") to str",
     "output_type": "error",
     "traceback": [
      "\u001b[1;31m---------------------------------------------------------------------------\u001b[0m",
      "\u001b[1;31mTypeError\u001b[0m                                 Traceback (most recent call last)",
      "Cell \u001b[1;32mIn[70], line 1\u001b[0m\n\u001b[1;32m----> 1\u001b[0m \u001b[38;5;124;43m\"\u001b[39;49m\u001b[38;5;124;43mDay\u001b[39;49m\u001b[38;5;124;43m\"\u001b[39;49m\u001b[43m \u001b[49m\u001b[38;5;241;43m+\u001b[39;49m\u001b[43m \u001b[49m\u001b[38;5;241;43m1\u001b[39;49m\n",
      "\u001b[1;31mTypeError\u001b[0m: can only concatenate str (not \"int\") to str"
     ]
    }
   ],
   "source": [
    "\"Day\" + 1"
   ]
  },
  {
   "cell_type": "code",
   "execution_count": 71,
   "id": "b7e9d915",
   "metadata": {},
   "outputs": [
    {
     "data": {
      "text/plain": [
       "23.2"
      ]
     },
     "execution_count": 71,
     "metadata": {},
     "output_type": "execute_result"
    }
   ],
   "source": [
    "22.2 + 1"
   ]
  },
  {
   "cell_type": "code",
   "execution_count": 81,
   "id": "f17aece6",
   "metadata": {},
   "outputs": [
    {
     "data": {
      "text/plain": [
       "'Day 1'"
      ]
     },
     "execution_count": 81,
     "metadata": {},
     "output_type": "execute_result"
    }
   ],
   "source": [
    "\"Day \" + \"1\""
   ]
  },
  {
   "cell_type": "code",
   "execution_count": 73,
   "id": "faba9e0d",
   "metadata": {},
   "outputs": [
    {
     "data": {
      "text/plain": [
       "44"
      ]
     },
     "execution_count": 73,
     "metadata": {},
     "output_type": "execute_result"
    }
   ],
   "source": [
    "22 + 22"
   ]
  },
  {
   "cell_type": "code",
   "execution_count": 75,
   "id": "f7db9fec",
   "metadata": {},
   "outputs": [
    {
     "data": {
      "text/plain": [
       "'2222'"
      ]
     },
     "execution_count": 75,
     "metadata": {},
     "output_type": "execute_result"
    }
   ],
   "source": [
    "\"22\" + \"22\""
   ]
  },
  {
   "cell_type": "code",
   "execution_count": 76,
   "id": "3cd85a13",
   "metadata": {},
   "outputs": [
    {
     "ename": "TypeError",
     "evalue": "can only concatenate str (not \"int\") to str",
     "output_type": "error",
     "traceback": [
      "\u001b[1;31m---------------------------------------------------------------------------\u001b[0m",
      "\u001b[1;31mTypeError\u001b[0m                                 Traceback (most recent call last)",
      "Cell \u001b[1;32mIn[76], line 1\u001b[0m\n\u001b[1;32m----> 1\u001b[0m \u001b[38;5;124;43m\"\u001b[39;49m\u001b[38;5;124;43m22\u001b[39;49m\u001b[38;5;124;43m\"\u001b[39;49m\u001b[43m \u001b[49m\u001b[38;5;241;43m+\u001b[39;49m\u001b[43m \u001b[49m\u001b[38;5;241;43m22\u001b[39;49m\n",
      "\u001b[1;31mTypeError\u001b[0m: can only concatenate str (not \"int\") to str"
     ]
    }
   ],
   "source": [
    "\"22\" + 22"
   ]
  },
  {
   "cell_type": "code",
   "execution_count": 78,
   "id": "00513b80",
   "metadata": {},
   "outputs": [
    {
     "data": {
      "text/plain": [
       "'2222'"
      ]
     },
     "execution_count": 78,
     "metadata": {},
     "output_type": "execute_result"
    }
   ],
   "source": [
    "'22' + \"22\""
   ]
  },
  {
   "cell_type": "code",
   "execution_count": 80,
   "id": "d47a493e",
   "metadata": {},
   "outputs": [
    {
     "data": {
      "text/plain": [
       "'Shubhranshu Mishra'"
      ]
     },
     "execution_count": 80,
     "metadata": {},
     "output_type": "execute_result"
    }
   ],
   "source": [
    "\"Shubhranshu \" + \"Mishra\""
   ]
  },
  {
   "cell_type": "code",
   "execution_count": 83,
   "id": "7f7a5280",
   "metadata": {},
   "outputs": [
    {
     "name": "stdout",
     "output_type": "stream",
     "text": [
      "Hello, Welcome to class of Python language\n"
     ]
    }
   ],
   "source": [
    "language = \"Python\"\n",
    "print(\"Hello, Welcome to class of \" + language + \" language\")"
   ]
  },
  {
   "cell_type": "code",
   "execution_count": 84,
   "id": "aebd916b",
   "metadata": {},
   "outputs": [],
   "source": [
    "# [83] is allowed but rarely used"
   ]
  },
  {
   "cell_type": "code",
   "execution_count": 86,
   "id": "6cbcc124",
   "metadata": {},
   "outputs": [
    {
     "name": "stdout",
     "output_type": "stream",
     "text": [
      "Hi, Welcome to Java language\n"
     ]
    }
   ],
   "source": [
    "# f string -> formatted string method\n",
    "language = \"Java\"\n",
    "print(f\"Hi, Welcome to {language} language\")"
   ]
  },
  {
   "cell_type": "code",
   "execution_count": 88,
   "id": "93ee6739",
   "metadata": {},
   "outputs": [
    {
     "name": "stdout",
     "output_type": "stream",
     "text": [
      "Hi, Welcome to {language} language\n"
     ]
    }
   ],
   "source": [
    "language = \"Python\"\n",
    "print(\"Hi, Welcome to {language} language\") #Without f string"
   ]
  },
  {
   "cell_type": "code",
   "execution_count": 90,
   "id": "5907709b",
   "metadata": {},
   "outputs": [
    {
     "name": "stdout",
     "output_type": "stream",
     "text": [
      "Hello, Today is my first class of python language\n"
     ]
    }
   ],
   "source": [
    "num = \"first\"\n",
    "language = \"python\"\n",
    "print(f\"Hello, Today is my {num} class of {language} language\")"
   ]
  },
  {
   "cell_type": "code",
   "execution_count": 93,
   "id": "a49e4372",
   "metadata": {},
   "outputs": [
    {
     "name": "stdout",
     "output_type": "stream",
     "text": [
      "Hi, Welcome to Python language\n",
      "Hello, Today is my first class of python language\n"
     ]
    }
   ],
   "source": [
    "## Old method\n",
    "\n",
    "language = \"Python\"\n",
    "print(\"Hi, Welcome to {} language\".format(language))\n",
    "\n",
    "num = \"first\"\n",
    "language = \"python\"\n",
    "print(\"Hello, Today is my {} class of {} language\".format(num,language))"
   ]
  },
  {
   "cell_type": "code",
   "execution_count": 95,
   "id": "5cead731",
   "metadata": {},
   "outputs": [
    {
     "name": "stdout",
     "output_type": "stream",
     "text": [
      "The result of sum of a: 22 and b: 58 is c: 80\n"
     ]
    }
   ],
   "source": [
    "a = 22\n",
    "b = 58\n",
    "c = a + b\n",
    "\n",
    "print(f\"The result of sum of a: {a} and b: {b} is c: {c}\")"
   ]
  },
  {
   "cell_type": "code",
   "execution_count": 96,
   "id": "d17e5d5c",
   "metadata": {},
   "outputs": [
    {
     "name": "stdout",
     "output_type": "stream",
     "text": [
      "The result of sum of 22 and 58 is 80\n"
     ]
    }
   ],
   "source": [
    "a = 22\n",
    "b = 58\n",
    "c = a + b\n",
    "\n",
    "print(f\"The result of sum of {a} and {b} is {c}\")"
   ]
  },
  {
   "cell_type": "markdown",
   "id": "064a1608",
   "metadata": {},
   "source": [
    "## Boolean"
   ]
  },
  {
   "cell_type": "markdown",
   "id": "704fee83",
   "metadata": {},
   "source": [
    "True/ False"
   ]
  },
  {
   "cell_type": "code",
   "execution_count": 97,
   "id": "39629951",
   "metadata": {},
   "outputs": [
    {
     "name": "stdout",
     "output_type": "stream",
     "text": [
      "<class 'bool'>\n",
      "<class 'bool'>\n"
     ]
    }
   ],
   "source": [
    "one = True\n",
    "two = False\n",
    "\n",
    "print(type(one))\n",
    "print(type(two))"
   ]
  },
  {
   "cell_type": "code",
   "execution_count": 109,
   "id": "ceb9f041",
   "metadata": {},
   "outputs": [
    {
     "name": "stdout",
     "output_type": "stream",
     "text": [
      "You are on time: True\n"
     ]
    }
   ],
   "source": [
    "wake_up_at = 6\n",
    "went_to_school = 8\n",
    "\n",
    "you_are_on_time = wake_up_at < went_to_school\n",
    "\n",
    "print(f\"You are on time: {you_are_on_time}\")"
   ]
  },
  {
   "cell_type": "code",
   "execution_count": 113,
   "id": "56ce27a5",
   "metadata": {},
   "outputs": [
    {
     "name": "stdout",
     "output_type": "stream",
     "text": [
      "You are on time: False\n"
     ]
    }
   ],
   "source": [
    "wake_up_at = 6\n",
    "went_to_school = 8\n",
    "\n",
    "you_are_on_time = wake_up_at > went_to_school\n",
    "\n",
    "print(f\"You are on time: {you_are_on_time}\")\n",
    "# Illogical example though"
   ]
  },
  {
   "cell_type": "markdown",
   "id": "51df31c0",
   "metadata": {},
   "source": [
    "= means assignment\n",
    "\n",
    "== means comparing equality"
   ]
  },
  {
   "cell_type": "code",
   "execution_count": 115,
   "id": "1fbfc5f2",
   "metadata": {},
   "outputs": [
    {
     "data": {
      "text/plain": [
       "True"
      ]
     },
     "execution_count": 115,
     "metadata": {},
     "output_type": "execute_result"
    }
   ],
   "source": [
    "is_raining = False\n",
    "umbralla_available = False\n",
    "go_to_school = is_raining == umbralla_available\n",
    "go_to_school"
   ]
  },
  {
   "cell_type": "code",
   "execution_count": 117,
   "id": "dea247d7",
   "metadata": {},
   "outputs": [
    {
     "data": {
      "text/plain": [
       "False"
      ]
     },
     "execution_count": 117,
     "metadata": {},
     "output_type": "execute_result"
    }
   ],
   "source": [
    "is_raining = True\n",
    "umbralla_available = False\n",
    "go_to_school = is_raining == umbralla_available\n",
    "go_to_school"
   ]
  },
  {
   "cell_type": "code",
   "execution_count": 120,
   "id": "5f3ccd00",
   "metadata": {},
   "outputs": [
    {
     "data": {
      "text/plain": [
       "False"
      ]
     },
     "execution_count": 120,
     "metadata": {},
     "output_type": "execute_result"
    }
   ],
   "source": [
    "numA = 5\n",
    "numB = 6\n",
    "numA == numB"
   ]
  },
  {
   "cell_type": "code",
   "execution_count": 121,
   "id": "950b2bb0",
   "metadata": {},
   "outputs": [
    {
     "data": {
      "text/plain": [
       "True"
      ]
     },
     "execution_count": 121,
     "metadata": {},
     "output_type": "execute_result"
    }
   ],
   "source": [
    "numA = 5\n",
    "numB = 5\n",
    "numA == numB"
   ]
  },
  {
   "cell_type": "code",
   "execution_count": 122,
   "id": "7160415a",
   "metadata": {},
   "outputs": [
    {
     "data": {
      "text/plain": [
       "False"
      ]
     },
     "execution_count": 122,
     "metadata": {},
     "output_type": "execute_result"
    }
   ],
   "source": [
    "numA = 5\n",
    "numB = 6\n",
    "numA > numB"
   ]
  },
  {
   "cell_type": "code",
   "execution_count": 123,
   "id": "6e9aceac",
   "metadata": {},
   "outputs": [
    {
     "data": {
      "text/plain": [
       "True"
      ]
     },
     "execution_count": 123,
     "metadata": {},
     "output_type": "execute_result"
    }
   ],
   "source": [
    "numA = 5\n",
    "numB = 5\n",
    "numA >= numB"
   ]
  }
 ],
 "metadata": {
  "kernelspec": {
   "display_name": "Python 3 (ipykernel)",
   "language": "python",
   "name": "python3"
  },
  "language_info": {
   "codemirror_mode": {
    "name": "ipython",
    "version": 3
   },
   "file_extension": ".py",
   "mimetype": "text/x-python",
   "name": "python",
   "nbconvert_exporter": "python",
   "pygments_lexer": "ipython3",
   "version": "3.9.12"
  }
 },
 "nbformat": 4,
 "nbformat_minor": 5
}
