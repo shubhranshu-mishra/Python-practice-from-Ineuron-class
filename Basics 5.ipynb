{
 "cells": [
  {
   "cell_type": "markdown",
   "id": "952fe92d",
   "metadata": {},
   "source": [
    "## If elif"
   ]
  },
  {
   "cell_type": "markdown",
   "id": "85bc4441",
   "metadata": {},
   "source": [
    "Online food orders- Zomato App, Swiggy, Uber eats\n",
    "\n",
    "- if order more than Rs 499\n",
    "    - Discount = 20%\n",
    "- if order more than Rs 999\n",
    "    - Discount = 30%"
   ]
  },
  {
   "cell_type": "code",
   "execution_count": 1,
   "id": "951063fa",
   "metadata": {},
   "outputs": [
    {
     "name": "stdout",
     "output_type": "stream",
     "text": [
      "cart total: 1290\n",
      "Amount to be paid: 903.0\n"
     ]
    }
   ],
   "source": [
    "total_amount = 90 + 100 + 100 + 1000\n",
    "\n",
    "print(f\"cart total: {total_amount}\")\n",
    "\n",
    "if total_amount > 999:\n",
    "    price_after_discount = total_amount * 70/100\n",
    "    print(f\"Amount to be paid: {price_after_discount}\")\n",
    "elif total_amount <=999 and total_amount > 499:\n",
    "    price_after_dicount = total_amount * 80/100\n",
    "    print(f\"Amount to be paid: {price_after_discount}\")\n",
    "else:\n",
    "    print(f\"Amount to be paid: {total_amount}\")"
   ]
  },
  {
   "cell_type": "code",
   "execution_count": 2,
   "id": "16217bf1",
   "metadata": {},
   "outputs": [
    {
     "name": "stdout",
     "output_type": "stream",
     "text": [
      "cart total: 190\n",
      "Amount to be paid: 190\n"
     ]
    }
   ],
   "source": [
    "total_amount = 90 + 100 \n",
    "\n",
    "print(f\"cart total: {total_amount}\")\n",
    "\n",
    "if total_amount > 999:\n",
    "    price_after_discount = total_amount * 70/100\n",
    "    print(f\"Amount to be paid: {price_after_discount}\")\n",
    "elif total_amount <=999 and total_amount > 499:\n",
    "    price_after_dicount = total_amount * 80/100\n",
    "    print(f\"Amount to be paid: {price_after_discount}\")\n",
    "else:\n",
    "    print(f\"Amount to be paid: {total_amount}\")"
   ]
  },
  {
   "cell_type": "code",
   "execution_count": 3,
   "id": "b2457184",
   "metadata": {},
   "outputs": [
    {
     "name": "stdout",
     "output_type": "stream",
     "text": [
      "cart total: 790\n",
      "Amount to be paid: 903.0\n"
     ]
    }
   ],
   "source": [
    "total_amount = 90 + 100 + 100 + 500\n",
    "\n",
    "print(f\"cart total: {total_amount}\")\n",
    "\n",
    "if total_amount > 999:\n",
    "    price_after_discount = total_amount * 70/100\n",
    "    print(f\"Amount to be paid: {price_after_discount}\")\n",
    "elif total_amount <=999 and total_amount > 499:\n",
    "    price_after_dicount = total_amount * 80/100\n",
    "    print(f\"Amount to be paid: {price_after_discount}\")\n",
    "else:\n",
    "    print(f\"Amount to be paid: {total_amount}\")"
   ]
  },
  {
   "cell_type": "markdown",
   "id": "fcc11bd0",
   "metadata": {},
   "source": [
    "Online food orders- Zomato App, Swiggy, Uber eats\n",
    "\n",
    "- if order more than Rs 499\n",
    "    - Discount = 20%\n",
    "- if order more than Rs 999\n",
    "    - Discount = 30%\n",
    "- if order more than Rs 1499\n",
    "    - Discount = 40%"
   ]
  },
  {
   "cell_type": "code",
   "execution_count": 5,
   "id": "af5caf77",
   "metadata": {},
   "outputs": [
    {
     "name": "stdout",
     "output_type": "stream",
     "text": [
      "cart total: 1790\n",
      "Amount to be paid: 1074.0\n"
     ]
    }
   ],
   "source": [
    "total_amount = 90 + 100 + 100 + 1500\n",
    "\n",
    "print(f\"cart total: {total_amount}\")\n",
    "if total_amount > 1499:\n",
    "    price_after_discount = total_amount * 60/100\n",
    "    print(f\"Amount to be paid: {price_after_discount}\")\n",
    "elif total_amount > 999:\n",
    "    price_after_discount = total_amount * 70/100\n",
    "    print(f\"Amount to be paid: {price_after_discount}\")\n",
    "elif total_amount <=999 and total_amount > 499:\n",
    "    price_after_dicount = total_amount * 80/100\n",
    "    print(f\"Amount to be paid: {price_after_discount}\")\n",
    "else:\n",
    "    print(f\"Amount to be paid: {total_amount}\")"
   ]
  },
  {
   "cell_type": "markdown",
   "id": "93693057",
   "metadata": {},
   "source": [
    "## Nested if else"
   ]
  },
  {
   "cell_type": "code",
   "execution_count": 6,
   "id": "030315c5",
   "metadata": {},
   "outputs": [
    {
     "name": "stdout",
     "output_type": "stream",
     "text": [
      "Enter a number: 0\n",
      "Its zero!\n"
     ]
    }
   ],
   "source": [
    "# Print if the number is negative or positive\n",
    "\n",
    "val = float(input(\"Enter a number: \"))\n",
    "\n",
    "if val >= 0:\n",
    "    if val == 0:\n",
    "        print(\"Its zero!\")\n",
    "    else:\n",
    "        print(\"Its a positive number\")\n",
    "else:\n",
    "    print(\"Its a negative number\")"
   ]
  },
  {
   "cell_type": "code",
   "execution_count": 7,
   "id": "5ddf1a0d",
   "metadata": {},
   "outputs": [
    {
     "name": "stdout",
     "output_type": "stream",
     "text": [
      "Enter a number: -1\n",
      "Its a negative number\n"
     ]
    }
   ],
   "source": [
    "val = float(input(\"Enter a number: \"))\n",
    "\n",
    "if val >= 0:\n",
    "    if val == 0:\n",
    "        print(\"Its zero!\")\n",
    "    else:\n",
    "        print(\"Its a positive number\")\n",
    "else:\n",
    "    print(\"Its a negative number\")"
   ]
  },
  {
   "cell_type": "code",
   "execution_count": 8,
   "id": "e573dbe6",
   "metadata": {},
   "outputs": [
    {
     "name": "stdout",
     "output_type": "stream",
     "text": [
      "Enter a number: 6598\n",
      "Its a positive number\n"
     ]
    }
   ],
   "source": [
    "val = float(input(\"Enter a number: \"))\n",
    "\n",
    "if val >= 0:\n",
    "    if val == 0:\n",
    "        print(\"Its zero!\")\n",
    "    else:\n",
    "        print(\"Its a positive number\")\n",
    "else:\n",
    "    print(\"Its a negative number\")"
   ]
  },
  {
   "cell_type": "markdown",
   "id": "82775165",
   "metadata": {},
   "source": [
    "## Single line if else \n",
    "(Not recommended for coding in projects or production, but useful in competitive programming)"
   ]
  },
  {
   "cell_type": "code",
   "execution_count": 11,
   "id": "f1900cae",
   "metadata": {},
   "outputs": [
    {
     "name": "stdout",
     "output_type": "stream",
     "text": [
      "Enter a number: 1655\n",
      "yes\n"
     ]
    }
   ],
   "source": [
    "# Print yes if the number is greater than 99\n",
    "\n",
    "val = float(input(\"Enter a number: \"))\n",
    "\n",
    "if val > 99: print(\"yes\") \n",
    "else: print(\"No\")"
   ]
  },
  {
   "cell_type": "code",
   "execution_count": 12,
   "id": "9b77ea24",
   "metadata": {},
   "outputs": [
    {
     "name": "stdout",
     "output_type": "stream",
     "text": [
      "Enter a number: 6\n",
      "No\n"
     ]
    }
   ],
   "source": [
    "# Proper way, More readable and clean\n",
    "val = float(input(\"Enter a number: \"))\n",
    "\n",
    "if val > 99: \n",
    "    print(\"yes\") \n",
    "else: print(\"No\")"
   ]
  },
  {
   "cell_type": "code",
   "execution_count": 13,
   "id": "245e7819",
   "metadata": {},
   "outputs": [
    {
     "name": "stdout",
     "output_type": "stream",
     "text": [
      "Enter a number: 1\n",
      "No\n"
     ]
    }
   ],
   "source": [
    "val = float(input(\"Enter a number: \"))\n",
    "print(\"Yes\" if val > 99 else \"No\")"
   ]
  },
  {
   "cell_type": "code",
   "execution_count": 15,
   "id": "a0bdbd3d",
   "metadata": {},
   "outputs": [
    {
     "name": "stdout",
     "output_type": "stream",
     "text": [
      "Enter a number: 102\n",
      "Yes\n"
     ]
    }
   ],
   "source": [
    "val = float(input(\"Enter a number: \"))\n",
    "print(\"Yes\" if val > 99 else \"No\")"
   ]
  },
  {
   "cell_type": "markdown",
   "id": "d94fb607",
   "metadata": {},
   "source": [
    "## Loops\n",
    "1. while loop\n",
    "2. for loop\n",
    "3. loop control\n",
    "    - break\n",
    "    - continue\n",
    "    - pass\n",
    "4. nested loop"
   ]
  },
  {
   "cell_type": "code",
   "execution_count": 16,
   "id": "8c1bd884",
   "metadata": {},
   "outputs": [],
   "source": [
    "# UPSC, Govt exams, Board exams- repetive attempts\n",
    "# While I do not cross the cutoff, i will keep on giving my exams\n",
    "# while CONDITION is True: print()"
   ]
  },
  {
   "cell_type": "code",
   "execution_count": 17,
   "id": "80424510",
   "metadata": {},
   "outputs": [
    {
     "name": "stdout",
     "output_type": "stream",
     "text": [
      "Your score is: 100, cutoff: 400\n",
      "I will attempt next year\n",
      "Your score is: 200, cutoff: 400\n",
      "I will attempt next year\n",
      "Your score is: 300, cutoff: 400\n",
      "I will attempt next year\n",
      "Your score is: 399, cutoff: 400\n",
      "I will attempt next year\n"
     ]
    }
   ],
   "source": [
    "cutoff = 400\n",
    "scores = [100, 200, 300, 399, 500]\n",
    "\n",
    "# I will keep on attempting until I succeed\n",
    "year = 0 # Index in Python starts with 0\n",
    "\n",
    "while scores[year] < cutoff:\n",
    "    print(f\"Your score is: {scores[year]}, cutoff: {cutoff}\")\n",
    "    print(\"I will attempt next year\")\n",
    "    year = year + 1"
   ]
  },
  {
   "cell_type": "markdown",
   "id": "df5f35ef",
   "metadata": {},
   "source": [
    "## Infinite loop\n",
    "if the CONDITION is always TRUE, then loop will keep on running......"
   ]
  },
  {
   "cell_type": "code",
   "execution_count": 18,
   "id": "8ab1d151",
   "metadata": {},
   "outputs": [
    {
     "data": {
      "text/plain": [
       "500"
      ]
     },
     "execution_count": 18,
     "metadata": {},
     "output_type": "execute_result"
    }
   ],
   "source": [
    "year = 4\n",
    "scores[year]"
   ]
  },
  {
   "cell_type": "code",
   "execution_count": 28,
   "id": "f2ce8edf",
   "metadata": {},
   "outputs": [
    {
     "name": "stdout",
     "output_type": "stream",
     "text": [
      "currently notes in hand: 1\n",
      "Current sum: 10\n",
      "currently notes in hand: 2\n",
      "Current sum: 20\n",
      "currently notes in hand: 3\n",
      "Current sum: 30\n",
      "currently notes in hand: 4\n",
      "Current sum: 40\n",
      "currently notes in hand: 5\n",
      "Current sum: 50\n",
      "currently notes in hand: 6\n",
      "Current sum: 60\n",
      "currently notes in hand: 7\n",
      "Current sum: 70\n",
      "currently notes in hand: 8\n",
      "Current sum: 80\n",
      "currently notes in hand: 9\n",
      "Current sum: 90\n",
      "currently notes in hand: 10\n",
      "Current sum: 100\n"
     ]
    }
   ],
   "source": [
    "# Child is learning to count 10 ruppees of note\n",
    "\n",
    "notes = 10\n",
    "i = 1 # 1st note\n",
    "\n",
    "while i <= notes:\n",
    "    print(f\"currently notes in hand: {i}\")\n",
    "    print(f\"Current sum: {i * 10}\")\n",
    "    i = i +1"
   ]
  },
  {
   "cell_type": "code",
   "execution_count": 5,
   "id": "c8a40024",
   "metadata": {},
   "outputs": [
    {
     "name": "stdout",
     "output_type": "stream",
     "text": [
      "Current station is: Station 01\n",
      "As my destination is: Station 04\n",
      "Continue the journey\n",
      "Next station is: Station 02\n",
      "Current station is: Station 02\n",
      "As my destination is: Station 04\n",
      "Continue the journey\n",
      "Next station is: Station 03\n",
      "Current station is: Station 03\n",
      "As my destination is: Station 04\n",
      "Continue the journey\n",
      "Next station is: Station 04\n"
     ]
    }
   ],
   "source": [
    "# Train journey\n",
    "stations = [\"Station 01\", \"Station 02\", \"Station 03\", \"Station 04\", \"Station 05\"]\n",
    "\n",
    "current_station = 0\n",
    "destination_station = \"Station 04\"\n",
    "\n",
    "while stations[current_station] != destination_station:\n",
    "    print(f\"Current station is: {stations[current_station]}\")\n",
    "    print(f\"As my destination is: {destination_station}\")\n",
    "    print(f\"Continue the journey\")\n",
    "    current_station = current_station + 1\n",
    "    print(f\"Next station is: {stations[current_station]}\")\n",
    "    \n",
    "    "
   ]
  },
  {
   "cell_type": "markdown",
   "id": "d533daf0",
   "metadata": {},
   "source": [
    "## While else:"
   ]
  },
  {
   "cell_type": "code",
   "execution_count": 7,
   "id": "975060cb",
   "metadata": {},
   "outputs": [
    {
     "name": "stdout",
     "output_type": "stream",
     "text": [
      "Current station is: Station 01\n",
      "As my destination is: Station 04\n",
      "Continue the journey\n",
      "Next station is: Station 02\n",
      "-----\n",
      "Current station is: Station 02\n",
      "As my destination is: Station 04\n",
      "Continue the journey\n",
      "Next station is: Station 03\n",
      "-----\n",
      "Current station is: Station 03\n",
      "As my destination is: Station 04\n",
      "Continue the journey\n",
      "Next station is: Station 04\n",
      "-----\n",
      "I have arrived at my destination: Station 04\n"
     ]
    }
   ],
   "source": [
    "stations = [\"Station 01\", \"Station 02\", \"Station 03\", \"Station 04\", \"Station 05\"]\n",
    "\n",
    "current_station = 0\n",
    "destination_station = \"Station 04\"\n",
    "\n",
    "while stations[current_station] != destination_station:\n",
    "    print(f\"Current station is: {stations[current_station]}\")\n",
    "    print(f\"As my destination is: {destination_station}\")\n",
    "    print(f\"Continue the journey\")\n",
    "    current_station = current_station + 1\n",
    "    print(f\"Next station is: {stations[current_station]}\")\n",
    "    print(\"-----\")\n",
    "else:\n",
    "    print(f\"I have arrived at my destination: {stations[current_station]}\")"
   ]
  },
  {
   "cell_type": "code",
   "execution_count": 8,
   "id": "8cb205c6",
   "metadata": {},
   "outputs": [
    {
     "data": {
      "text/plain": [
       "'\\nwhile CONDITION is True:\\n    statement\\nelse:\\n    statement\\n\\n'"
      ]
     },
     "execution_count": 8,
     "metadata": {},
     "output_type": "execute_result"
    }
   ],
   "source": [
    "\"\"\"\n",
    "while CONDITION is True:\n",
    "    statement\n",
    "else:\n",
    "    statement\n",
    "\n",
    "\"\"\""
   ]
  },
  {
   "cell_type": "code",
   "execution_count": 9,
   "id": "386b9b96",
   "metadata": {},
   "outputs": [
    {
     "name": "stdout",
     "output_type": "stream",
     "text": [
      "CONDITION: True\n",
      "currently notes in hand: 1\n",
      "Current sum: 10\n",
      "---------\n",
      "CONDITION: True\n",
      "currently notes in hand: 2\n",
      "Current sum: 20\n",
      "---------\n",
      "CONDITION: True\n",
      "currently notes in hand: 3\n",
      "Current sum: 30\n",
      "---------\n",
      "CONDITION: True\n",
      "currently notes in hand: 4\n",
      "Current sum: 40\n",
      "---------\n",
      "CONDITION: True\n",
      "currently notes in hand: 5\n",
      "Current sum: 50\n",
      "---------\n",
      "CONDITION: False\n",
      "No more note left\n"
     ]
    }
   ],
   "source": [
    "# Child is learning to count 10 ruppees of note\n",
    "\n",
    "notes = 5\n",
    "i = 1 # 1st note\n",
    "\n",
    "while i <= notes:\n",
    "    print(f\"CONDITION: {i <= notes}\")\n",
    "    print(f\"currently notes in hand: {i}\")\n",
    "    print(f\"Current sum: {i * 10}\")\n",
    "    i = i +1\n",
    "    print(\"---------\")\n",
    "else:\n",
    "    print(f\"CONDITION: {i <= notes}\")\n",
    "    print(\"No more note left\")"
   ]
  },
  {
   "cell_type": "markdown",
   "id": "8606f26f",
   "metadata": {},
   "source": [
    "## for loop"
   ]
  },
  {
   "cell_type": "code",
   "execution_count": 13,
   "id": "33e02618",
   "metadata": {},
   "outputs": [
    {
     "name": "stdout",
     "output_type": "stream",
     "text": [
      "0\n",
      "1\n",
      "2\n",
      "3\n",
      "4\n",
      "5\n",
      "6\n",
      "7\n",
      "8\n",
      "9\n"
     ]
    }
   ],
   "source": [
    "for i in range(0,10): # 10 here is out of bound\n",
    "    print(i)"
   ]
  },
  {
   "cell_type": "code",
   "execution_count": 14,
   "id": "fc2ff7db",
   "metadata": {},
   "outputs": [
    {
     "name": "stdout",
     "output_type": "stream",
     "text": [
      "10 X 0 = 0\n",
      "10 X 1 = 10\n",
      "10 X 2 = 20\n",
      "10 X 3 = 30\n",
      "10 X 4 = 40\n",
      "10 X 5 = 50\n",
      "10 X 6 = 60\n",
      "10 X 7 = 70\n",
      "10 X 8 = 80\n",
      "10 X 9 = 90\n"
     ]
    }
   ],
   "source": [
    "for i in range(0,10):\n",
    "    print(f\"10 X {i} = {10 * i}\")"
   ]
  },
  {
   "cell_type": "code",
   "execution_count": 16,
   "id": "31cbeec2",
   "metadata": {},
   "outputs": [
    {
     "name": "stdout",
     "output_type": "stream",
     "text": [
      "10 X 1 = 10\n",
      "10 X 2 = 20\n",
      "10 X 3 = 30\n",
      "10 X 4 = 40\n",
      "10 X 5 = 50\n",
      "10 X 6 = 60\n",
      "10 X 7 = 70\n",
      "10 X 8 = 80\n",
      "10 X 9 = 90\n",
      "10 X 10 = 100\n"
     ]
    }
   ],
   "source": [
    "for i in range(0,10):\n",
    "    print(f\"10 X {i+1} = {10 * (i+1)}\")"
   ]
  },
  {
   "cell_type": "code",
   "execution_count": 18,
   "id": "c7b6c2af",
   "metadata": {},
   "outputs": [
    {
     "name": "stdout",
     "output_type": "stream",
     "text": [
      "10 X 0 = 0\n",
      "10 X 1 = 10\n",
      "10 X 2 = 20\n",
      "10 X 3 = 30\n",
      "10 X 4 = 40\n",
      "10 X 5 = 50\n",
      "10 X 6 = 60\n",
      "10 X 7 = 70\n",
      "10 X 8 = 80\n",
      "10 X 9 = 90\n",
      "10 X 10 = 100\n"
     ]
    }
   ],
   "source": [
    "for i in range(0,11): # 11 is out of bound\n",
    "    print(f\"10 X {i} = {10 * (i)}\")"
   ]
  },
  {
   "cell_type": "code",
   "execution_count": 19,
   "id": "f794d7f9",
   "metadata": {},
   "outputs": [
    {
     "data": {
      "text/plain": [
       "'ShubhranshuShubhranshuShubhranshuShubhranshuShubhranshuShubhranshuShubhranshuShubhranshuShubhranshuShubhranshu'"
      ]
     },
     "execution_count": 19,
     "metadata": {},
     "output_type": "execute_result"
    }
   ],
   "source": [
    "\"Shubhranshu\" * 10"
   ]
  },
  {
   "cell_type": "code",
   "execution_count": 20,
   "id": "fbfb4acc",
   "metadata": {},
   "outputs": [
    {
     "data": {
      "text/plain": [
       "'ShubhranshuShubhranshu'"
      ]
     },
     "execution_count": 20,
     "metadata": {},
     "output_type": "execute_result"
    }
   ],
   "source": [
    "\"Shubhranshu\" + \"Shubhranshu\""
   ]
  },
  {
   "cell_type": "code",
   "execution_count": 21,
   "id": "ef13fe03",
   "metadata": {},
   "outputs": [
    {
     "data": {
      "text/plain": [
       "'**********'"
      ]
     },
     "execution_count": 21,
     "metadata": {},
     "output_type": "execute_result"
    }
   ],
   "source": [
    "\"*\" * 10"
   ]
  },
  {
   "cell_type": "code",
   "execution_count": 23,
   "id": "b02357ff",
   "metadata": {},
   "outputs": [
    {
     "name": "stdout",
     "output_type": "stream",
     "text": [
      "*\n",
      "**\n",
      "***\n",
      "****\n",
      "*****\n",
      "******\n",
      "*******\n",
      "********\n",
      "*********\n",
      "**********\n"
     ]
    }
   ],
   "source": [
    "for i in range(1,11):\n",
    "    print(\"*\" * i)"
   ]
  },
  {
   "cell_type": "code",
   "execution_count": 24,
   "id": "a9886d41",
   "metadata": {},
   "outputs": [
    {
     "name": "stdout",
     "output_type": "stream",
     "text": [
      "*\n",
      "**\n",
      "***\n",
      "****\n",
      "*****\n",
      "******\n",
      "*******\n",
      "********\n",
      "*********\n",
      "**********\n"
     ]
    }
   ],
   "source": [
    "for anyval in range(1,11): # it is not compulsory to take i\n",
    "    print(\"*\" * anyval)"
   ]
  },
  {
   "cell_type": "code",
   "execution_count": 25,
   "id": "23ca3f97",
   "metadata": {},
   "outputs": [
    {
     "name": "stdout",
     "output_type": "stream",
     "text": [
      "0 = 0 + 100\n",
      "after adding total sum = 100\n",
      "---------\n",
      "100 = 100 + 200\n",
      "after adding total sum = 300\n",
      "---------\n",
      "300 = 300 + 129\n",
      "after adding total sum = 429\n",
      "---------\n",
      "429 = 429 + 456\n",
      "after adding total sum = 885\n",
      "---------\n",
      "Total amount to be paid: 885\n"
     ]
    }
   ],
   "source": [
    "cost_of_items = [100, 200, 129, 456]\n",
    "#                 0    1    2    3\n",
    "\n",
    "total_sum = 0\n",
    "\n",
    "for i in range(0, 4):  # 0,1,2,3\n",
    "    print(f\"{total_sum} = {total_sum} + {cost_of_items[i]}\")\n",
    "    total_sum = total_sum + cost_of_items[i]\n",
    "    print(f\"after adding total sum = {total_sum}\")\n",
    "    print(\"---------\")\n",
    "print(f\"Total amount to be paid: {total_sum}\")"
   ]
  },
  {
   "cell_type": "code",
   "execution_count": 26,
   "id": "2a2705a9",
   "metadata": {},
   "outputs": [
    {
     "name": "stdout",
     "output_type": "stream",
     "text": [
      "0 = 0 + 100\n",
      "after adding total sum = 100\n",
      "---------\n",
      "100 = 100 + 200\n",
      "after adding total sum = 300\n",
      "---------\n",
      "300 = 300 + 129\n",
      "after adding total sum = 429\n",
      "---------\n",
      "Total amount to be paid: 429\n"
     ]
    }
   ],
   "source": [
    "cost_of_items = [100, 200, 129, 456]\n",
    "#                 0    1    2    3\n",
    "\n",
    "total_sum = 0\n",
    "\n",
    "for i in range(0, 3):  # 0,1,2,3\n",
    "    print(f\"{total_sum} = {total_sum} + {cost_of_items[i]}\")\n",
    "    total_sum = total_sum + cost_of_items[i]\n",
    "    print(f\"after adding total sum = {total_sum}\")\n",
    "    print(\"---------\")\n",
    "print(f\"Total amount to be paid: {total_sum}\")"
   ]
  },
  {
   "cell_type": "code",
   "execution_count": 27,
   "id": "030bca45",
   "metadata": {},
   "outputs": [
    {
     "data": {
      "text/plain": [
       "4"
      ]
     },
     "execution_count": 27,
     "metadata": {},
     "output_type": "execute_result"
    }
   ],
   "source": [
    "len(cost_of_items)"
   ]
  },
  {
   "cell_type": "code",
   "execution_count": 29,
   "id": "55c5c639",
   "metadata": {},
   "outputs": [
    {
     "name": "stdout",
     "output_type": "stream",
     "text": [
      "0 = 0 + 100\n",
      "after adding total sum = 100\n",
      "---------\n",
      "100 = 100 + 200\n",
      "after adding total sum = 300\n",
      "---------\n",
      "300 = 300 + 129\n",
      "after adding total sum = 429\n",
      "---------\n",
      "429 = 429 + 456\n",
      "after adding total sum = 885\n",
      "---------\n",
      "885 = 885 + 1000\n",
      "after adding total sum = 1885\n",
      "---------\n",
      "Total amount to be paid: 1885\n"
     ]
    }
   ],
   "source": [
    "cost_of_items = [100, 200, 129, 456, 1000]\n",
    "#                 0    1    2    3\n",
    "\n",
    "total_sum = 0\n",
    "N = len(cost_of_items)\n",
    "for i in range(0, N):  # 0,1,2,3\n",
    "    print(f\"{total_sum} = {total_sum} + {cost_of_items[i]}\")\n",
    "    total_sum = total_sum + cost_of_items[i]\n",
    "    print(f\"after adding total sum = {total_sum}\")\n",
    "    print(\"---------\")\n",
    "print(f\"Total amount to be paid: {total_sum}\")"
   ]
  },
  {
   "cell_type": "code",
   "execution_count": 34,
   "id": "0d0c6447",
   "metadata": {},
   "outputs": [
    {
     "name": "stdout",
     "output_type": "stream",
     "text": [
      "0 = 0 + 100\n",
      "after adding total sum = 100\n",
      "---------\n",
      "100 = 100 + 200\n",
      "after adding total sum = 300\n",
      "---------\n",
      "300 = 300 + 129\n",
      "after adding total sum = 429\n",
      "---------\n",
      "429 = 429 + 456\n",
      "after adding total sum = 885\n",
      "---------\n",
      "885 = 885 + 1000\n",
      "after adding total sum = 1885\n",
      "---------\n",
      "Total amount to be paid: 1885\n"
     ]
    }
   ],
   "source": [
    "cost_of_items = [100, 200, 129, 456, 1000]\n",
    "#                 0    1    2    3\n",
    "\n",
    "total_sum = 0\n",
    "\n",
    "for cost in cost_of_items:\n",
    "    print(f\"{total_sum} = {total_sum} + {cost}\")\n",
    "    total_sum = total_sum + cost\n",
    "    print(f\"after adding total sum = {total_sum}\")\n",
    "    print(\"---------\")\n",
    "print(f\"Total amount to be paid: {total_sum}\")"
   ]
  },
  {
   "cell_type": "code",
   "execution_count": 36,
   "id": "36aee30f",
   "metadata": {},
   "outputs": [
    {
     "name": "stdout",
     "output_type": "stream",
     "text": [
      "100\n",
      "200\n",
      "129\n",
      "456\n",
      "1000\n"
     ]
    }
   ],
   "source": [
    "cost_of_items = [100, 200, 129, 456, 1000]\n",
    "#                 0    1    2    3\n",
    "\n",
    "total_sum = 0\n",
    "\n",
    "for cost in cost_of_items:\n",
    "   print(cost)"
   ]
  },
  {
   "cell_type": "code",
   "execution_count": 38,
   "id": "ffda0ed8",
   "metadata": {},
   "outputs": [
    {
     "name": "stdout",
     "output_type": "stream",
     "text": [
      "100\n",
      "200\n",
      "129\n",
      "456\n",
      "1000\n"
     ]
    }
   ],
   "source": [
    "cost_of_items = [100, 200, 129, 456, 1000]\n",
    "#                 0    1    2    3\n",
    "\n",
    "total_sum = 0\n",
    "N = len(cost_of_items)\n",
    "for i in range(0,N):\n",
    "    print(cost_of_items[i])"
   ]
  },
  {
   "cell_type": "code",
   "execution_count": 39,
   "id": "e24a0aba",
   "metadata": {},
   "outputs": [
    {
     "name": "stdout",
     "output_type": "stream",
     "text": [
      "Current station is: Station 01\n",
      "Current station is: Station 02\n",
      "Current station is: Station 03\n",
      "Current station is: Station 04\n"
     ]
    }
   ],
   "source": [
    "# Train Journey\n",
    "stations = [\"Station 01\", \"Station 02\", \"Station 03\", \"Station 04\"]\n",
    "\n",
    "for shubhranshu in stations:\n",
    "    print(f\"Current station is: {shubhranshu}\")"
   ]
  },
  {
   "cell_type": "markdown",
   "id": "433b2972",
   "metadata": {},
   "source": [
    "## break and continue"
   ]
  },
  {
   "cell_type": "code",
   "execution_count": 4,
   "id": "3dc40d05",
   "metadata": {},
   "outputs": [
    {
     "name": "stdout",
     "output_type": "stream",
     "text": [
      "Current_total: 100\n",
      "Current_total: 300\n",
      "Current_total: 429\n",
      "Current_total: 885\n",
      "Current_total: 1885\n",
      "Current_total: 2084\n",
      "Since current total is more than my budget: 2000\n",
      "Please remove the last item\n",
      "Total amount to be paid: 1885\n"
     ]
    }
   ],
   "source": [
    "cost_of_items = [100, 200, 129, 456, 1000, 199, 299]\n",
    "\n",
    "total_sum = 0\n",
    "budget = 2000\n",
    "\n",
    "for cost in cost_of_items:\n",
    "    total_sum = total_sum + cost\n",
    "    print(f\"Current_total: {total_sum}\")\n",
    "    if total_sum > budget:\n",
    "        print(f\"Since current total is more than my budget: {budget}\")\n",
    "        print(\"Please remove the last item\")\n",
    "        total_sum = total_sum - cost\n",
    "        break\n",
    "\n",
    "print(f\"Total amount to be paid: {total_sum}\")"
   ]
  },
  {
   "cell_type": "code",
   "execution_count": 9,
   "id": "637663bd",
   "metadata": {},
   "outputs": [
    {
     "name": "stdout",
     "output_type": "stream",
     "text": [
      "1\n",
      "2\n",
      "3\n",
      "4\n",
      "5\n",
      "6\n",
      "7\n",
      "8\n",
      "9\n",
      "10\n",
      "11\n",
      "12\n",
      "13\n",
      "14\n",
      "15\n",
      "16\n",
      "17\n",
      "18\n",
      "19\n",
      "20\n",
      "21\n",
      "22\n",
      "23\n",
      "24\n",
      "25\n",
      "26\n",
      "27\n",
      "28\n",
      "29\n",
      "30\n",
      "31\n",
      "32\n",
      "33\n",
      "34\n",
      "35\n",
      "36\n",
      "37\n",
      "38\n",
      "39\n",
      "40\n",
      "41\n",
      "42\n",
      "43\n",
      "44\n",
      "45\n",
      "46\n",
      "47\n",
      "48\n",
      "49\n",
      "50\n",
      "51\n"
     ]
    }
   ],
   "source": [
    "for i in range(1,100):\n",
    "    print(i)\n",
    "    if i > 50:\n",
    "        break"
   ]
  },
  {
   "cell_type": "code",
   "execution_count": 10,
   "id": "b06be0f6",
   "metadata": {},
   "outputs": [
    {
     "name": "stdout",
     "output_type": "stream",
     "text": [
      "1\n",
      "2\n",
      "3\n",
      "4\n",
      "5\n",
      "6\n",
      "7\n",
      "8\n",
      "9\n",
      "10\n",
      "11\n",
      "12\n",
      "13\n",
      "14\n",
      "15\n",
      "16\n",
      "17\n",
      "18\n",
      "19\n",
      "20\n",
      "21\n",
      "22\n",
      "23\n",
      "24\n",
      "25\n",
      "26\n",
      "27\n",
      "28\n",
      "29\n",
      "30\n",
      "31\n",
      "32\n",
      "33\n",
      "34\n",
      "35\n",
      "36\n",
      "37\n",
      "38\n",
      "39\n",
      "40\n",
      "41\n",
      "42\n",
      "43\n",
      "44\n",
      "45\n",
      "46\n",
      "47\n",
      "48\n",
      "49\n",
      "50\n"
     ]
    }
   ],
   "source": [
    "for i in range(1,100):\n",
    "    print(i)\n",
    "    if i >=50:\n",
    "        break"
   ]
  },
  {
   "cell_type": "code",
   "execution_count": 15,
   "id": "b7bf305e",
   "metadata": {},
   "outputs": [
    {
     "name": "stdout",
     "output_type": "stream",
     "text": [
      "1\n",
      "3\n",
      "5\n",
      "7\n",
      "9\n",
      "11\n",
      "13\n",
      "15\n",
      "17\n",
      "19\n"
     ]
    }
   ],
   "source": [
    "for i in range(1,20):\n",
    "    if i%2 == 0: # if number is even, then start the loop again\n",
    "        continue\n",
    "    print(i)"
   ]
  },
  {
   "cell_type": "code",
   "execution_count": 21,
   "id": "ce6a5ffe",
   "metadata": {},
   "outputs": [
    {
     "name": "stdout",
     "output_type": "stream",
     "text": [
      "1\n"
     ]
    }
   ],
   "source": [
    "for i in range(1,20):\n",
    "\n",
    "    if i%2 == 0: # Stop the loop if the condition (that comes first ie. 2) fulfil, don't proceed at all\n",
    "        break\n",
    "    print(i)"
   ]
  },
  {
   "cell_type": "code",
   "execution_count": 22,
   "id": "6b3020bc",
   "metadata": {},
   "outputs": [
    {
     "name": "stdout",
     "output_type": "stream",
     "text": [
      "Current station is: Station 01\n",
      "Current station is: Station 02\n",
      "Current station is: Station 03\n"
     ]
    }
   ],
   "source": [
    "# Train journey \n",
    "stations = [\"Station 01\", \"Station 02\", \"Station 03\", \"Station 04\"]\n",
    "\n",
    "for current_station in stations:\n",
    "  print(f\"Current station is: {current_station}\")\n",
    "  if current_station == \"Station 03\":\n",
    "    break"
   ]
  },
  {
   "cell_type": "code",
   "execution_count": 23,
   "id": "a128ca47",
   "metadata": {},
   "outputs": [
    {
     "name": "stdout",
     "output_type": "stream",
     "text": [
      "Current station is: Station 01\n",
      "Current station is: Station 02\n"
     ]
    }
   ],
   "source": [
    "# Train journey \n",
    "stations = [\"Station 01\", \"Station 02\", \"Station 03\", \"Station 04\"]\n",
    "\n",
    "for current_station in stations:\n",
    "  print(f\"Current station is: {current_station}\")\n",
    "  if current_station == \"Station 02\":\n",
    "    break"
   ]
  },
  {
   "cell_type": "code",
   "execution_count": 24,
   "id": "0a905972",
   "metadata": {},
   "outputs": [
    {
     "name": "stdout",
     "output_type": "stream",
     "text": [
      "Current station is: Station 01\n",
      "Current station is: Station 02\n",
      "Current station is: Station 03\n",
      "Current station is: Station 04\n"
     ]
    }
   ],
   "source": [
    "# Train journey \n",
    "stations = [\"Station 01\", \"Station 02\", \"Station 03\", \"Station 04\"]\n",
    "\n",
    "for current_station in stations:\n",
    "  print(f\"Current station is: {current_station}\")\n",
    "  if current_station == \"Station 03\":\n",
    "    continue"
   ]
  },
  {
   "cell_type": "markdown",
   "id": "39390483",
   "metadata": {},
   "source": [
    "#### Break - it completely stops the loop\n",
    "#### Continue - it skips the current loop or it skips all the statement after continue keyword"
   ]
  },
  {
   "cell_type": "code",
   "execution_count": 25,
   "id": "2cbdc95f",
   "metadata": {},
   "outputs": [],
   "source": [
    "for i in range(1, 10):\n",
    "  pass # I want to write code later"
   ]
  },
  {
   "cell_type": "code",
   "execution_count": 28,
   "id": "5c32f5ba",
   "metadata": {},
   "outputs": [
    {
     "name": "stdout",
     "output_type": "stream",
     "text": [
      "Current station is: Station 01\n",
      "Current station is: Station 02\n",
      "Current station is: Station 03\n",
      "Current station is: Station 04\n"
     ]
    }
   ],
   "source": [
    "# Train journey \n",
    "stations = [\"Station 01\", \"Station 02\", \"Station 03\", \"Station 04\"]\n",
    "\n",
    "for current_station in stations:\n",
    "  if current_station == \"Station 02\":\n",
    "    pass\n",
    "  print(f\"Current station is: {current_station}\")"
   ]
  }
 ],
 "metadata": {
  "kernelspec": {
   "display_name": "Python 3 (ipykernel)",
   "language": "python",
   "name": "python3"
  },
  "language_info": {
   "codemirror_mode": {
    "name": "ipython",
    "version": 3
   },
   "file_extension": ".py",
   "mimetype": "text/x-python",
   "name": "python",
   "nbconvert_exporter": "python",
   "pygments_lexer": "ipython3",
   "version": "3.9.12"
  }
 },
 "nbformat": 4,
 "nbformat_minor": 5
}
