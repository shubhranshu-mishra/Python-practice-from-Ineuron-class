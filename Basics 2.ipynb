{
 "cells": [
  {
   "cell_type": "code",
   "execution_count": 1,
   "id": "395c9939",
   "metadata": {},
   "outputs": [],
   "source": [
    "TEN = 10"
   ]
  },
  {
   "cell_type": "code",
   "execution_count": 2,
   "id": "efb932f1",
   "metadata": {},
   "outputs": [],
   "source": [
    "ten = 20"
   ]
  },
  {
   "cell_type": "code",
   "execution_count": 3,
   "id": "a7b2be15",
   "metadata": {},
   "outputs": [
    {
     "name": "stdout",
     "output_type": "stream",
     "text": [
      "10\n"
     ]
    }
   ],
   "source": [
    "print(TEN)"
   ]
  },
  {
   "cell_type": "code",
   "execution_count": 4,
   "id": "df9f4c49",
   "metadata": {},
   "outputs": [
    {
     "data": {
      "text/plain": [
       "10"
      ]
     },
     "execution_count": 4,
     "metadata": {},
     "output_type": "execute_result"
    }
   ],
   "source": [
    "TEN"
   ]
  },
  {
   "cell_type": "code",
   "execution_count": 5,
   "id": "9f1f73d4",
   "metadata": {},
   "outputs": [
    {
     "ename": "NameError",
     "evalue": "name 'Ten' is not defined",
     "output_type": "error",
     "traceback": [
      "\u001b[1;31m---------------------------------------------------------------------------\u001b[0m",
      "\u001b[1;31mNameError\u001b[0m                                 Traceback (most recent call last)",
      "Cell \u001b[1;32mIn[5], line 1\u001b[0m\n\u001b[1;32m----> 1\u001b[0m \u001b[38;5;28mprint\u001b[39m(\u001b[43mTen\u001b[49m)\n",
      "\u001b[1;31mNameError\u001b[0m: name 'Ten' is not defined"
     ]
    }
   ],
   "source": [
    "print(Ten) # VAriable case sensitivity"
   ]
  },
  {
   "cell_type": "markdown",
   "id": "442bdeec",
   "metadata": {},
   "source": [
    "## Reserved Words"
   ]
  },
  {
   "cell_type": "code",
   "execution_count": 6,
   "id": "b6078b7c",
   "metadata": {},
   "outputs": [
    {
     "name": "stdout",
     "output_type": "stream",
     "text": [
      "Hi there\n"
     ]
    }
   ],
   "source": [
    "print(\"Hi there\")"
   ]
  },
  {
   "cell_type": "code",
   "execution_count": 7,
   "id": "c00e8e5e",
   "metadata": {},
   "outputs": [
    {
     "data": {
      "text/plain": [
       "str"
      ]
     },
     "execution_count": 7,
     "metadata": {},
     "output_type": "execute_result"
    }
   ],
   "source": [
    "print = \"Hi There\"\n",
    "type(print) # We have used reseve word as variable. Not allowed!"
   ]
  },
  {
   "cell_type": "code",
   "execution_count": 8,
   "id": "37b9a4b8",
   "metadata": {},
   "outputs": [
    {
     "ename": "TypeError",
     "evalue": "'str' object is not callable",
     "output_type": "error",
     "traceback": [
      "\u001b[1;31m---------------------------------------------------------------------------\u001b[0m",
      "\u001b[1;31mTypeError\u001b[0m                                 Traceback (most recent call last)",
      "Cell \u001b[1;32mIn[8], line 1\u001b[0m\n\u001b[1;32m----> 1\u001b[0m \u001b[38;5;28;43mprint\u001b[39;49m\u001b[43m(\u001b[49m\u001b[38;5;124;43m\"\u001b[39;49m\u001b[38;5;124;43mHi there\u001b[39;49m\u001b[38;5;124;43m\"\u001b[39;49m\u001b[43m)\u001b[49m\n",
      "\u001b[1;31mTypeError\u001b[0m: 'str' object is not callable"
     ]
    }
   ],
   "source": [
    "print(\"Hi there\") # Mind it"
   ]
  },
  {
   "cell_type": "code",
   "execution_count": 9,
   "id": "b977ccc8",
   "metadata": {},
   "outputs": [
    {
     "data": {
      "text/plain": [
       "int"
      ]
     },
     "execution_count": 9,
     "metadata": {},
     "output_type": "execute_result"
    }
   ],
   "source": [
    "print = 12 # as a variable\n",
    "type(print) "
   ]
  },
  {
   "cell_type": "code",
   "execution_count": 10,
   "id": "a29a1603",
   "metadata": {},
   "outputs": [
    {
     "ename": "TypeError",
     "evalue": "'int' object is not callable",
     "output_type": "error",
     "traceback": [
      "\u001b[1;31m---------------------------------------------------------------------------\u001b[0m",
      "\u001b[1;31mTypeError\u001b[0m                                 Traceback (most recent call last)",
      "Cell \u001b[1;32mIn[10], line 1\u001b[0m\n\u001b[1;32m----> 1\u001b[0m \u001b[38;5;28;43mprint\u001b[39;49m\u001b[43m(\u001b[49m\u001b[38;5;124;43m\"\u001b[39;49m\u001b[38;5;124;43mHi\u001b[39;49m\u001b[38;5;124;43m\"\u001b[39;49m\u001b[43m)\u001b[49m\n",
      "\u001b[1;31mTypeError\u001b[0m: 'int' object is not callable"
     ]
    }
   ],
   "source": [
    "print(\"Hi\")"
   ]
  },
  {
   "cell_type": "code",
   "execution_count": 1,
   "id": "f6bbd3a6",
   "metadata": {},
   "outputs": [],
   "source": [
    "# in built function of print is replaced by our variable. Restart kernel to fix it."
   ]
  },
  {
   "cell_type": "code",
   "execution_count": 2,
   "id": "5e628363",
   "metadata": {},
   "outputs": [
    {
     "name": "stdout",
     "output_type": "stream",
     "text": [
      "hello\n"
     ]
    }
   ],
   "source": [
    "print(\"hello\")"
   ]
  },
  {
   "cell_type": "code",
   "execution_count": 4,
   "id": "eb87d869",
   "metadata": {},
   "outputs": [],
   "source": [
    "# we can also use del \n",
    "print = 12"
   ]
  },
  {
   "cell_type": "code",
   "execution_count": 5,
   "id": "9a5e4523",
   "metadata": {},
   "outputs": [],
   "source": [
    "del print # delete the variable print"
   ]
  },
  {
   "cell_type": "code",
   "execution_count": 6,
   "id": "0595a811",
   "metadata": {},
   "outputs": [
    {
     "name": "stdout",
     "output_type": "stream",
     "text": [
      "Hello\n"
     ]
    }
   ],
   "source": [
    "print(\"Hello\")"
   ]
  },
  {
   "cell_type": "code",
   "execution_count": 7,
   "id": "8d81a6a0",
   "metadata": {},
   "outputs": [
    {
     "data": {
      "text/plain": [
       "builtin_function_or_method"
      ]
     },
     "execution_count": 7,
     "metadata": {},
     "output_type": "execute_result"
    }
   ],
   "source": [
    "type(print)"
   ]
  },
  {
   "cell_type": "code",
   "execution_count": 8,
   "id": "6463143e",
   "metadata": {},
   "outputs": [
    {
     "name": "stdout",
     "output_type": "stream",
     "text": [
      "All good Shubhranshu\n"
     ]
    }
   ],
   "source": [
    "print(\"All good Shubhranshu\")"
   ]
  },
  {
   "cell_type": "markdown",
   "id": "932a900b",
   "metadata": {},
   "source": [
    "## Multi assignment of variables"
   ]
  },
  {
   "cell_type": "code",
   "execution_count": 9,
   "id": "49d60b0e",
   "metadata": {},
   "outputs": [],
   "source": [
    "a, b, c, yes = 10, 20.2, \"Shubhranshu\", True"
   ]
  },
  {
   "cell_type": "code",
   "execution_count": 10,
   "id": "2339fc35",
   "metadata": {},
   "outputs": [
    {
     "data": {
      "text/plain": [
       "int"
      ]
     },
     "execution_count": 10,
     "metadata": {},
     "output_type": "execute_result"
    }
   ],
   "source": [
    "type(a)"
   ]
  },
  {
   "cell_type": "code",
   "execution_count": 13,
   "id": "e407b002",
   "metadata": {},
   "outputs": [
    {
     "data": {
      "text/plain": [
       "float"
      ]
     },
     "execution_count": 13,
     "metadata": {},
     "output_type": "execute_result"
    }
   ],
   "source": [
    "type(b)"
   ]
  },
  {
   "cell_type": "code",
   "execution_count": 14,
   "id": "1aca1fd7",
   "metadata": {},
   "outputs": [
    {
     "data": {
      "text/plain": [
       "str"
      ]
     },
     "execution_count": 14,
     "metadata": {},
     "output_type": "execute_result"
    }
   ],
   "source": [
    "type(c)"
   ]
  },
  {
   "cell_type": "code",
   "execution_count": 15,
   "id": "6efa78d6",
   "metadata": {},
   "outputs": [
    {
     "data": {
      "text/plain": [
       "bool"
      ]
     },
     "execution_count": 15,
     "metadata": {},
     "output_type": "execute_result"
    }
   ],
   "source": [
    "type(yes)"
   ]
  },
  {
   "cell_type": "code",
   "execution_count": 17,
   "id": "4c5b6b09",
   "metadata": {},
   "outputs": [
    {
     "name": "stdout",
     "output_type": "stream",
     "text": [
      "<class 'int'>\n",
      "<class 'float'>\n",
      "<class 'str'>\n",
      "<class 'bool'>\n"
     ]
    }
   ],
   "source": [
    "print(type(a))\n",
    "print(type(b))\n",
    "print(type(c))\n",
    "print(type(yes))"
   ]
  },
  {
   "cell_type": "code",
   "execution_count": 18,
   "id": "f330011a",
   "metadata": {},
   "outputs": [],
   "source": [
    "a, b, c = 10, 10, 10"
   ]
  },
  {
   "cell_type": "code",
   "execution_count": 19,
   "id": "2b87dc8e",
   "metadata": {},
   "outputs": [],
   "source": [
    "a, A, c, C = 10, 20.2, \"Shubhranshu\", True"
   ]
  },
  {
   "cell_type": "code",
   "execution_count": 20,
   "id": "292de742",
   "metadata": {},
   "outputs": [
    {
     "name": "stdout",
     "output_type": "stream",
     "text": [
      "10 20.2 Shubhranshu True\n"
     ]
    }
   ],
   "source": [
    "print(a, A, c, C)"
   ]
  },
  {
   "cell_type": "code",
   "execution_count": 21,
   "id": "4be289c4",
   "metadata": {},
   "outputs": [
    {
     "data": {
      "text/plain": [
       "(10, 10, 'Shubhranshu')"
      ]
     },
     "execution_count": 21,
     "metadata": {},
     "output_type": "execute_result"
    }
   ],
   "source": [
    "a, b, c # Mind the value of c"
   ]
  },
  {
   "cell_type": "code",
   "execution_count": 22,
   "id": "1648bc67",
   "metadata": {},
   "outputs": [],
   "source": [
    "a = b = c = 10"
   ]
  },
  {
   "cell_type": "code",
   "execution_count": 24,
   "id": "66e5cf78",
   "metadata": {},
   "outputs": [
    {
     "data": {
      "text/plain": [
       "(10, 10, 10)"
      ]
     },
     "execution_count": 24,
     "metadata": {},
     "output_type": "execute_result"
    }
   ],
   "source": [
    "a, b, c"
   ]
  },
  {
   "cell_type": "code",
   "execution_count": 25,
   "id": "4152bf56",
   "metadata": {},
   "outputs": [],
   "source": [
    "firstname, surname = \"Shubhranshu\", \"Mishra\""
   ]
  },
  {
   "cell_type": "code",
   "execution_count": 27,
   "id": "c72b9566",
   "metadata": {},
   "outputs": [
    {
     "name": "stdout",
     "output_type": "stream",
     "text": [
      "Shubhranshu.Mishra@gmail.com\n"
     ]
    }
   ],
   "source": [
    "print(f\"{firstname}.{surname}@gmail.com\")"
   ]
  },
  {
   "cell_type": "code",
   "execution_count": 32,
   "id": "2fd9cadd",
   "metadata": {},
   "outputs": [],
   "source": [
    "name, place, year_of_birth, height = \"Shubhranshu\", \"Ranchi\", 1995, 177"
   ]
  },
  {
   "cell_type": "code",
   "execution_count": 35,
   "id": "41a51652",
   "metadata": {},
   "outputs": [
    {
     "name": "stdout",
     "output_type": "stream",
     "text": [
      "\n",
      "My name is: Shubhranshu\n",
      "I live at: Ranchi\n",
      "I was born in: 1995\n",
      "My height is: 177\n"
     ]
    }
   ],
   "source": [
    "print(f\"\"\"\n",
    "My name is: {name}\n",
    "I live at: {place}\n",
    "I was born in: {year_of_birth}\n",
    "My height is: {height}\"\"\")"
   ]
  },
  {
   "cell_type": "code",
   "execution_count": 36,
   "id": "9ccb5fa7",
   "metadata": {},
   "outputs": [
    {
     "name": "stdout",
     "output_type": "stream",
     "text": [
      "\n",
      "My name is: {name}\n",
      "I live at: {place}\n",
      "I was born in: {year_of_birth}\n",
      "My height is: {height}\n"
     ]
    }
   ],
   "source": [
    "# role of f string\n",
    "print(\"\"\"\n",
    "My name is: {name}\n",
    "I live at: {place}\n",
    "I was born in: {year_of_birth}\n",
    "My height is: {height}\"\"\")"
   ]
  },
  {
   "cell_type": "markdown",
   "id": "c34038df",
   "metadata": {},
   "source": [
    "## User input"
   ]
  },
  {
   "cell_type": "code",
   "execution_count": 39,
   "id": "7e585bf5",
   "metadata": {},
   "outputs": [
    {
     "name": "stdout",
     "output_type": "stream",
     "text": [
      "Enter your name: Shubhranshu Mishra\n",
      "Hello: Shubhranshu Mishra\n"
     ]
    }
   ],
   "source": [
    "name = input(\"Enter your name: \")\n",
    "print(f\"Hello: {name}\")"
   ]
  },
  {
   "cell_type": "code",
   "execution_count": 41,
   "id": "16dd2eba",
   "metadata": {},
   "outputs": [
    {
     "name": "stdout",
     "output_type": "stream",
     "text": [
      "Enter the value of A:12\n",
      "Enter the value of B:24\n",
      "Sum of A and B is: 1224\n"
     ]
    }
   ],
   "source": [
    "A = input(\"Enter the value of A:\")\n",
    "B = input(\"Enter the value of B:\")\n",
    "\n",
    "print(f\"Sum of A and B is: {A + B}\")"
   ]
  },
  {
   "cell_type": "code",
   "execution_count": 43,
   "id": "f098d16e",
   "metadata": {},
   "outputs": [
    {
     "name": "stdout",
     "output_type": "stream",
     "text": [
      "Sum of A and B is: {A + B}\n"
     ]
    }
   ],
   "source": [
    "print(\"Sum of A and B is: {A + B}\")"
   ]
  },
  {
   "cell_type": "code",
   "execution_count": 45,
   "id": "59940896",
   "metadata": {},
   "outputs": [
    {
     "name": "stdout",
     "output_type": "stream",
     "text": [
      "Enter the value of A:12\n",
      "Enter the value of B:24\n",
      "<class 'str'> <class 'str'>\n"
     ]
    }
   ],
   "source": [
    "A = input(\"Enter the value of A:\")\n",
    "B = input(\"Enter the value of B:\")\n",
    "\n",
    "print(type(A), type(B))"
   ]
  },
  {
   "cell_type": "code",
   "execution_count": 46,
   "id": "6359a16b",
   "metadata": {},
   "outputs": [],
   "source": [
    "# Input always gives string. We have to convert it to desired one, in this case to int"
   ]
  },
  {
   "cell_type": "code",
   "execution_count": 49,
   "id": "d5ac9f9c",
   "metadata": {},
   "outputs": [
    {
     "name": "stdout",
     "output_type": "stream",
     "text": [
      "Name: Shubhranshu Mishra\n",
      "place: Ranchi\n",
      "Year of birth: 1995\n"
     ]
    },
    {
     "ename": "TypeError",
     "evalue": "unsupported operand type(s) for -: 'int' and 'str'",
     "output_type": "error",
     "traceback": [
      "\u001b[1;31m---------------------------------------------------------------------------\u001b[0m",
      "\u001b[1;31mTypeError\u001b[0m                                 Traceback (most recent call last)",
      "Cell \u001b[1;32mIn[49], line 5\u001b[0m\n\u001b[0;32m      2\u001b[0m place \u001b[38;5;241m=\u001b[39m \u001b[38;5;28minput\u001b[39m(\u001b[38;5;124m\"\u001b[39m\u001b[38;5;124mplace: \u001b[39m\u001b[38;5;124m\"\u001b[39m)\n\u001b[0;32m      3\u001b[0m year_of_birth \u001b[38;5;241m=\u001b[39m \u001b[38;5;28minput\u001b[39m(\u001b[38;5;124m\"\u001b[39m\u001b[38;5;124mYear of birth: \u001b[39m\u001b[38;5;124m\"\u001b[39m)\n\u001b[1;32m----> 5\u001b[0m age \u001b[38;5;241m=\u001b[39m \u001b[38;5;241;43m2022\u001b[39;49m\u001b[43m \u001b[49m\u001b[38;5;241;43m-\u001b[39;49m\u001b[43m \u001b[49m\u001b[43myear_of_birth\u001b[49m\n\u001b[0;32m      7\u001b[0m \u001b[38;5;28mprint\u001b[39m(\u001b[38;5;124mf\u001b[39m\u001b[38;5;124m\"\"\"\u001b[39m\n\u001b[0;32m      8\u001b[0m \u001b[38;5;124mMy name is: \u001b[39m\u001b[38;5;132;01m{\u001b[39;00mname\u001b[38;5;132;01m}\u001b[39;00m\n\u001b[0;32m      9\u001b[0m \u001b[38;5;124mI live at: \u001b[39m\u001b[38;5;132;01m{\u001b[39;00mplace\u001b[38;5;132;01m}\u001b[39;00m\n\u001b[0;32m     10\u001b[0m \u001b[38;5;132;01m{\u001b[39;00mname\u001b[38;5;132;01m}\u001b[39;00m\u001b[38;5;124m is \u001b[39m\u001b[38;5;132;01m{\u001b[39;00mage\u001b[38;5;132;01m}\u001b[39;00m\u001b[38;5;124m years old\u001b[39m\u001b[38;5;124m\"\"\"\u001b[39m)\n",
      "\u001b[1;31mTypeError\u001b[0m: unsupported operand type(s) for -: 'int' and 'str'"
     ]
    }
   ],
   "source": [
    "# Calculation of age of user\n",
    "\n",
    "name = input(\"Name: \")\n",
    "place = input(\"place: \")\n",
    "year_of_birth = input(\"Year of birth: \")\n",
    "\n",
    "age = 2022 - year_of_birth\n",
    "\n",
    "print(f\"\"\"\n",
    "My name is: {name}\n",
    "I live at: {place}\n",
    "{name} is {age} years old\"\"\")"
   ]
  },
  {
   "cell_type": "code",
   "execution_count": 51,
   "id": "202dfd2d",
   "metadata": {},
   "outputs": [
    {
     "name": "stdout",
     "output_type": "stream",
     "text": [
      "Name: Shubhranshu Mishra\n",
      "place: Ranchi\n",
      "Year of birth: 1995\n",
      "\n",
      "My name is: Shubhranshu Mishra\n",
      "I live at: Ranchi\n",
      "Shubhranshu Mishra is 27 years old\n"
     ]
    }
   ],
   "source": [
    "# Calculation of age of user\n",
    "\n",
    "name = input(\"Name: \")\n",
    "place = input(\"place: \")\n",
    "year_of_birth = int(input(\"Year of birth: \")) # We have converted it to int, as input always gives string\n",
    "\n",
    "age = 2022 - year_of_birth\n",
    "\n",
    "print(f\"\"\"\n",
    "My name is: {name}\n",
    "I live at: {place}\n",
    "{name} is {age} years old\"\"\")"
   ]
  },
  {
   "cell_type": "code",
   "execution_count": 52,
   "id": "35f2abbc",
   "metadata": {},
   "outputs": [
    {
     "name": "stdout",
     "output_type": "stream",
     "text": [
      "Name: Shubhranshu Mishra\n",
      "place: Ranchi\n",
      "Year of birth: 1995\n",
      "Current year: 2022\n",
      "\n",
      "My name is: Shubhranshu Mishra\n",
      "I live at: Ranchi\n",
      "Shubhranshu Mishra is 27 years old\n"
     ]
    }
   ],
   "source": [
    "# Calculation of age of user\n",
    "\n",
    "name = input(\"Name: \")\n",
    "place = input(\"place: \")\n",
    "year_of_birth = int(input(\"Year of birth: \")) \n",
    "current_year = int(input(\"Current year: \"))\n",
    "\n",
    "age = 2022 - year_of_birth\n",
    "\n",
    "print(f\"\"\"\n",
    "My name is: {name}\n",
    "I live at: {place}\n",
    "{name} is {age} years old\"\"\")"
   ]
  },
  {
   "cell_type": "markdown",
   "id": "fa991baa",
   "metadata": {},
   "source": [
    "## Type conversion"
   ]
  },
  {
   "cell_type": "code",
   "execution_count": 47,
   "id": "d7f1074b",
   "metadata": {},
   "outputs": [
    {
     "name": "stdout",
     "output_type": "stream",
     "text": [
      "Enter the value of A:25\n",
      "Enter the value of B:24\n",
      "<class 'int'> <class 'int'>\n"
     ]
    }
   ],
   "source": [
    "A = int(input(\"Enter the value of A:\"))\n",
    "B = int(input(\"Enter the value of B:\"))\n",
    "\n",
    "print(type(A), type(B))"
   ]
  },
  {
   "cell_type": "code",
   "execution_count": 48,
   "id": "fc85279f",
   "metadata": {},
   "outputs": [
    {
     "name": "stdout",
     "output_type": "stream",
     "text": [
      "Enter the value of A:55\n",
      "Enter the value of B:254\n",
      "Sum of A and B is: 309\n"
     ]
    }
   ],
   "source": [
    "A = int(input(\"Enter the value of A:\"))\n",
    "B = int(input(\"Enter the value of B:\"))\n",
    "\n",
    "print(f\"Sum of A and B is: {A + B}\")"
   ]
  },
  {
   "cell_type": "code",
   "execution_count": 53,
   "id": "8b0bdfec",
   "metadata": {},
   "outputs": [
    {
     "ename": "SyntaxError",
     "evalue": "invalid syntax (2077884358.py, line 1)",
     "output_type": "error",
     "traceback": [
      "\u001b[1;36m  Cell \u001b[1;32mIn[53], line 1\u001b[1;36m\u001b[0m\n\u001b[1;33m    int A\u001b[0m\n\u001b[1;37m        ^\u001b[0m\n\u001b[1;31mSyntaxError\u001b[0m\u001b[1;31m:\u001b[0m invalid syntax\n"
     ]
    }
   ],
   "source": [
    "int A"
   ]
  },
  {
   "cell_type": "code",
   "execution_count": 54,
   "id": "99db564f",
   "metadata": {},
   "outputs": [
    {
     "name": "stdout",
     "output_type": "stream",
     "text": [
      "Enter the value of A:5215.5151\n",
      "Enter the value of B:145.101154545\n",
      "Sum of A and B is: 5360.616254545\n"
     ]
    }
   ],
   "source": [
    "A = float(input(\"Enter the value of A:\"))\n",
    "B = float(input(\"Enter the value of B:\"))\n",
    "\n",
    "print(f\"Sum of A and B is: {A + B}\")"
   ]
  },
  {
   "cell_type": "code",
   "execution_count": 55,
   "id": "0df5cc17",
   "metadata": {},
   "outputs": [
    {
     "name": "stdout",
     "output_type": "stream",
     "text": [
      "Enter the value of A:10.2\n",
      "Enter the value of B:10\n",
      "Sum of A and B is: 20.2\n"
     ]
    }
   ],
   "source": [
    "A = float(input(\"Enter the value of A:\"))\n",
    "B = int(input(\"Enter the value of B:\"))\n",
    "\n",
    "print(f\"Sum of A and B is: {A + B}\")"
   ]
  },
  {
   "cell_type": "code",
   "execution_count": 56,
   "id": "0f433c16",
   "metadata": {},
   "outputs": [
    {
     "name": "stdout",
     "output_type": "stream",
     "text": [
      "Enter the value of A:10.2\n",
      "Enter the value of B:10.2\n"
     ]
    },
    {
     "ename": "ValueError",
     "evalue": "invalid literal for int() with base 10: '10.2'",
     "output_type": "error",
     "traceback": [
      "\u001b[1;31m---------------------------------------------------------------------------\u001b[0m",
      "\u001b[1;31mValueError\u001b[0m                                Traceback (most recent call last)",
      "Cell \u001b[1;32mIn[56], line 2\u001b[0m\n\u001b[0;32m      1\u001b[0m A \u001b[38;5;241m=\u001b[39m \u001b[38;5;28mfloat\u001b[39m(\u001b[38;5;28minput\u001b[39m(\u001b[38;5;124m\"\u001b[39m\u001b[38;5;124mEnter the value of A:\u001b[39m\u001b[38;5;124m\"\u001b[39m))\n\u001b[1;32m----> 2\u001b[0m B \u001b[38;5;241m=\u001b[39m \u001b[38;5;28;43mint\u001b[39;49m\u001b[43m(\u001b[49m\u001b[38;5;28;43minput\u001b[39;49m\u001b[43m(\u001b[49m\u001b[38;5;124;43m\"\u001b[39;49m\u001b[38;5;124;43mEnter the value of B:\u001b[39;49m\u001b[38;5;124;43m\"\u001b[39;49m\u001b[43m)\u001b[49m\u001b[43m)\u001b[49m\n\u001b[0;32m      4\u001b[0m \u001b[38;5;28mprint\u001b[39m(\u001b[38;5;124mf\u001b[39m\u001b[38;5;124m\"\u001b[39m\u001b[38;5;124mSum of A and B is: \u001b[39m\u001b[38;5;132;01m{\u001b[39;00mA \u001b[38;5;241m+\u001b[39m B\u001b[38;5;132;01m}\u001b[39;00m\u001b[38;5;124m\"\u001b[39m)\n",
      "\u001b[1;31mValueError\u001b[0m: invalid literal for int() with base 10: '10.2'"
     ]
    }
   ],
   "source": [
    "A = float(input(\"Enter the value of A:\"))\n",
    "B = int(input(\"Enter the value of B:\")) #10.2 if float not int\n",
    "\n",
    "print(f\"Sum of A and B is: {A + B}\")"
   ]
  },
  {
   "cell_type": "code",
   "execution_count": 59,
   "id": "1aaceff4",
   "metadata": {},
   "outputs": [
    {
     "name": "stdout",
     "output_type": "stream",
     "text": [
      "data type before: <class 'str'>, value of A: 50\n",
      "data type after: <class 'int'>, value of A: 50\n"
     ]
    }
   ],
   "source": [
    "# String to integer\n",
    "A = \"50\"\n",
    "print(f\"data type before: {type(A)}, value of A: {A}\")\n",
    "A = int(A)\n",
    "print(f\"data type after: {type(A)}, value of A: {A}\")"
   ]
  },
  {
   "cell_type": "code",
   "execution_count": 60,
   "id": "3e75ed57",
   "metadata": {},
   "outputs": [
    {
     "name": "stdout",
     "output_type": "stream",
     "text": [
      "data type before: <class 'str'>, value of A: 50.22\n"
     ]
    },
    {
     "ename": "ValueError",
     "evalue": "invalid literal for int() with base 10: '50.22'",
     "output_type": "error",
     "traceback": [
      "\u001b[1;31m---------------------------------------------------------------------------\u001b[0m",
      "\u001b[1;31mValueError\u001b[0m                                Traceback (most recent call last)",
      "Cell \u001b[1;32mIn[60], line 4\u001b[0m\n\u001b[0;32m      2\u001b[0m A \u001b[38;5;241m=\u001b[39m \u001b[38;5;124m\"\u001b[39m\u001b[38;5;124m50.22\u001b[39m\u001b[38;5;124m\"\u001b[39m\n\u001b[0;32m      3\u001b[0m \u001b[38;5;28mprint\u001b[39m(\u001b[38;5;124mf\u001b[39m\u001b[38;5;124m\"\u001b[39m\u001b[38;5;124mdata type before: \u001b[39m\u001b[38;5;132;01m{\u001b[39;00m\u001b[38;5;28mtype\u001b[39m(A)\u001b[38;5;132;01m}\u001b[39;00m\u001b[38;5;124m, value of A: \u001b[39m\u001b[38;5;132;01m{\u001b[39;00mA\u001b[38;5;132;01m}\u001b[39;00m\u001b[38;5;124m\"\u001b[39m)\n\u001b[1;32m----> 4\u001b[0m A \u001b[38;5;241m=\u001b[39m \u001b[38;5;28;43mint\u001b[39;49m\u001b[43m(\u001b[49m\u001b[43mA\u001b[49m\u001b[43m)\u001b[49m \u001b[38;5;66;03m# Trying to convert float to integer\u001b[39;00m\n\u001b[0;32m      5\u001b[0m \u001b[38;5;28mprint\u001b[39m(\u001b[38;5;124mf\u001b[39m\u001b[38;5;124m\"\u001b[39m\u001b[38;5;124mdata type after: \u001b[39m\u001b[38;5;132;01m{\u001b[39;00m\u001b[38;5;28mtype\u001b[39m(A)\u001b[38;5;132;01m}\u001b[39;00m\u001b[38;5;124m, value of A: \u001b[39m\u001b[38;5;132;01m{\u001b[39;00mA\u001b[38;5;132;01m}\u001b[39;00m\u001b[38;5;124m\"\u001b[39m)\n",
      "\u001b[1;31mValueError\u001b[0m: invalid literal for int() with base 10: '50.22'"
     ]
    }
   ],
   "source": [
    "# String to integer\n",
    "A = \"50.22\"\n",
    "print(f\"data type before: {type(A)}, value of A: {A}\")\n",
    "A = int(A) # Trying to convert float to integer\n",
    "print(f\"data type after: {type(A)}, value of A: {A}\")"
   ]
  },
  {
   "cell_type": "code",
   "execution_count": 62,
   "id": "bc770f63",
   "metadata": {},
   "outputs": [
    {
     "name": "stdout",
     "output_type": "stream",
     "text": [
      "data type before: <class 'float'>, value of A: 50.22\n",
      "data type after: <class 'int'>, value of A: 50\n"
     ]
    }
   ],
   "source": [
    "# float to integer\n",
    "A = 50.22\n",
    "print(f\"data type before: {type(A)}, value of A: {A}\")\n",
    "A = int(A)\n",
    "print(f\"data type after: {type(A)}, value of A: {A}\")"
   ]
  },
  {
   "cell_type": "code",
   "execution_count": 63,
   "id": "b7fd4cb4",
   "metadata": {},
   "outputs": [
    {
     "name": "stdout",
     "output_type": "stream",
     "text": [
      "data type before: <class 'int'>, value of A: 50\n",
      "data type after: <class 'float'>, value of A: 50.0\n"
     ]
    }
   ],
   "source": [
    "# integer to float\n",
    "A = 50\n",
    "print(f\"data type before: {type(A)}, value of A: {A}\")\n",
    "A = float(A)\n",
    "print(f\"data type after: {type(A)}, value of A: {A}\")"
   ]
  },
  {
   "cell_type": "code",
   "execution_count": 64,
   "id": "0609f8ec",
   "metadata": {},
   "outputs": [
    {
     "name": "stdout",
     "output_type": "stream",
     "text": [
      "data type before: <class 'int'>, value of A: 10\n",
      "data type after: <class 'bool'>, value of A: True\n"
     ]
    }
   ],
   "source": [
    "# integer to boolean\n",
    "A = 10\n",
    "print(f\"data type before: {type(A)}, value of A: {A}\")\n",
    "A = bool(A)\n",
    "print(f\"data type after: {type(A)}, value of A: {A}\")"
   ]
  },
  {
   "cell_type": "code",
   "execution_count": 68,
   "id": "8303d1ec",
   "metadata": {},
   "outputs": [],
   "source": [
    "# In binary- true is 1, false is 0"
   ]
  },
  {
   "cell_type": "code",
   "execution_count": 69,
   "id": "103e6b64",
   "metadata": {},
   "outputs": [
    {
     "name": "stdout",
     "output_type": "stream",
     "text": [
      "data type before: <class 'int'>, value of A: 0\n",
      "data type after: <class 'bool'>, value of A: False\n"
     ]
    }
   ],
   "source": [
    "# integer to boolean\n",
    "A = 0\n",
    "print(f\"data type before: {type(A)}, value of A: {A}\")\n",
    "A = bool(A)\n",
    "print(f\"data type after: {type(A)}, value of A: {A}\")"
   ]
  },
  {
   "cell_type": "code",
   "execution_count": 70,
   "id": "af19d214",
   "metadata": {},
   "outputs": [
    {
     "name": "stdout",
     "output_type": "stream",
     "text": [
      "data type before: <class 'int'>, value of A: 1\n",
      "data type after: <class 'bool'>, value of A: True\n"
     ]
    }
   ],
   "source": [
    "A = 1\n",
    "print(f\"data type before: {type(A)}, value of A: {A}\")\n",
    "A = bool(A)\n",
    "print(f\"data type after: {type(A)}, value of A: {A}\")"
   ]
  },
  {
   "cell_type": "code",
   "execution_count": 71,
   "id": "7f73c2cf",
   "metadata": {},
   "outputs": [],
   "source": [
    "# Non zero number or string will always give TRUE in bool\n",
    "# Empty string and Zero will give FALSE"
   ]
  },
  {
   "cell_type": "code",
   "execution_count": 74,
   "id": "a903faff",
   "metadata": {},
   "outputs": [
    {
     "name": "stdout",
     "output_type": "stream",
     "text": [
      "data type before: <class 'int'>, value of A: -5\n",
      "data type after: <class 'bool'>, value of A: True\n"
     ]
    }
   ],
   "source": [
    "A = -5\n",
    "print(f\"data type before: {type(A)}, value of A: {A}\")\n",
    "A = bool(A)\n",
    "print(f\"data type after: {type(A)}, value of A: {A}\")"
   ]
  },
  {
   "cell_type": "code",
   "execution_count": 75,
   "id": "b673c3f2",
   "metadata": {},
   "outputs": [
    {
     "name": "stdout",
     "output_type": "stream",
     "text": [
      "data type before: <class 'str'>, value of A: True\n",
      "data type after: <class 'bool'>, value of A: True\n"
     ]
    }
   ],
   "source": [
    "A = \"True\"\n",
    "print(f\"data type before: {type(A)}, value of A: {A}\")\n",
    "A = bool(A)\n",
    "print(f\"data type after: {type(A)}, value of A: {A}\")"
   ]
  },
  {
   "cell_type": "code",
   "execution_count": 76,
   "id": "32c2cf29",
   "metadata": {},
   "outputs": [
    {
     "name": "stdout",
     "output_type": "stream",
     "text": [
      "data type before: <class 'str'>, value of A: False\n",
      "data type after: <class 'bool'>, value of A: True\n"
     ]
    }
   ],
   "source": [
    "A = \"False\"\n",
    "print(f\"data type before: {type(A)}, value of A: {A}\")\n",
    "A = bool(A)\n",
    "print(f\"data type after: {type(A)}, value of A: {A}\")"
   ]
  },
  {
   "cell_type": "code",
   "execution_count": 77,
   "id": "fe996d65",
   "metadata": {},
   "outputs": [
    {
     "name": "stdout",
     "output_type": "stream",
     "text": [
      "data type before: <class 'str'>, value of A: \n",
      "data type after: <class 'bool'>, value of A: False\n"
     ]
    }
   ],
   "source": [
    "# empty str to bool\n",
    "A = \"\"\n",
    "print(f\"data type before: {type(A)}, value of A: {A}\")\n",
    "A = bool(A)\n",
    "print(f\"data type after: {type(A)}, value of A: {A}\")"
   ]
  },
  {
   "cell_type": "code",
   "execution_count": 78,
   "id": "279dde11",
   "metadata": {},
   "outputs": [
    {
     "name": "stdout",
     "output_type": "stream",
     "text": [
      "data type before: <class 'str'>, value of A: \n"
     ]
    },
    {
     "ename": "ValueError",
     "evalue": "invalid literal for int() with base 10: ''",
     "output_type": "error",
     "traceback": [
      "\u001b[1;31m---------------------------------------------------------------------------\u001b[0m",
      "\u001b[1;31mValueError\u001b[0m                                Traceback (most recent call last)",
      "Cell \u001b[1;32mIn[78], line 3\u001b[0m\n\u001b[0;32m      1\u001b[0m A \u001b[38;5;241m=\u001b[39m \u001b[38;5;124m\"\u001b[39m\u001b[38;5;124m\"\u001b[39m\n\u001b[0;32m      2\u001b[0m \u001b[38;5;28mprint\u001b[39m(\u001b[38;5;124mf\u001b[39m\u001b[38;5;124m\"\u001b[39m\u001b[38;5;124mdata type before: \u001b[39m\u001b[38;5;132;01m{\u001b[39;00m\u001b[38;5;28mtype\u001b[39m(A)\u001b[38;5;132;01m}\u001b[39;00m\u001b[38;5;124m, value of A: \u001b[39m\u001b[38;5;132;01m{\u001b[39;00mA\u001b[38;5;132;01m}\u001b[39;00m\u001b[38;5;124m\"\u001b[39m)\n\u001b[1;32m----> 3\u001b[0m A \u001b[38;5;241m=\u001b[39m \u001b[38;5;28;43mint\u001b[39;49m\u001b[43m(\u001b[49m\u001b[43mA\u001b[49m\u001b[43m)\u001b[49m\n\u001b[0;32m      4\u001b[0m \u001b[38;5;28mprint\u001b[39m(\u001b[38;5;124mf\u001b[39m\u001b[38;5;124m\"\u001b[39m\u001b[38;5;124mdata type after: \u001b[39m\u001b[38;5;132;01m{\u001b[39;00m\u001b[38;5;28mtype\u001b[39m(A)\u001b[38;5;132;01m}\u001b[39;00m\u001b[38;5;124m, value of A: \u001b[39m\u001b[38;5;132;01m{\u001b[39;00mA\u001b[38;5;132;01m}\u001b[39;00m\u001b[38;5;124m\"\u001b[39m)\n",
      "\u001b[1;31mValueError\u001b[0m: invalid literal for int() with base 10: ''"
     ]
    }
   ],
   "source": [
    "# empty str to int\n",
    "A = \"\"\n",
    "print(f\"data type before: {type(A)}, value of A: {A}\")\n",
    "A = int(A)\n",
    "print(f\"data type after: {type(A)}, value of A: {A}\")"
   ]
  },
  {
   "cell_type": "markdown",
   "id": "5eae0247",
   "metadata": {},
   "source": [
    "## Memory block"
   ]
  },
  {
   "cell_type": "code",
   "execution_count": 79,
   "id": "00147085",
   "metadata": {},
   "outputs": [],
   "source": [
    "a = 22\n",
    "b = 25\n",
    "c = 48"
   ]
  },
  {
   "cell_type": "code",
   "execution_count": 81,
   "id": "458698df",
   "metadata": {},
   "outputs": [
    {
     "data": {
      "text/plain": [
       "2364317985744"
      ]
     },
     "execution_count": 81,
     "metadata": {},
     "output_type": "execute_result"
    }
   ],
   "source": [
    "id(a) #Memory address"
   ]
  },
  {
   "cell_type": "code",
   "execution_count": 82,
   "id": "1792fd79",
   "metadata": {},
   "outputs": [
    {
     "data": {
      "text/plain": [
       "2364317985840"
      ]
     },
     "execution_count": 82,
     "metadata": {},
     "output_type": "execute_result"
    }
   ],
   "source": [
    "id(b)"
   ]
  },
  {
   "cell_type": "code",
   "execution_count": 83,
   "id": "c130b513",
   "metadata": {},
   "outputs": [
    {
     "data": {
      "text/plain": [
       "2364317986576"
      ]
     },
     "execution_count": 83,
     "metadata": {},
     "output_type": "execute_result"
    }
   ],
   "source": [
    "id(c)"
   ]
  },
  {
   "cell_type": "code",
   "execution_count": 84,
   "id": "65ec0030",
   "metadata": {},
   "outputs": [],
   "source": [
    "c = 22+ b"
   ]
  },
  {
   "cell_type": "code",
   "execution_count": 86,
   "id": "55ccaf72",
   "metadata": {},
   "outputs": [
    {
     "data": {
      "text/plain": [
       "2364317986544"
      ]
     },
     "execution_count": 86,
     "metadata": {},
     "output_type": "execute_result"
    }
   ],
   "source": [
    "id(c)"
   ]
  },
  {
   "cell_type": "code",
   "execution_count": 87,
   "id": "aeb762e3",
   "metadata": {},
   "outputs": [
    {
     "data": {
      "text/plain": [
       "2364317985744"
      ]
     },
     "execution_count": 87,
     "metadata": {},
     "output_type": "execute_result"
    }
   ],
   "source": [
    "a = 22\n",
    "id(a)"
   ]
  },
  {
   "cell_type": "code",
   "execution_count": 89,
   "id": "40cbbaa6",
   "metadata": {},
   "outputs": [
    {
     "data": {
      "text/plain": [
       "2364318176688"
      ]
     },
     "execution_count": 89,
     "metadata": {},
     "output_type": "execute_result"
    }
   ],
   "source": [
    "a = 99\n",
    "id(a)"
   ]
  },
  {
   "cell_type": "code",
   "execution_count": 90,
   "id": "8cd86292",
   "metadata": {},
   "outputs": [],
   "source": [
    "# Memory is assigned to value not variable name"
   ]
  },
  {
   "cell_type": "code",
   "execution_count": 91,
   "id": "1b2f0572",
   "metadata": {},
   "outputs": [
    {
     "name": "stdout",
     "output_type": "stream",
     "text": [
      "2364317985744 2364317985840 2364317986576\n"
     ]
    }
   ],
   "source": [
    "a = 22\n",
    "b = 25\n",
    "c = 48\n",
    "\n",
    "print(id(a), id(b), id(c))"
   ]
  },
  {
   "cell_type": "code",
   "execution_count": 92,
   "id": "a24cf4e6",
   "metadata": {},
   "outputs": [
    {
     "name": "stdout",
     "output_type": "stream",
     "text": [
      "2362274328176 2364317986480 2362274328176\n"
     ]
    }
   ],
   "source": [
    "a = \"Shubhranshu\"\n",
    "b = 45\n",
    "c = \"Shubhranshu\"\n",
    "\n",
    "print(id(a), id(b), id(c))"
   ]
  },
  {
   "cell_type": "code",
   "execution_count": 93,
   "id": "d89a4fee",
   "metadata": {},
   "outputs": [
    {
     "name": "stdout",
     "output_type": "stream",
     "text": [
      "2364317985744 2364317986480 2362272188688 2364317986480\n"
     ]
    }
   ],
   "source": [
    "a = 22\n",
    "b = 45\n",
    "c = 22.0\n",
    "d = 45\n",
    "\n",
    "print(id(a), id(b), id(c), id(d))"
   ]
  },
  {
   "cell_type": "code",
   "execution_count": null,
   "id": "b1ffe9d5",
   "metadata": {},
   "outputs": [],
   "source": []
  }
 ],
 "metadata": {
  "kernelspec": {
   "display_name": "Python 3 (ipykernel)",
   "language": "python",
   "name": "python3"
  },
  "language_info": {
   "codemirror_mode": {
    "name": "ipython",
    "version": 3
   },
   "file_extension": ".py",
   "mimetype": "text/x-python",
   "name": "python",
   "nbconvert_exporter": "python",
   "pygments_lexer": "ipython3",
   "version": "3.9.12"
  }
 },
 "nbformat": 4,
 "nbformat_minor": 5
}
