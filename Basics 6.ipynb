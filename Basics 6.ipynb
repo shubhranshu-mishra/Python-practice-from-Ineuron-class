{
 "cells": [
  {
   "cell_type": "markdown",
   "id": "8d0a6518",
   "metadata": {},
   "source": [
    "## Lists"
   ]
  },
  {
   "cell_type": "markdown",
   "id": "f49a3cfc",
   "metadata": {},
   "source": [
    "Lists are mutable, unlike strings.\n",
    "List --> []"
   ]
  },
  {
   "cell_type": "code",
   "execution_count": 1,
   "id": "54bc53b1",
   "metadata": {},
   "outputs": [],
   "source": [
    "my_list = [1,2,3]"
   ]
  },
  {
   "cell_type": "code",
   "execution_count": 2,
   "id": "7fcb9e15",
   "metadata": {},
   "outputs": [],
   "source": [
    "my_list = [\"A string\", 23, 100, 56.25, True]"
   ]
  },
  {
   "cell_type": "code",
   "execution_count": 3,
   "id": "961617f5",
   "metadata": {},
   "outputs": [
    {
     "data": {
      "text/plain": [
       "5"
      ]
     },
     "execution_count": 3,
     "metadata": {},
     "output_type": "execute_result"
    }
   ],
   "source": [
    "len(my_list)"
   ]
  },
  {
   "cell_type": "code",
   "execution_count": 4,
   "id": "7831e3fb",
   "metadata": {},
   "outputs": [
    {
     "data": {
      "text/plain": [
       "1"
      ]
     },
     "execution_count": 4,
     "metadata": {},
     "output_type": "execute_result"
    }
   ],
   "source": [
    "A = [1,2,3,4,5]\n",
    "\n",
    "A[0]"
   ]
  },
  {
   "cell_type": "code",
   "execution_count": 5,
   "id": "c1814d24",
   "metadata": {},
   "outputs": [
    {
     "data": {
      "text/plain": [
       "list"
      ]
     },
     "execution_count": 5,
     "metadata": {},
     "output_type": "execute_result"
    }
   ],
   "source": [
    "type(A)"
   ]
  },
  {
   "cell_type": "code",
   "execution_count": 6,
   "id": "62102cbb",
   "metadata": {},
   "outputs": [],
   "source": [
    "A = [1,2,3,4,5, \"Shubhranshu\", 1+2j, False]"
   ]
  },
  {
   "cell_type": "code",
   "execution_count": 7,
   "id": "d567c6aa",
   "metadata": {},
   "outputs": [
    {
     "name": "stdout",
     "output_type": "stream",
     "text": [
      "1\n",
      "2\n",
      "3\n",
      "4\n",
      "5\n",
      "Shubhranshu\n",
      "(1+2j)\n",
      "False\n"
     ]
    }
   ],
   "source": [
    "for element in A:\n",
    "    print(element)"
   ]
  },
  {
   "cell_type": "code",
   "execution_count": 8,
   "id": "f6ae48b7",
   "metadata": {},
   "outputs": [
    {
     "data": {
      "text/plain": [
       "8"
      ]
     },
     "execution_count": 8,
     "metadata": {},
     "output_type": "execute_result"
    }
   ],
   "source": [
    "len(A)"
   ]
  },
  {
   "cell_type": "code",
   "execution_count": 9,
   "id": "a08ce55a",
   "metadata": {},
   "outputs": [
    {
     "name": "stdout",
     "output_type": "stream",
     "text": [
      "1\n",
      "2\n",
      "3\n",
      "4\n",
      "5\n",
      "Shubhranshu\n",
      "(1+2j)\n",
      "False\n"
     ]
    }
   ],
   "source": [
    "for i in range(len(A)):\n",
    "    print(A[i])"
   ]
  },
  {
   "cell_type": "code",
   "execution_count": 10,
   "id": "3bd7aad8",
   "metadata": {},
   "outputs": [
    {
     "name": "stdout",
     "output_type": "stream",
     "text": [
      "i = 0, value = 1, datatype = <class 'int'>\n",
      "i = 1, value = 2, datatype = <class 'int'>\n",
      "i = 2, value = 3, datatype = <class 'int'>\n",
      "i = 3, value = 4, datatype = <class 'int'>\n",
      "i = 4, value = 5, datatype = <class 'int'>\n",
      "i = 5, value = Shubhranshu, datatype = <class 'str'>\n",
      "i = 6, value = (1+2j), datatype = <class 'complex'>\n",
      "i = 7, value = False, datatype = <class 'bool'>\n"
     ]
    }
   ],
   "source": [
    "for i in range(len(A)):\n",
    "    print(f\"i = {i}, value = {A[i]}, datatype = {type(A[i])}\")"
   ]
  },
  {
   "cell_type": "markdown",
   "id": "c586b92f",
   "metadata": {},
   "source": [
    "Q. What is the difference between list of python and array of C or C++?\n",
    "\n",
    "Ans. In array we will element of only one dataype in python list all elements can be of different or same dataype"
   ]
  },
  {
   "cell_type": "markdown",
   "id": "8f4f7893",
   "metadata": {},
   "source": [
    "## Indexing and Slicing"
   ]
  },
  {
   "cell_type": "code",
   "execution_count": 11,
   "id": "1562eacd",
   "metadata": {},
   "outputs": [],
   "source": [
    "# Similar to string\n",
    "# 0,1,2,3........"
   ]
  },
  {
   "cell_type": "code",
   "execution_count": 12,
   "id": "de47731b",
   "metadata": {},
   "outputs": [],
   "source": [
    "my_list = [\"one\", 'two', 'three', 4, 5, True]"
   ]
  },
  {
   "cell_type": "code",
   "execution_count": 13,
   "id": "f20f1f79",
   "metadata": {},
   "outputs": [
    {
     "data": {
      "text/plain": [
       "'one'"
      ]
     },
     "execution_count": 13,
     "metadata": {},
     "output_type": "execute_result"
    }
   ],
   "source": [
    "my_list[0]"
   ]
  },
  {
   "cell_type": "code",
   "execution_count": 14,
   "id": "01f55051",
   "metadata": {},
   "outputs": [
    {
     "data": {
      "text/plain": [
       "['two', 'three', 4, 5, True]"
      ]
     },
     "execution_count": 14,
     "metadata": {},
     "output_type": "execute_result"
    }
   ],
   "source": [
    "my_list[1:]"
   ]
  },
  {
   "cell_type": "code",
   "execution_count": 15,
   "id": "e3ca8156",
   "metadata": {},
   "outputs": [
    {
     "data": {
      "text/plain": [
       "['one', 'two', 'three']"
      ]
     },
     "execution_count": 15,
     "metadata": {},
     "output_type": "execute_result"
    }
   ],
   "source": [
    "my_list[:3]"
   ]
  },
  {
   "cell_type": "code",
   "execution_count": 16,
   "id": "65782174",
   "metadata": {},
   "outputs": [
    {
     "data": {
      "text/plain": [
       "4"
      ]
     },
     "execution_count": 16,
     "metadata": {},
     "output_type": "execute_result"
    }
   ],
   "source": [
    "my_list[-3]"
   ]
  },
  {
   "cell_type": "code",
   "execution_count": 17,
   "id": "996545a2",
   "metadata": {},
   "outputs": [
    {
     "data": {
      "text/plain": [
       "[1, 2, 3, 4, 5, 'Shubhranshu', (1+2j), False]"
      ]
     },
     "execution_count": 17,
     "metadata": {},
     "output_type": "execute_result"
    }
   ],
   "source": [
    "A"
   ]
  },
  {
   "cell_type": "code",
   "execution_count": 18,
   "id": "26d0924a",
   "metadata": {},
   "outputs": [
    {
     "data": {
      "text/plain": [
       "[4, 5, 'Shubhranshu', (1+2j), False]"
      ]
     },
     "execution_count": 18,
     "metadata": {},
     "output_type": "execute_result"
    }
   ],
   "source": [
    "A[3:]"
   ]
  },
  {
   "cell_type": "code",
   "execution_count": 19,
   "id": "4d80307d",
   "metadata": {},
   "outputs": [
    {
     "data": {
      "text/plain": [
       "[1, 3, 5, (1+2j)]"
      ]
     },
     "execution_count": 19,
     "metadata": {},
     "output_type": "execute_result"
    }
   ],
   "source": [
    "A[::2] #start, end, step"
   ]
  },
  {
   "cell_type": "code",
   "execution_count": 20,
   "id": "cd86ad11",
   "metadata": {},
   "outputs": [
    {
     "name": "stdout",
     "output_type": "stream",
     "text": [
      "0 1\n",
      "2 3\n",
      "4 5\n",
      "6 (1+2j)\n"
     ]
    }
   ],
   "source": [
    "for i in range(0,8,2):\n",
    "    print(i,A[i])"
   ]
  },
  {
   "cell_type": "code",
   "execution_count": 21,
   "id": "7aa0208c",
   "metadata": {},
   "outputs": [
    {
     "data": {
      "text/plain": [
       "[1, 2, 3, 4, 5, 'Shubhranshu', (1+2j), False]"
      ]
     },
     "execution_count": 21,
     "metadata": {},
     "output_type": "execute_result"
    }
   ],
   "source": [
    "A"
   ]
  },
  {
   "cell_type": "code",
   "execution_count": 22,
   "id": "f485e684",
   "metadata": {},
   "outputs": [
    {
     "data": {
      "text/plain": [
       "[False, (1+2j), 'Shubhranshu', 5, 4, 3, 2, 1]"
      ]
     },
     "execution_count": 22,
     "metadata": {},
     "output_type": "execute_result"
    }
   ],
   "source": [
    "A[::-1]"
   ]
  },
  {
   "cell_type": "code",
   "execution_count": 23,
   "id": "aa1525a4",
   "metadata": {},
   "outputs": [
    {
     "data": {
      "text/plain": [
       "[False, 'Shubhranshu', 4, 2]"
      ]
     },
     "execution_count": 23,
     "metadata": {},
     "output_type": "execute_result"
    }
   ],
   "source": [
    "A[::-2]"
   ]
  },
  {
   "cell_type": "code",
   "execution_count": 24,
   "id": "74a9d578",
   "metadata": {},
   "outputs": [
    {
     "name": "stdout",
     "output_type": "stream",
     "text": [
      "0 1\n",
      "2 3\n",
      "4 5\n",
      "6 (1+2j)\n"
     ]
    }
   ],
   "source": [
    "for i in range(0,len(A),2):\n",
    "    print(i, A[i])"
   ]
  },
  {
   "cell_type": "code",
   "execution_count": 25,
   "id": "8393d705",
   "metadata": {},
   "outputs": [
    {
     "name": "stdout",
     "output_type": "stream",
     "text": [
      "0 1\n",
      "1 2\n",
      "2 3\n",
      "3 4\n",
      "4 5\n",
      "5 Shubhranshu\n",
      "6 (1+2j)\n",
      "7 False\n"
     ]
    }
   ],
   "source": [
    "for i in range(0,len(A)):\n",
    "    print(i, A[i])"
   ]
  },
  {
   "cell_type": "code",
   "execution_count": 26,
   "id": "280784f0",
   "metadata": {},
   "outputs": [
    {
     "name": "stdout",
     "output_type": "stream",
     "text": [
      "-1 False\n",
      "-2 (1+2j)\n",
      "-3 Shubhranshu\n",
      "-4 5\n",
      "-5 4\n",
      "-6 3\n",
      "-7 2\n",
      "-8 1\n"
     ]
    }
   ],
   "source": [
    "for i in range(-1,-len(A)-1,-1):\n",
    "    print(i, A[i])"
   ]
  },
  {
   "cell_type": "code",
   "execution_count": 27,
   "id": "864ab85b",
   "metadata": {},
   "outputs": [
    {
     "data": {
      "text/plain": [
       "[1, 3, 5, (1+2j)]"
      ]
     },
     "execution_count": 27,
     "metadata": {},
     "output_type": "execute_result"
    }
   ],
   "source": [
    "A[::2]"
   ]
  },
  {
   "cell_type": "code",
   "execution_count": 28,
   "id": "ab12d00d",
   "metadata": {},
   "outputs": [
    {
     "data": {
      "text/plain": [
       "[2, 4, 'Shubhranshu', False]"
      ]
     },
     "execution_count": 28,
     "metadata": {},
     "output_type": "execute_result"
    }
   ],
   "source": [
    "A[1::2]"
   ]
  },
  {
   "cell_type": "code",
   "execution_count": 29,
   "id": "dbb445a0",
   "metadata": {},
   "outputs": [
    {
     "data": {
      "text/plain": [
       "[1, 2, 3, 4, 5, 'Shubhranshu', (1+2j), False]"
      ]
     },
     "execution_count": 29,
     "metadata": {},
     "output_type": "execute_result"
    }
   ],
   "source": [
    "A"
   ]
  },
  {
   "cell_type": "code",
   "execution_count": 30,
   "id": "56686fd9",
   "metadata": {},
   "outputs": [
    {
     "name": "stdout",
     "output_type": "stream",
     "text": [
      "1 2\n",
      "5 Shubhranshu\n",
      "6 (1+2j)\n",
      "7 False\n"
     ]
    }
   ],
   "source": [
    "for i in [1,5,6,7]:\n",
    "    print(i,A[i])"
   ]
  },
  {
   "cell_type": "markdown",
   "id": "cf470e1e",
   "metadata": {},
   "source": [
    "## Updating list element at specific index"
   ]
  },
  {
   "cell_type": "code",
   "execution_count": 31,
   "id": "b00692f7",
   "metadata": {},
   "outputs": [
    {
     "data": {
      "text/plain": [
       "['one', 'two', 'three', 4, 5, True]"
      ]
     },
     "execution_count": 31,
     "metadata": {},
     "output_type": "execute_result"
    }
   ],
   "source": [
    "my_list"
   ]
  },
  {
   "cell_type": "code",
   "execution_count": 32,
   "id": "2263bdd9",
   "metadata": {},
   "outputs": [
    {
     "name": "stdout",
     "output_type": "stream",
     "text": [
      "New value at index 5:  6\n"
     ]
    }
   ],
   "source": [
    "my_list[5] = 6\n",
    "print(\"New value at index 5: \", my_list[5])"
   ]
  },
  {
   "cell_type": "code",
   "execution_count": 33,
   "id": "b7d26038",
   "metadata": {},
   "outputs": [
    {
     "data": {
      "text/plain": [
       "['one', 'two', 'three', 4, 5, 6]"
      ]
     },
     "execution_count": 33,
     "metadata": {},
     "output_type": "execute_result"
    }
   ],
   "source": [
    "my_list"
   ]
  },
  {
   "cell_type": "code",
   "execution_count": 34,
   "id": "c86e4f2b",
   "metadata": {},
   "outputs": [
    {
     "data": {
      "text/plain": [
       "['one', 'two', 'three', 4, 5, 6, 'new item, 9']"
      ]
     },
     "execution_count": 34,
     "metadata": {},
     "output_type": "execute_result"
    }
   ],
   "source": [
    "# we can also use +\n",
    "\n",
    "my_list + [\"new item, 9\"]"
   ]
  },
  {
   "cell_type": "markdown",
   "id": "ca8f5cfa",
   "metadata": {},
   "source": [
    "This doesn't change the original list"
   ]
  },
  {
   "cell_type": "code",
   "execution_count": 44,
   "id": "e21f369a",
   "metadata": {},
   "outputs": [
    {
     "data": {
      "text/plain": [
       "['one', 'two', 'three', 4, 5, 6, 'new item, 9']"
      ]
     },
     "execution_count": 44,
     "metadata": {},
     "output_type": "execute_result"
    }
   ],
   "source": [
    "my_list"
   ]
  },
  {
   "cell_type": "code",
   "execution_count": 45,
   "id": "23f76f40",
   "metadata": {},
   "outputs": [],
   "source": [
    "# We have to reassign\n",
    "\n",
    "my_list = my_list + [\"new item, 9\"]"
   ]
  },
  {
   "cell_type": "code",
   "execution_count": 46,
   "id": "62fc257b",
   "metadata": {},
   "outputs": [
    {
     "data": {
      "text/plain": [
       "['one', 'two', 'three', 4, 5, 6, 'new item, 9', 'new item, 9']"
      ]
     },
     "execution_count": 46,
     "metadata": {},
     "output_type": "execute_result"
    }
   ],
   "source": [
    "my_list"
   ]
  },
  {
   "cell_type": "code",
   "execution_count": 47,
   "id": "9412d1be",
   "metadata": {},
   "outputs": [
    {
     "data": {
      "text/plain": [
       "[1, 2, 3, 4, 5, 'Shubhranshu', (1+2j), False, 78, 90.22]"
      ]
     },
     "execution_count": 47,
     "metadata": {},
     "output_type": "execute_result"
    }
   ],
   "source": [
    "A"
   ]
  },
  {
   "cell_type": "code",
   "execution_count": 48,
   "id": "04e2bfa5",
   "metadata": {},
   "outputs": [
    {
     "data": {
      "text/plain": [
       "5"
      ]
     },
     "execution_count": 48,
     "metadata": {},
     "output_type": "execute_result"
    }
   ],
   "source": [
    "A[4]"
   ]
  },
  {
   "cell_type": "code",
   "execution_count": 49,
   "id": "fa07c230",
   "metadata": {},
   "outputs": [
    {
     "data": {
      "text/plain": [
       "78"
      ]
     },
     "execution_count": 49,
     "metadata": {},
     "output_type": "execute_result"
    }
   ],
   "source": [
    "A[-2]"
   ]
  },
  {
   "cell_type": "code",
   "execution_count": 50,
   "id": "db4048c7",
   "metadata": {},
   "outputs": [
    {
     "data": {
      "text/plain": [
       "[1, 2, 3, 4, 5, 'Shubhranshu', (1+2j), False, 78, 90.22, 78, 90.22]"
      ]
     },
     "execution_count": 50,
     "metadata": {},
     "output_type": "execute_result"
    }
   ],
   "source": [
    "B = [78,90.22]\n",
    "\n",
    "A + B"
   ]
  },
  {
   "cell_type": "code",
   "execution_count": 51,
   "id": "c15dd767",
   "metadata": {},
   "outputs": [],
   "source": [
    "A = A + B"
   ]
  },
  {
   "cell_type": "code",
   "execution_count": 52,
   "id": "1b6fb916",
   "metadata": {},
   "outputs": [
    {
     "ename": "TypeError",
     "evalue": "unsupported operand type(s) for -: 'list' and 'list'",
     "output_type": "error",
     "traceback": [
      "\u001b[1;31m---------------------------------------------------------------------------\u001b[0m",
      "\u001b[1;31mTypeError\u001b[0m                                 Traceback (most recent call last)",
      "Cell \u001b[1;32mIn[52], line 1\u001b[0m\n\u001b[1;32m----> 1\u001b[0m \u001b[43mA\u001b[49m\u001b[38;5;241;43m-\u001b[39;49m\u001b[43m \u001b[49m\u001b[43mB\u001b[49m\n",
      "\u001b[1;31mTypeError\u001b[0m: unsupported operand type(s) for -: 'list' and 'list'"
     ]
    }
   ],
   "source": [
    "A- B"
   ]
  },
  {
   "cell_type": "markdown",
   "id": "8f20eb81",
   "metadata": {},
   "source": [
    "## Repetition of list"
   ]
  },
  {
   "cell_type": "code",
   "execution_count": 53,
   "id": "3347dc16",
   "metadata": {},
   "outputs": [
    {
     "data": {
      "text/plain": [
       "['one', 'two', 'three', 4, 5, 6, 'new item, 9', 'new item, 9']"
      ]
     },
     "execution_count": 53,
     "metadata": {},
     "output_type": "execute_result"
    }
   ],
   "source": [
    "my_list"
   ]
  },
  {
   "cell_type": "code",
   "execution_count": 54,
   "id": "dada4e70",
   "metadata": {},
   "outputs": [
    {
     "data": {
      "text/plain": [
       "['one',\n",
       " 'two',\n",
       " 'three',\n",
       " 4,\n",
       " 5,\n",
       " 6,\n",
       " 'new item, 9',\n",
       " 'new item, 9',\n",
       " 'one',\n",
       " 'two',\n",
       " 'three',\n",
       " 4,\n",
       " 5,\n",
       " 6,\n",
       " 'new item, 9',\n",
       " 'new item, 9']"
      ]
     },
     "execution_count": 54,
     "metadata": {},
     "output_type": "execute_result"
    }
   ],
   "source": [
    "my_list * 2"
   ]
  },
  {
   "cell_type": "code",
   "execution_count": 55,
   "id": "34725bd9",
   "metadata": {},
   "outputs": [
    {
     "data": {
      "text/plain": [
       "['one', 'two', 'three', 4, 5, 6, 'new item, 9', 'new item, 9']"
      ]
     },
     "execution_count": 55,
     "metadata": {},
     "output_type": "execute_result"
    }
   ],
   "source": [
    "my_list"
   ]
  },
  {
   "cell_type": "code",
   "execution_count": 56,
   "id": "686b1e65",
   "metadata": {},
   "outputs": [
    {
     "data": {
      "text/plain": [
       "[1,\n",
       " 2,\n",
       " 3,\n",
       " 4,\n",
       " 5,\n",
       " 'Shubhranshu',\n",
       " (1+2j),\n",
       " False,\n",
       " 78,\n",
       " 90.22,\n",
       " 78,\n",
       " 90.22,\n",
       " 1,\n",
       " 2,\n",
       " 3,\n",
       " 4,\n",
       " 5,\n",
       " 'Shubhranshu',\n",
       " (1+2j),\n",
       " False,\n",
       " 78,\n",
       " 90.22,\n",
       " 78,\n",
       " 90.22]"
      ]
     },
     "execution_count": 56,
     "metadata": {},
     "output_type": "execute_result"
    }
   ],
   "source": [
    "A * 2"
   ]
  },
  {
   "cell_type": "code",
   "execution_count": 57,
   "id": "e67b63f6",
   "metadata": {},
   "outputs": [
    {
     "ename": "TypeError",
     "evalue": "unsupported operand type(s) for /: 'list' and 'int'",
     "output_type": "error",
     "traceback": [
      "\u001b[1;31m---------------------------------------------------------------------------\u001b[0m",
      "\u001b[1;31mTypeError\u001b[0m                                 Traceback (most recent call last)",
      "Cell \u001b[1;32mIn[57], line 1\u001b[0m\n\u001b[1;32m----> 1\u001b[0m \u001b[43mA\u001b[49m\u001b[38;5;241;43m/\u001b[39;49m\u001b[38;5;241;43m2\u001b[39;49m\n",
      "\u001b[1;31mTypeError\u001b[0m: unsupported operand type(s) for /: 'list' and 'int'"
     ]
    }
   ],
   "source": [
    "A/2"
   ]
  },
  {
   "cell_type": "code",
   "execution_count": 58,
   "id": "90f8aa08",
   "metadata": {},
   "outputs": [
    {
     "ename": "TypeError",
     "evalue": "can't multiply sequence by non-int of type 'list'",
     "output_type": "error",
     "traceback": [
      "\u001b[1;31m---------------------------------------------------------------------------\u001b[0m",
      "\u001b[1;31mTypeError\u001b[0m                                 Traceback (most recent call last)",
      "Cell \u001b[1;32mIn[58], line 1\u001b[0m\n\u001b[1;32m----> 1\u001b[0m \u001b[43mA\u001b[49m\u001b[43m \u001b[49m\u001b[38;5;241;43m*\u001b[39;49m\u001b[43m \u001b[49m\u001b[43mA\u001b[49m\n",
      "\u001b[1;31mTypeError\u001b[0m: can't multiply sequence by non-int of type 'list'"
     ]
    }
   ],
   "source": [
    "A * A"
   ]
  },
  {
   "cell_type": "code",
   "execution_count": 59,
   "id": "650fc586",
   "metadata": {},
   "outputs": [
    {
     "data": {
      "text/plain": [
       "[1,\n",
       " 2,\n",
       " 3,\n",
       " 4,\n",
       " 5,\n",
       " 'Shubhranshu',\n",
       " (1+2j),\n",
       " False,\n",
       " 78,\n",
       " 90.22,\n",
       " 78,\n",
       " 90.22,\n",
       " 1,\n",
       " 2,\n",
       " 3,\n",
       " 4,\n",
       " 5,\n",
       " 'Shubhranshu',\n",
       " (1+2j),\n",
       " False,\n",
       " 78,\n",
       " 90.22,\n",
       " 78,\n",
       " 90.22]"
      ]
     },
     "execution_count": 59,
     "metadata": {},
     "output_type": "execute_result"
    }
   ],
   "source": [
    "A + A"
   ]
  },
  {
   "cell_type": "code",
   "execution_count": 60,
   "id": "dfef6f40",
   "metadata": {},
   "outputs": [
    {
     "data": {
      "text/plain": [
       "[1, 2, 3, 4, 5, 'Shubhranshu', (1+2j), False, 78, 90.22, 78, 90.22]"
      ]
     },
     "execution_count": 60,
     "metadata": {},
     "output_type": "execute_result"
    }
   ],
   "source": [
    "A"
   ]
  },
  {
   "cell_type": "code",
   "execution_count": 61,
   "id": "875b4715",
   "metadata": {},
   "outputs": [
    {
     "data": {
      "text/plain": [
       "[1,\n",
       " 2,\n",
       " 3,\n",
       " 4,\n",
       " 5,\n",
       " 'Shubhranshu',\n",
       " (1+2j),\n",
       " False,\n",
       " 78,\n",
       " 90.22,\n",
       " 78,\n",
       " 90.22,\n",
       " 1,\n",
       " 2,\n",
       " 3,\n",
       " 4,\n",
       " 5,\n",
       " 'Shubhranshu',\n",
       " (1+2j),\n",
       " False,\n",
       " 78,\n",
       " 90.22,\n",
       " 78,\n",
       " 90.22,\n",
       " 1,\n",
       " 2,\n",
       " 3,\n",
       " 4,\n",
       " 5,\n",
       " 'Shubhranshu',\n",
       " (1+2j),\n",
       " False,\n",
       " 78,\n",
       " 90.22,\n",
       " 78,\n",
       " 90.22]"
      ]
     },
     "execution_count": 61,
     "metadata": {},
     "output_type": "execute_result"
    }
   ],
   "source": [
    "A + A + A"
   ]
  },
  {
   "cell_type": "code",
   "execution_count": 62,
   "id": "b725284c",
   "metadata": {},
   "outputs": [
    {
     "data": {
      "text/plain": [
       "[]"
      ]
     },
     "execution_count": 62,
     "metadata": {},
     "output_type": "execute_result"
    }
   ],
   "source": [
    "A * (-1)"
   ]
  },
  {
   "cell_type": "code",
   "execution_count": 63,
   "id": "489e718f",
   "metadata": {},
   "outputs": [
    {
     "data": {
      "text/plain": [
       "[]"
      ]
     },
     "execution_count": 63,
     "metadata": {},
     "output_type": "execute_result"
    }
   ],
   "source": [
    "A * (-2)"
   ]
  },
  {
   "cell_type": "code",
   "execution_count": 64,
   "id": "c0411d7a",
   "metadata": {},
   "outputs": [
    {
     "data": {
      "text/plain": [
       "[1,\n",
       " 2,\n",
       " 3,\n",
       " 4,\n",
       " 5,\n",
       " 'Shubhranshu',\n",
       " (1+2j),\n",
       " False,\n",
       " 78,\n",
       " 90.22,\n",
       " 78,\n",
       " 90.22,\n",
       " 1,\n",
       " 2,\n",
       " 3,\n",
       " 4,\n",
       " 5,\n",
       " 'Shubhranshu',\n",
       " (1+2j),\n",
       " False,\n",
       " 78,\n",
       " 90.22,\n",
       " 78,\n",
       " 90.22,\n",
       " 1,\n",
       " 2,\n",
       " 3,\n",
       " 4,\n",
       " 5,\n",
       " 'Shubhranshu',\n",
       " (1+2j),\n",
       " False,\n",
       " 78,\n",
       " 90.22,\n",
       " 78,\n",
       " 90.22]"
      ]
     },
     "execution_count": 64,
     "metadata": {},
     "output_type": "execute_result"
    }
   ],
   "source": [
    "A + 2 * A"
   ]
  },
  {
   "cell_type": "code",
   "execution_count": 65,
   "id": "b443ff1c",
   "metadata": {},
   "outputs": [
    {
     "data": {
      "text/plain": [
       "[]"
      ]
     },
     "execution_count": 65,
     "metadata": {},
     "output_type": "execute_result"
    }
   ],
   "source": [
    "A * 0"
   ]
  },
  {
   "cell_type": "markdown",
   "id": "5c570175",
   "metadata": {},
   "source": [
    "## Basic list methods"
   ]
  },
  {
   "cell_type": "code",
   "execution_count": 11,
   "id": "07dc7c50",
   "metadata": {},
   "outputs": [
    {
     "data": {
      "text/plain": [
       "9"
      ]
     },
     "execution_count": 11,
     "metadata": {},
     "output_type": "execute_result"
    }
   ],
   "source": [
    "l = [45, 6,7,5,\"Shubhranshu\", True, False, 35,62.56]\n",
    "\n",
    "len(l)"
   ]
  },
  {
   "cell_type": "code",
   "execution_count": 67,
   "id": "d582bd8b",
   "metadata": {},
   "outputs": [
    {
     "data": {
      "text/plain": [
       "12"
      ]
     },
     "execution_count": 67,
     "metadata": {},
     "output_type": "execute_result"
    }
   ],
   "source": [
    "len(A)"
   ]
  },
  {
   "cell_type": "code",
   "execution_count": 68,
   "id": "aa5d24e4",
   "metadata": {},
   "outputs": [
    {
     "data": {
      "text/plain": [
       "0"
      ]
     },
     "execution_count": 68,
     "metadata": {},
     "output_type": "execute_result"
    }
   ],
   "source": [
    "my_list = [] # Not Recommended\n",
    "\n",
    "len(my_list)"
   ]
  },
  {
   "cell_type": "code",
   "execution_count": 69,
   "id": "056b7f51",
   "metadata": {},
   "outputs": [
    {
     "data": {
      "text/plain": [
       "0"
      ]
     },
     "execution_count": 69,
     "metadata": {},
     "output_type": "execute_result"
    }
   ],
   "source": [
    "my_list = list() # Recommended\n",
    "\n",
    "len(my_list)"
   ]
  },
  {
   "cell_type": "code",
   "execution_count": 75,
   "id": "77baedbb",
   "metadata": {},
   "outputs": [
    {
     "name": "stdout",
     "output_type": "stream",
     "text": [
      "Number of item you want to purchase: 3\n",
      "Enter the items you want to purchase: pen\n",
      "Enter the items you want to purchase: bulb\n",
      "Enter the items you want to purchase: knife\n",
      "['pen', 'bulb', 'knife']\n"
     ]
    }
   ],
   "source": [
    "list_of_item_to_purchase = list() # Empty list\n",
    "\n",
    "N = int(input(\"Number of item you want to purchase: \"))\n",
    "for i in range(N):\n",
    "    user_input = input(\"Enter the items you want to purchase: \")\n",
    "    list_of_item_to_purchase = list_of_item_to_purchase + [user_input]\n",
    "    \n",
    "print(list_of_item_to_purchase)"
   ]
  },
  {
   "cell_type": "code",
   "execution_count": 71,
   "id": "2d86b561",
   "metadata": {},
   "outputs": [
    {
     "data": {
      "text/plain": [
       "[]"
      ]
     },
     "execution_count": 71,
     "metadata": {},
     "output_type": "execute_result"
    }
   ],
   "source": [
    "list_of_item_to_purchase"
   ]
  },
  {
   "cell_type": "code",
   "execution_count": 76,
   "id": "274ade22",
   "metadata": {},
   "outputs": [
    {
     "name": "stdout",
     "output_type": "stream",
     "text": [
      "Number of item you want to purchase: 4\n",
      "Enter the items you want to purchase: bulb\n",
      "Enter the items you want to purchase: eraser\n",
      "Enter the items you want to purchase: pen\n",
      "Enter the items you want to purchase: shoes\n",
      "['bulb', 'eraser', 'pen', 'shoes']\n"
     ]
    }
   ],
   "source": [
    "list_of_item_to_purchase = list() \n",
    "\n",
    "N = int(input(\"Number of item you want to purchase: \"))\n",
    "i = 0\n",
    "while i < N:\n",
    "    user_input = input(\"Enter the items you want to purchase: \")\n",
    "    list_of_item_to_purchase = list_of_item_to_purchase + [user_input]\n",
    "    i = i + 1\n",
    "\n",
    "print(list_of_item_to_purchase)"
   ]
  },
  {
   "cell_type": "code",
   "execution_count": 77,
   "id": "70a52c91",
   "metadata": {},
   "outputs": [
    {
     "data": {
      "text/plain": [
       "[1, 2, 34]"
      ]
     },
     "execution_count": 77,
     "metadata": {},
     "output_type": "execute_result"
    }
   ],
   "source": [
    "[1,2] + [34]"
   ]
  },
  {
   "cell_type": "code",
   "execution_count": 4,
   "id": "25cc6f09",
   "metadata": {},
   "outputs": [
    {
     "name": "stdout",
     "output_type": "stream",
     "text": [
      "Number of item you want to purchase: 3\n",
      "Enter the items you want to purchase: cloth\n",
      "current i: 1 => Current list: ['cloth']\n",
      "Enter the items you want to purchase: pen\n",
      "current i: 2 => Current list: ['cloth', 'pen']\n",
      "Enter the items you want to purchase: pencil\n",
      "current i: 3 => Current list: ['cloth', 'pen', 'pencil']\n",
      "['cloth', 'pen', 'pencil']\n"
     ]
    }
   ],
   "source": [
    "list_of_item_to_purchase = list() \n",
    "\n",
    "N = int(input(\"Number of item you want to purchase: \"))\n",
    "i = 0\n",
    "while i < N:\n",
    "    user_input = input(\"Enter the items you want to purchase: \")\n",
    "    list_of_item_to_purchase = list_of_item_to_purchase + [user_input]\n",
    "    i = i + 1\n",
    "    print(f\"current i: {i} => Current list: {list_of_item_to_purchase}\")\n",
    "\n",
    "print(list_of_item_to_purchase)"
   ]
  },
  {
   "cell_type": "code",
   "execution_count": 5,
   "id": "15c9e157",
   "metadata": {},
   "outputs": [
    {
     "data": {
      "text/plain": [
       "3"
      ]
     },
     "execution_count": 5,
     "metadata": {},
     "output_type": "execute_result"
    }
   ],
   "source": [
    "len(list_of_item_to_purchase)"
   ]
  },
  {
   "cell_type": "markdown",
   "id": "53bfdc70",
   "metadata": {},
   "source": [
    "## Check membership in a list"
   ]
  },
  {
   "cell_type": "code",
   "execution_count": 12,
   "id": "ade1a010",
   "metadata": {},
   "outputs": [
    {
     "data": {
      "text/plain": [
       "[45, 6, 7, 5, 'Shubhranshu', True, False, 35, 62.56]"
      ]
     },
     "execution_count": 12,
     "metadata": {},
     "output_type": "execute_result"
    }
   ],
   "source": [
    "l"
   ]
  },
  {
   "cell_type": "code",
   "execution_count": 13,
   "id": "35bbead9",
   "metadata": {},
   "outputs": [
    {
     "data": {
      "text/plain": [
       "True"
      ]
     },
     "execution_count": 13,
     "metadata": {},
     "output_type": "execute_result"
    }
   ],
   "source": [
    "5 in l # Check if 5 exists in list l"
   ]
  },
  {
   "cell_type": "code",
   "execution_count": 14,
   "id": "1a893e4d",
   "metadata": {},
   "outputs": [
    {
     "data": {
      "text/plain": [
       "True"
      ]
     },
     "execution_count": 14,
     "metadata": {},
     "output_type": "execute_result"
    }
   ],
   "source": [
    "\"Shubhranshu\" in l"
   ]
  },
  {
   "cell_type": "code",
   "execution_count": 15,
   "id": "ab6c5f71",
   "metadata": {},
   "outputs": [
    {
     "data": {
      "text/plain": [
       "False"
      ]
     },
     "execution_count": 15,
     "metadata": {},
     "output_type": "execute_result"
    }
   ],
   "source": [
    "\"Pen\" in l"
   ]
  },
  {
   "cell_type": "code",
   "execution_count": 16,
   "id": "2c24995a",
   "metadata": {},
   "outputs": [
    {
     "name": "stdout",
     "output_type": "stream",
     "text": [
      "YES\n"
     ]
    }
   ],
   "source": [
    "if \"Phone cover\" in list_of_item_to_purchase:\n",
    "    print(\"YES\")\n",
    "else:\n",
    "    print(\"NO, adding into the list\")\n",
    "    list_of_item_to_purchase = list_of_item_to_purchase + [\"Phone cover\"]"
   ]
  },
  {
   "cell_type": "code",
   "execution_count": 17,
   "id": "9279c10d",
   "metadata": {},
   "outputs": [
    {
     "data": {
      "text/plain": [
       "['cloth', 'pen', 'pencil', 'Phone cover']"
      ]
     },
     "execution_count": 17,
     "metadata": {},
     "output_type": "execute_result"
    }
   ],
   "source": [
    "list_of_item_to_purchase"
   ]
  },
  {
   "cell_type": "code",
   "execution_count": 18,
   "id": "c81e5704",
   "metadata": {},
   "outputs": [
    {
     "name": "stdout",
     "output_type": "stream",
     "text": [
      "YES\n"
     ]
    }
   ],
   "source": [
    "if \"Phone cover\" in list_of_item_to_purchase:\n",
    "    print(\"YES\")\n",
    "else:\n",
    "    print(\"NO, adding into the list\")\n",
    "    list_of_item_to_purchase = list_of_item_to_purchase + [\"Phone cover\"]"
   ]
  },
  {
   "cell_type": "code",
   "execution_count": 23,
   "id": "de3b3902",
   "metadata": {},
   "outputs": [
    {
     "name": "stdout",
     "output_type": "stream",
     "text": [
      "Anything else to add: milk\n",
      "NO, adding into the list\n"
     ]
    },
    {
     "data": {
      "text/plain": [
       "['cloth', 'pen', 'pencil', 'Phone cover', 'Phone cover', 'milk']"
      ]
     },
     "execution_count": 23,
     "metadata": {},
     "output_type": "execute_result"
    }
   ],
   "source": [
    "new_item = input(\"Anything else to add: \")\n",
    "\n",
    "if new_item not in list_of_item_to_purchase:\n",
    "    print(\"NO, adding into the list\")\n",
    "    list_of_item_to_purchase = list_of_item_to_purchase + [new_item]\n",
    "list_of_item_to_purchase"
   ]
  },
  {
   "cell_type": "code",
   "execution_count": 24,
   "id": "02275dfb",
   "metadata": {},
   "outputs": [
    {
     "data": {
      "text/plain": [
       "['cloth', 'pen', 'pencil', 'Phone cover', 'Phone cover', 'milk']"
      ]
     },
     "execution_count": 24,
     "metadata": {},
     "output_type": "execute_result"
    }
   ],
   "source": [
    "list_of_item_to_purchase"
   ]
  },
  {
   "cell_type": "code",
   "execution_count": 25,
   "id": "e71c4eae",
   "metadata": {},
   "outputs": [
    {
     "data": {
      "text/plain": [
       "6"
      ]
     },
     "execution_count": 25,
     "metadata": {},
     "output_type": "execute_result"
    }
   ],
   "source": [
    "len(list_of_item_to_purchase)"
   ]
  },
  {
   "cell_type": "markdown",
   "id": "9b76e968",
   "metadata": {},
   "source": [
    "## max(), min()"
   ]
  },
  {
   "cell_type": "code",
   "execution_count": 26,
   "id": "518274c5",
   "metadata": {},
   "outputs": [
    {
     "name": "stdout",
     "output_type": "stream",
     "text": [
      "shubhranshu\n",
      "9\n"
     ]
    }
   ],
   "source": [
    "list1 = [\"shubhranshu\",\"datascience\",\"big-data\",\"analytics\"]\n",
    "list2 = [5,6,2,9,5,0]\n",
    "\n",
    "print(max(list1))\n",
    "print(max(list2))"
   ]
  },
  {
   "cell_type": "code",
   "execution_count": 27,
   "id": "70be905a",
   "metadata": {},
   "outputs": [
    {
     "data": {
      "text/plain": [
       "999"
      ]
     },
     "execution_count": 27,
     "metadata": {},
     "output_type": "execute_result"
    }
   ],
   "source": [
    "example = [1,45,999,10]\n",
    "\n",
    "max(example)"
   ]
  },
  {
   "cell_type": "code",
   "execution_count": 28,
   "id": "0b2ce3e6",
   "metadata": {},
   "outputs": [
    {
     "data": {
      "text/plain": [
       "'d'"
      ]
     },
     "execution_count": 28,
     "metadata": {},
     "output_type": "execute_result"
    }
   ],
   "source": [
    "string_example = [\"b\", \"a\", \"d\", \"c\"]\n",
    "\n",
    "max(string_example)"
   ]
  },
  {
   "cell_type": "code",
   "execution_count": 29,
   "id": "3ef80de6",
   "metadata": {},
   "outputs": [
    {
     "data": {
      "text/plain": [
       "'d'"
      ]
     },
     "execution_count": 29,
     "metadata": {},
     "output_type": "execute_result"
    }
   ],
   "source": [
    "string_example = [\"b\", \"a\", \"d\", \"c\", \"D\"] # Refer ASCII value\n",
    "\n",
    "max(string_example)"
   ]
  },
  {
   "cell_type": "code",
   "execution_count": 35,
   "id": "f9469b5d",
   "metadata": {},
   "outputs": [
    {
     "ename": "TypeError",
     "evalue": "'>' not supported between instances of 'int' and 'str'",
     "output_type": "error",
     "traceback": [
      "\u001b[1;31m---------------------------------------------------------------------------\u001b[0m",
      "\u001b[1;31mTypeError\u001b[0m                                 Traceback (most recent call last)",
      "Cell \u001b[1;32mIn[35], line 3\u001b[0m\n\u001b[0;32m      1\u001b[0m string_example \u001b[38;5;241m=\u001b[39m [\u001b[38;5;124m\"\u001b[39m\u001b[38;5;124mb\u001b[39m\u001b[38;5;124m\"\u001b[39m, \u001b[38;5;124m\"\u001b[39m\u001b[38;5;124ma\u001b[39m\u001b[38;5;124m\"\u001b[39m, \u001b[38;5;124m\"\u001b[39m\u001b[38;5;124md\u001b[39m\u001b[38;5;124m\"\u001b[39m, \u001b[38;5;124m\"\u001b[39m\u001b[38;5;124mc\u001b[39m\u001b[38;5;124m\"\u001b[39m, \u001b[38;5;124m\"\u001b[39m\u001b[38;5;124mD\u001b[39m\u001b[38;5;124m\"\u001b[39m, \u001b[38;5;241m1\u001b[39m,\u001b[38;5;241m2\u001b[39m,\u001b[38;5;241m3\u001b[39m]\n\u001b[1;32m----> 3\u001b[0m \u001b[38;5;28;43mmax\u001b[39;49m\u001b[43m(\u001b[49m\u001b[43mstring_example\u001b[49m\u001b[43m)\u001b[49m\n",
      "\u001b[1;31mTypeError\u001b[0m: '>' not supported between instances of 'int' and 'str'"
     ]
    }
   ],
   "source": [
    "string_example = [\"b\", \"a\", \"d\", \"c\", \"D\", 1,2,3]\n",
    "\n",
    "max(string_example)"
   ]
  },
  {
   "cell_type": "code",
   "execution_count": 36,
   "id": "3d032098",
   "metadata": {},
   "outputs": [
    {
     "data": {
      "text/plain": [
       "999"
      ]
     },
     "execution_count": 36,
     "metadata": {},
     "output_type": "execute_result"
    }
   ],
   "source": [
    "example = [1,45,999,10, 54.85]\n",
    "\n",
    "max(example)"
   ]
  },
  {
   "cell_type": "code",
   "execution_count": 37,
   "id": "7ea2e22d",
   "metadata": {},
   "outputs": [
    {
     "ename": "TypeError",
     "evalue": "'>' not supported between instances of 'complex' and 'int'",
     "output_type": "error",
     "traceback": [
      "\u001b[1;31m---------------------------------------------------------------------------\u001b[0m",
      "\u001b[1;31mTypeError\u001b[0m                                 Traceback (most recent call last)",
      "Cell \u001b[1;32mIn[37], line 3\u001b[0m\n\u001b[0;32m      1\u001b[0m example \u001b[38;5;241m=\u001b[39m [\u001b[38;5;241m1\u001b[39m,\u001b[38;5;241m45\u001b[39m,\u001b[38;5;241m999\u001b[39m,\u001b[38;5;241m10\u001b[39m, \u001b[38;5;241m1\u001b[39m\u001b[38;5;241m+\u001b[39m\u001b[38;5;241m6\u001b[39mj]\n\u001b[1;32m----> 3\u001b[0m \u001b[38;5;28;43mmax\u001b[39;49m\u001b[43m(\u001b[49m\u001b[43mexample\u001b[49m\u001b[43m)\u001b[49m\n",
      "\u001b[1;31mTypeError\u001b[0m: '>' not supported between instances of 'complex' and 'int'"
     ]
    }
   ],
   "source": [
    "example = [1,45,999,10, 1+6j]\n",
    "\n",
    "max(example)"
   ]
  },
  {
   "cell_type": "code",
   "execution_count": 38,
   "id": "e916691a",
   "metadata": {},
   "outputs": [
    {
     "data": {
      "text/plain": [
       "1000"
      ]
     },
     "execution_count": 38,
     "metadata": {},
     "output_type": "execute_result"
    }
   ],
   "source": [
    "example = [1,45,999,1000, -5]\n",
    "\n",
    "max(example)"
   ]
  },
  {
   "cell_type": "code",
   "execution_count": 39,
   "id": "6be82a20",
   "metadata": {},
   "outputs": [
    {
     "data": {
      "text/plain": [
       "-5"
      ]
     },
     "execution_count": 39,
     "metadata": {},
     "output_type": "execute_result"
    }
   ],
   "source": [
    "example = [1,45,999,1000, -5]\n",
    "\n",
    "min(example)"
   ]
  },
  {
   "cell_type": "code",
   "execution_count": 40,
   "id": "a3bd643f",
   "metadata": {},
   "outputs": [
    {
     "data": {
      "text/plain": [
       "4000"
      ]
     },
     "execution_count": 40,
     "metadata": {},
     "output_type": "execute_result"
    }
   ],
   "source": [
    "example = [1,45,999,1000, -5, 200*20]\n",
    "\n",
    "max(example)"
   ]
  },
  {
   "cell_type": "code",
   "execution_count": 1,
   "id": "bbf3f774",
   "metadata": {},
   "outputs": [
    {
     "data": {
      "text/plain": [
       "'dew'"
      ]
     },
     "execution_count": 1,
     "metadata": {},
     "output_type": "execute_result"
    }
   ],
   "source": [
    "string_example = [\"bhaveen\", \"abhishek\", \"dew\", \"chalie\", \"Doctor\"]\n",
    "\n",
    "max(string_example)"
   ]
  },
  {
   "cell_type": "code",
   "execution_count": 2,
   "id": "7c1292cd",
   "metadata": {},
   "outputs": [
    {
     "data": {
      "text/plain": [
       "'Doctor'"
      ]
     },
     "execution_count": 2,
     "metadata": {},
     "output_type": "execute_result"
    }
   ],
   "source": [
    "string_example = [\"bhaveen\", \"abhishek\", \"dew\", \"dj\", \"chalie\", \"Doctor\"]\n",
    "\n",
    "min(string_example)"
   ]
  },
  {
   "cell_type": "code",
   "execution_count": 3,
   "id": "5d27eec6",
   "metadata": {},
   "outputs": [
    {
     "data": {
      "text/plain": [
       "'abhishek'"
      ]
     },
     "execution_count": 3,
     "metadata": {},
     "output_type": "execute_result"
    }
   ],
   "source": [
    "string_example = [\"bhaveen\", \"abhishek\", \"dew\", \"dj\", \"chalie\"]\n",
    "\n",
    "min(string_example)"
   ]
  },
  {
   "cell_type": "code",
   "execution_count": 4,
   "id": "69c52dea",
   "metadata": {},
   "outputs": [
    {
     "name": "stdout",
     "output_type": "stream",
     "text": [
      "bhaveen 7\n",
      "abhishek 8\n",
      "dew 3\n",
      "dj 2\n",
      "chalie 6\n",
      "RESULT: maximum length: 8 name: abhishek\n"
     ]
    }
   ],
   "source": [
    "# Print the name with highest number of character\n",
    "\n",
    "max_len = 0\n",
    "result = \"\"\n",
    "\n",
    "for example in string_example:\n",
    "    print(example, len(example))\n",
    "    if len(example) > max_len:\n",
    "        max_len = len(example)\n",
    "        result = example\n",
    "        \n",
    "print(f\"RESULT: maximum length: {max_len} name: {result}\")"
   ]
  },
  {
   "cell_type": "code",
   "execution_count": 5,
   "id": "53b2fbc0",
   "metadata": {},
   "outputs": [
    {
     "data": {
      "text/plain": [
       "str"
      ]
     },
     "execution_count": 5,
     "metadata": {},
     "output_type": "execute_result"
    }
   ],
   "source": [
    "type(result)"
   ]
  },
  {
   "cell_type": "code",
   "execution_count": 6,
   "id": "8a8e945b",
   "metadata": {},
   "outputs": [
    {
     "name": "stdout",
     "output_type": "stream",
     "text": [
      "Analytics\n",
      "0\n"
     ]
    }
   ],
   "source": [
    "list1 = [\"iNeuron\",\"Datascience\",\"Big-data\",\"Analytics\"]\n",
    "list2 = [5,6,2,9,7,5,0]\n",
    "print(min(list1))\n",
    "print(min(list2))"
   ]
  },
  {
   "cell_type": "markdown",
   "id": "601311c1",
   "metadata": {},
   "source": [
    "## Append"
   ]
  },
  {
   "cell_type": "code",
   "execution_count": 7,
   "id": "ef79a8ae",
   "metadata": {},
   "outputs": [],
   "source": [
    "l = [1,2,3]"
   ]
  },
  {
   "cell_type": "markdown",
   "id": "c47fa4a4",
   "metadata": {},
   "source": [
    "We can use append method to permanently add an item to the end of the list"
   ]
  },
  {
   "cell_type": "code",
   "execution_count": 8,
   "id": "49c977f3",
   "metadata": {},
   "outputs": [],
   "source": [
    "l.append(\"append me\")"
   ]
  },
  {
   "cell_type": "code",
   "execution_count": 9,
   "id": "5a28b7f4",
   "metadata": {},
   "outputs": [
    {
     "data": {
      "text/plain": [
       "[1, 2, 3, 'append me']"
      ]
     },
     "execution_count": 9,
     "metadata": {},
     "output_type": "execute_result"
    }
   ],
   "source": [
    "l"
   ]
  },
  {
   "cell_type": "code",
   "execution_count": 10,
   "id": "f87661ca",
   "metadata": {},
   "outputs": [
    {
     "data": {
      "text/plain": [
       "[1, 2, 77, 'new element']"
      ]
     },
     "execution_count": 10,
     "metadata": {},
     "output_type": "execute_result"
    }
   ],
   "source": [
    "A = [1,2,77]\n",
    "\n",
    "A = A + [\"new element\"]\n",
    "\n",
    "A"
   ]
  },
  {
   "cell_type": "code",
   "execution_count": 11,
   "id": "21ae124c",
   "metadata": {},
   "outputs": [
    {
     "data": {
      "text/plain": [
       "[1, 2, 77, 'new_element']"
      ]
     },
     "execution_count": 11,
     "metadata": {},
     "output_type": "execute_result"
    }
   ],
   "source": [
    "A = [1,2,77]\n",
    "\n",
    "A.append(\"new_element\")\n",
    "\n",
    "A"
   ]
  },
  {
   "cell_type": "code",
   "execution_count": 12,
   "id": "e96d9878",
   "metadata": {},
   "outputs": [],
   "source": [
    "A.append(\"Shubhranshu\")"
   ]
  },
  {
   "cell_type": "code",
   "execution_count": 13,
   "id": "0369bb65",
   "metadata": {},
   "outputs": [
    {
     "data": {
      "text/plain": [
       "[1, 2, 77, 'new_element', 'Shubhranshu']"
      ]
     },
     "execution_count": 13,
     "metadata": {},
     "output_type": "execute_result"
    }
   ],
   "source": [
    "A"
   ]
  },
  {
   "cell_type": "code",
   "execution_count": 14,
   "id": "1c02dcc1",
   "metadata": {},
   "outputs": [
    {
     "ename": "TypeError",
     "evalue": "list.append() takes exactly one argument (2 given)",
     "output_type": "error",
     "traceback": [
      "\u001b[1;31m---------------------------------------------------------------------------\u001b[0m",
      "\u001b[1;31mTypeError\u001b[0m                                 Traceback (most recent call last)",
      "Cell \u001b[1;32mIn[14], line 1\u001b[0m\n\u001b[1;32m----> 1\u001b[0m \u001b[43mA\u001b[49m\u001b[38;5;241;43m.\u001b[39;49m\u001b[43mappend\u001b[49m\u001b[43m(\u001b[49m\u001b[38;5;124;43m\"\u001b[39;49m\u001b[38;5;124;43mMishra\u001b[39;49m\u001b[38;5;124;43m\"\u001b[39;49m\u001b[43m,\u001b[49m\u001b[43m \u001b[49m\u001b[38;5;124;43m\"\u001b[39;49m\u001b[38;5;124;43mData\u001b[39;49m\u001b[38;5;124;43m\"\u001b[39;49m\u001b[43m)\u001b[49m\n",
      "\u001b[1;31mTypeError\u001b[0m: list.append() takes exactly one argument (2 given)"
     ]
    }
   ],
   "source": [
    "A.append(\"Mishra\", \"Data\")"
   ]
  },
  {
   "cell_type": "code",
   "execution_count": 15,
   "id": "9e784f5e",
   "metadata": {},
   "outputs": [],
   "source": [
    "A.append([\"Mishra\",\"Data\"])"
   ]
  },
  {
   "cell_type": "code",
   "execution_count": 16,
   "id": "e3570cd9",
   "metadata": {},
   "outputs": [
    {
     "data": {
      "text/plain": [
       "[1, 2, 77, 'new_element', 'Shubhranshu', ['Mishra', 'Data']]"
      ]
     },
     "execution_count": 16,
     "metadata": {},
     "output_type": "execute_result"
    }
   ],
   "source": [
    "A"
   ]
  },
  {
   "cell_type": "code",
   "execution_count": 17,
   "id": "c84660e7",
   "metadata": {},
   "outputs": [],
   "source": [
    "A = A + [\"min\"]"
   ]
  },
  {
   "cell_type": "code",
   "execution_count": 18,
   "id": "bf595284",
   "metadata": {},
   "outputs": [
    {
     "data": {
      "text/plain": [
       "[1, 2, 77, 'new_element', 'Shubhranshu', ['Mishra', 'Data'], 'min']"
      ]
     },
     "execution_count": 18,
     "metadata": {},
     "output_type": "execute_result"
    }
   ],
   "source": [
    "A"
   ]
  },
  {
   "cell_type": "code",
   "execution_count": 19,
   "id": "8ab62605",
   "metadata": {},
   "outputs": [
    {
     "name": "stdout",
     "output_type": "stream",
     "text": [
      "No of item you want to purchase: 3\n",
      "Enter the item that you want to purchase: pen\n",
      "Enter the item that you want to purchase: pencil\n",
      "Enter the item that you want to purchase: pot\n",
      "['pen', 'pencil', 'pot']\n"
     ]
    }
   ],
   "source": [
    "list_of_item_to_purchase = list()\n",
    "\n",
    "N = int(input(\"No of item you want to purchase: \"))\n",
    "for i in range(N):\n",
    "  user_input = input(\"Enter the item that you want to purchase: \")\n",
    "  list_of_item_to_purchase.append(user_input) # RECOMMENDED\n",
    "\n",
    "print(list_of_item_to_purchase)"
   ]
  },
  {
   "cell_type": "markdown",
   "id": "ae00d1a8",
   "metadata": {},
   "source": [
    "## pop()"
   ]
  },
  {
   "cell_type": "markdown",
   "id": "43521644",
   "metadata": {},
   "source": [
    "Use pop to \"pop off\" an item from the list. By default pop takes off the last index, but we can also specify which index to pop off."
   ]
  },
  {
   "cell_type": "code",
   "execution_count": 20,
   "id": "16d43443",
   "metadata": {},
   "outputs": [
    {
     "data": {
      "text/plain": [
       "[1, 4, 5, 7, 8]"
      ]
     },
     "execution_count": 20,
     "metadata": {},
     "output_type": "execute_result"
    }
   ],
   "source": [
    "A = [1,4,5,7,8,\"Shubhranshu\"]\n",
    "\n",
    "A.pop()\n",
    "\n",
    "A"
   ]
  },
  {
   "cell_type": "code",
   "execution_count": 21,
   "id": "aff5d220",
   "metadata": {},
   "outputs": [
    {
     "data": {
      "text/plain": [
       "[4, 5, 7, 8, 'Shubhranshu']"
      ]
     },
     "execution_count": 21,
     "metadata": {},
     "output_type": "execute_result"
    }
   ],
   "source": [
    "A = [1,4,5,7,8,\"Shubhranshu\"]\n",
    "\n",
    "A.pop(0)\n",
    "\n",
    "A"
   ]
  },
  {
   "cell_type": "code",
   "execution_count": 22,
   "id": "292e27c3",
   "metadata": {},
   "outputs": [
    {
     "data": {
      "text/plain": [
       "[4, 5, 7, 8, 'Shubhranshu']"
      ]
     },
     "execution_count": 22,
     "metadata": {},
     "output_type": "execute_result"
    }
   ],
   "source": [
    "A"
   ]
  },
  {
   "cell_type": "code",
   "execution_count": 24,
   "id": "27e4ea0f",
   "metadata": {},
   "outputs": [
    {
     "data": {
      "text/plain": [
       "8"
      ]
     },
     "execution_count": 24,
     "metadata": {},
     "output_type": "execute_result"
    }
   ],
   "source": [
    "removed_item = A.pop(3)\n",
    "\n",
    "removed_item"
   ]
  },
  {
   "cell_type": "code",
   "execution_count": 25,
   "id": "c7e1b87a",
   "metadata": {},
   "outputs": [
    {
     "data": {
      "text/plain": [
       "[4, 5, 7, 'Shubhranshu']"
      ]
     },
     "execution_count": 25,
     "metadata": {},
     "output_type": "execute_result"
    }
   ],
   "source": [
    "A"
   ]
  },
  {
   "cell_type": "code",
   "execution_count": 26,
   "id": "0972bb8d",
   "metadata": {},
   "outputs": [
    {
     "name": "stdout",
     "output_type": "stream",
     "text": [
      "odd num: 1\n",
      "even num: 34\n",
      "even num: 56\n",
      "even num: 78\n",
      "odd num: 99\n"
     ]
    }
   ],
   "source": [
    "# Print odd out\n",
    "\n",
    "A = [1,34,56,78,99]\n",
    "\n",
    "for index in range(len(A)):\n",
    "    num = A[index]\n",
    "    if num % 2 != 0: # Odd condition\n",
    "        print(f\"odd num: {num}\")\n",
    "    else:\n",
    "        print(f\"even num: {num}\")"
   ]
  },
  {
   "cell_type": "code",
   "execution_count": 27,
   "id": "b758b4be",
   "metadata": {},
   "outputs": [
    {
     "data": {
      "text/plain": [
       "[1, 2, 3, 'append me']"
      ]
     },
     "execution_count": 27,
     "metadata": {},
     "output_type": "execute_result"
    }
   ],
   "source": [
    "l"
   ]
  },
  {
   "cell_type": "code",
   "execution_count": 28,
   "id": "3489fe43",
   "metadata": {},
   "outputs": [],
   "source": [
    "popped_item = l.pop()"
   ]
  },
  {
   "cell_type": "code",
   "execution_count": 29,
   "id": "8e0dd78e",
   "metadata": {},
   "outputs": [
    {
     "data": {
      "text/plain": [
       "'append me'"
      ]
     },
     "execution_count": 29,
     "metadata": {},
     "output_type": "execute_result"
    }
   ],
   "source": [
    "popped_item"
   ]
  },
  {
   "cell_type": "code",
   "execution_count": 31,
   "id": "62316d69",
   "metadata": {},
   "outputs": [
    {
     "data": {
      "text/plain": [
       "[1, 2, 3]"
      ]
     },
     "execution_count": 31,
     "metadata": {},
     "output_type": "execute_result"
    }
   ],
   "source": [
    "l # Remaining"
   ]
  },
  {
   "cell_type": "markdown",
   "id": "6966b41b",
   "metadata": {},
   "source": [
    "Note:- lists indexing will return an error if there is no element at that index. For example:"
   ]
  },
  {
   "cell_type": "code",
   "execution_count": 32,
   "id": "ec52fef6",
   "metadata": {},
   "outputs": [
    {
     "data": {
      "text/plain": [
       "[1, 34, 56, 78, 99]"
      ]
     },
     "execution_count": 32,
     "metadata": {},
     "output_type": "execute_result"
    }
   ],
   "source": [
    "A"
   ]
  },
  {
   "cell_type": "code",
   "execution_count": 33,
   "id": "fcc11d9a",
   "metadata": {},
   "outputs": [
    {
     "ename": "IndexError",
     "evalue": "list index out of range",
     "output_type": "error",
     "traceback": [
      "\u001b[1;31m---------------------------------------------------------------------------\u001b[0m",
      "\u001b[1;31mIndexError\u001b[0m                                Traceback (most recent call last)",
      "Cell \u001b[1;32mIn[33], line 1\u001b[0m\n\u001b[1;32m----> 1\u001b[0m \u001b[43mA\u001b[49m\u001b[43m[\u001b[49m\u001b[38;5;241;43m1000\u001b[39;49m\u001b[43m]\u001b[49m\n",
      "\u001b[1;31mIndexError\u001b[0m: list index out of range"
     ]
    }
   ],
   "source": [
    "A[1000]"
   ]
  },
  {
   "cell_type": "code",
   "execution_count": 35,
   "id": "da684798",
   "metadata": {},
   "outputs": [
    {
     "data": {
      "text/plain": [
       "[2, 3, 21, 45, 65, 89, 98, 134, 657]"
      ]
     },
     "execution_count": 35,
     "metadata": {},
     "output_type": "execute_result"
    }
   ],
   "source": [
    "A = [65,89,2,134,657,3,21,45,98]\n",
    "\n",
    "sorted(A)"
   ]
  },
  {
   "cell_type": "code",
   "execution_count": 38,
   "id": "457074ae",
   "metadata": {},
   "outputs": [
    {
     "data": {
      "text/plain": [
       "[2, 3, 21, 45, 65, 89, 98, 134, 657]"
      ]
     },
     "execution_count": 38,
     "metadata": {},
     "output_type": "execute_result"
    }
   ],
   "source": [
    "A = sorted(A)\n",
    "A"
   ]
  },
  {
   "cell_type": "code",
   "execution_count": 39,
   "id": "3a31073f",
   "metadata": {},
   "outputs": [
    {
     "data": {
      "text/plain": [
       "[657, 134, 98, 89, 65, 45, 21, 3, 2]"
      ]
     },
     "execution_count": 39,
     "metadata": {},
     "output_type": "execute_result"
    }
   ],
   "source": [
    "A[::-1]"
   ]
  },
  {
   "cell_type": "code",
   "execution_count": 40,
   "id": "1ad246b2",
   "metadata": {},
   "outputs": [
    {
     "data": {
      "text/plain": [
       "[65, 89, 2, 134, 657, 3, 21, 45, 98]"
      ]
     },
     "execution_count": 40,
     "metadata": {},
     "output_type": "execute_result"
    }
   ],
   "source": [
    "A = [65,89,2,134,657,3,21,45,98]\n",
    "A"
   ]
  },
  {
   "cell_type": "code",
   "execution_count": 41,
   "id": "3554a014",
   "metadata": {},
   "outputs": [],
   "source": [
    "A.sort() # Permanent change"
   ]
  },
  {
   "cell_type": "code",
   "execution_count": 42,
   "id": "ac13d55b",
   "metadata": {},
   "outputs": [
    {
     "data": {
      "text/plain": [
       "[2, 3, 21, 45, 65, 89, 98, 134, 657]"
      ]
     },
     "execution_count": 42,
     "metadata": {},
     "output_type": "execute_result"
    }
   ],
   "source": [
    "A"
   ]
  },
  {
   "cell_type": "code",
   "execution_count": 43,
   "id": "0f8ab294",
   "metadata": {},
   "outputs": [
    {
     "data": {
      "text/plain": [
       "[65, 89, 2, 134, 657, 3, 21, 45, 98]"
      ]
     },
     "execution_count": 43,
     "metadata": {},
     "output_type": "execute_result"
    }
   ],
   "source": [
    "A = [65,89,2,134,657,3,21,45,98]\n",
    "A"
   ]
  },
  {
   "cell_type": "code",
   "execution_count": 44,
   "id": "7fca1b6c",
   "metadata": {},
   "outputs": [
    {
     "data": {
      "text/plain": [
       "[657, 134, 98, 89, 65, 45, 21, 3, 2]"
      ]
     },
     "execution_count": 44,
     "metadata": {},
     "output_type": "execute_result"
    }
   ],
   "source": [
    "A.sort(reverse=True) # Directly get the answer in decending order\n",
    "\n",
    "A"
   ]
  },
  {
   "cell_type": "code",
   "execution_count": 45,
   "id": "c09f9148",
   "metadata": {},
   "outputs": [
    {
     "data": {
      "text/plain": [
       "[65, 89, 2, 134, 657, 3, 21, 45, 98]"
      ]
     },
     "execution_count": 45,
     "metadata": {},
     "output_type": "execute_result"
    }
   ],
   "source": [
    "A = [65,89,2,134,657,3,21,45,98]\n",
    "A"
   ]
  },
  {
   "cell_type": "code",
   "execution_count": 46,
   "id": "2b2cadb4",
   "metadata": {},
   "outputs": [],
   "source": [
    "A.reverse() # inplace solution"
   ]
  },
  {
   "cell_type": "code",
   "execution_count": 47,
   "id": "d91c95a4",
   "metadata": {},
   "outputs": [
    {
     "data": {
      "text/plain": [
       "[98, 45, 21, 3, 657, 134, 2, 89, 65]"
      ]
     },
     "execution_count": 47,
     "metadata": {},
     "output_type": "execute_result"
    }
   ],
   "source": [
    "A"
   ]
  },
  {
   "cell_type": "code",
   "execution_count": 48,
   "id": "aaecc37c",
   "metadata": {},
   "outputs": [
    {
     "data": {
      "text/plain": [
       "['iNeuron', 'SUnny', 45, 23, 1]"
      ]
     },
     "execution_count": 48,
     "metadata": {},
     "output_type": "execute_result"
    }
   ],
   "source": [
    "A = [1, 23, 45, \"SUnny\", \"iNeuron\"]\n",
    "\n",
    "A.reverse()\n",
    "\n",
    "A"
   ]
  },
  {
   "cell_type": "code",
   "execution_count": 49,
   "id": "763201e0",
   "metadata": {},
   "outputs": [
    {
     "data": {
      "text/plain": [
       "['c', 'b', 'x', 'e', 'a']"
      ]
     },
     "execution_count": 49,
     "metadata": {},
     "output_type": "execute_result"
    }
   ],
   "source": [
    "new_list = ['a','e','x','b','c']\n",
    "\n",
    "new_list.reverse()\n",
    "\n",
    "new_list"
   ]
  },
  {
   "cell_type": "code",
   "execution_count": 50,
   "id": "6ec4b8b2",
   "metadata": {},
   "outputs": [],
   "source": [
    "new_list.sort()"
   ]
  },
  {
   "cell_type": "code",
   "execution_count": 51,
   "id": "48b75980",
   "metadata": {},
   "outputs": [
    {
     "data": {
      "text/plain": [
       "['a', 'b', 'c', 'e', 'x']"
      ]
     },
     "execution_count": 51,
     "metadata": {},
     "output_type": "execute_result"
    }
   ],
   "source": [
    "new_list"
   ]
  },
  {
   "cell_type": "code",
   "execution_count": null,
   "id": "50705bd0",
   "metadata": {},
   "outputs": [],
   "source": []
  }
 ],
 "metadata": {
  "kernelspec": {
   "display_name": "Python 3 (ipykernel)",
   "language": "python",
   "name": "python3"
  },
  "language_info": {
   "codemirror_mode": {
    "name": "ipython",
    "version": 3
   },
   "file_extension": ".py",
   "mimetype": "text/x-python",
   "name": "python",
   "nbconvert_exporter": "python",
   "pygments_lexer": "ipython3",
   "version": "3.9.12"
  }
 },
 "nbformat": 4,
 "nbformat_minor": 5
}
