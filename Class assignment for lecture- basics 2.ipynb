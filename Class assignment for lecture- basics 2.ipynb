{
 "cells": [
  {
   "cell_type": "markdown",
   "id": "85cfa8d5",
   "metadata": {},
   "source": [
    "## 1. Take input A and B and print their sum, mul, div, square of the nos."
   ]
  },
  {
   "cell_type": "code",
   "execution_count": 10,
   "id": "720937f4",
   "metadata": {},
   "outputs": [
    {
     "name": "stdout",
     "output_type": "stream",
     "text": [
      "Enter the value of A: 25\n",
      "Enter the value of B: 21\n",
      "The sum of A and B is: 46\n",
      "The product of A and B is: 525\n",
      "The division of A by B is: 1.1904761904761905\n",
      "Square of A is : 625\n",
      "Square of B is : 441\n"
     ]
    }
   ],
   "source": [
    "A = int(input(\"Enter the value of A: \"))\n",
    "B = int(input(\"Enter the value of B: \"))\n",
    "\n",
    "print(f\"\"\"The sum of A and B is: {A + B}\n",
    "The product of A and B is: {A * B}\n",
    "The division of A by B is: {A / B}\n",
    "Square of A is : {A**2}\n",
    "Square of B is : {B**2}\"\"\")"
   ]
  },
  {
   "cell_type": "markdown",
   "id": "97b35834",
   "metadata": {},
   "source": [
    "## 2. How many reserve keywords are there in python and why we should not use them as a variable name."
   ]
  },
  {
   "cell_type": "markdown",
   "id": "62e4940b",
   "metadata": {},
   "source": [
    "There are 33 reserved keywords in python. These are given as follows:\n",
    "False\t\n",
    "def\t\n",
    "if\t\n",
    "raise\n",
    "None\t\n",
    "del\t\n",
    "import\t\n",
    "return\n",
    "True\t\n",
    "elif\t\n",
    "in\t\n",
    "try\n",
    "and\t\n",
    "else\t\n",
    "is\t\n",
    "while\n",
    "as\t\n",
    "except\t\n",
    "lambda\t\n",
    "with\n",
    "assert\t\n",
    "finally\t\n",
    "nonlocal\t\n",
    "yield\n",
    "break\t\n",
    "for\t\n",
    "not\t\n",
    "class\t\n",
    "from\t\n",
    "or\t\n",
    "continue\t\n",
    "global\t\n",
    "pass\n",
    "\n",
    "They are predefined by python for some specific work (predefined function), that's why we can't use it."
   ]
  },
  {
   "cell_type": "markdown",
   "id": "2aaacc49",
   "metadata": {},
   "source": [
    "## 3. Create email ids with the user inputs. in the following format - lastname.firstname@gmail.com"
   ]
  },
  {
   "cell_type": "code",
   "execution_count": 13,
   "id": "457c25af",
   "metadata": {},
   "outputs": [
    {
     "name": "stdout",
     "output_type": "stream",
     "text": [
      "Enter your first name: shubhranshu\n",
      "Enter your surname: mishra\n",
      "Your email ID is: mishra.shubhranshu@gmail.com\n"
     ]
    }
   ],
   "source": [
    "firstname = input(\"Enter your first name: \")\n",
    "lastname = input(\"Enter your surname: \")\n",
    "\n",
    "print(f\"Your email ID is: {lastname}.{firstname}@gmail.com\")"
   ]
  },
  {
   "cell_type": "markdown",
   "id": "0bf59859",
   "metadata": {},
   "source": [
    "## 4. Try to print the following lines -\n",
    "- Hi I'm Sunny\n",
    "- My address is 22\\3\n",
    "- I earn 20$ daily."
   ]
  },
  {
   "cell_type": "code",
   "execution_count": 15,
   "id": "09d0684f",
   "metadata": {},
   "outputs": [
    {
     "name": "stdout",
     "output_type": "stream",
     "text": [
      "Hi I'm Sunny\n",
      "My address is 22\u0003\n",
      "I earn 20$ daily\n"
     ]
    }
   ],
   "source": [
    "print(\"\"\"Hi I'm Sunny\n",
    "My address is 22\\3\n",
    "I earn 20$ daily\"\"\")"
   ]
  },
  {
   "cell_type": "markdown",
   "id": "f26e1ddf",
   "metadata": {},
   "source": [
    "## 5. Take user input (name, address, date of birth etc) to fill a form for your college and print their email IDs"
   ]
  },
  {
   "cell_type": "code",
   "execution_count": 18,
   "id": "29074b3e",
   "metadata": {},
   "outputs": [
    {
     "name": "stdout",
     "output_type": "stream",
     "text": [
      "Enter your first name: Shubhranshu\n",
      "Enter your surname: Mishra\n",
      "Enter your address: Ranchi, Jharkhand\n",
      "Enter your date of birth: 9 March 1995\n",
      "Your system generated Email ID is : Shubhranshu@engineeringmaster.in\n"
     ]
    }
   ],
   "source": [
    "firstname = input(\"Enter your first name: \")\n",
    "lastname = input(\"Enter your surname: \")\n",
    "address = input(\"Enter your address: \")\n",
    "date_of_birth = input(\"Enter your date of birth: \")\n",
    "\n",
    "print(f\"Your system generated Email ID is : {firstname}@engineeringmaster.in\")"
   ]
  },
  {
   "cell_type": "markdown",
   "id": "5f03dacc",
   "metadata": {},
   "source": [
    "## 6. Convert the following -\n",
    "- \"22.4\" into integer\n",
    "- \"22\" into complex no."
   ]
  },
  {
   "cell_type": "code",
   "execution_count": 20,
   "id": "565960a0",
   "metadata": {},
   "outputs": [
    {
     "name": "stdout",
     "output_type": "stream",
     "text": [
      "22\n"
     ]
    }
   ],
   "source": [
    "A = 22.4\n",
    "print(int(A))"
   ]
  },
  {
   "cell_type": "code",
   "execution_count": 21,
   "id": "7dd99348",
   "metadata": {},
   "outputs": [
    {
     "name": "stdout",
     "output_type": "stream",
     "text": [
      "(22+0j)\n"
     ]
    }
   ],
   "source": [
    "A = 22\n",
    "print(complex(A))"
   ]
  }
 ],
 "metadata": {
  "kernelspec": {
   "display_name": "Python 3 (ipykernel)",
   "language": "python",
   "name": "python3"
  },
  "language_info": {
   "codemirror_mode": {
    "name": "ipython",
    "version": 3
   },
   "file_extension": ".py",
   "mimetype": "text/x-python",
   "name": "python",
   "nbconvert_exporter": "python",
   "pygments_lexer": "ipython3",
   "version": "3.9.12"
  }
 },
 "nbformat": 4,
 "nbformat_minor": 5
}
