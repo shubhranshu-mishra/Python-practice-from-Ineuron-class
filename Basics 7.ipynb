{
 "cells": [
  {
   "cell_type": "markdown",
   "id": "b01aa4f1",
   "metadata": {},
   "source": [
    "## Nesting of the list\n",
    "list inside a list"
   ]
  },
  {
   "cell_type": "code",
   "execution_count": 1,
   "id": "206df663",
   "metadata": {},
   "outputs": [
    {
     "data": {
      "text/plain": [
       "[[1, 2, 3], [11, 22, 33], [45, 56, 77]]"
      ]
     },
     "execution_count": 1,
     "metadata": {},
     "output_type": "execute_result"
    }
   ],
   "source": [
    "A = [[1,2,3],[11,22,33],[45,56,77]]\n",
    "\n",
    "A"
   ]
  },
  {
   "cell_type": "code",
   "execution_count": 2,
   "id": "6726d942",
   "metadata": {},
   "outputs": [
    {
     "data": {
      "text/plain": [
       "[1, 2, 3]"
      ]
     },
     "execution_count": 2,
     "metadata": {},
     "output_type": "execute_result"
    }
   ],
   "source": [
    "A[0]"
   ]
  },
  {
   "cell_type": "code",
   "execution_count": 3,
   "id": "a05ab34f",
   "metadata": {},
   "outputs": [
    {
     "data": {
      "text/plain": [
       "[11, 22, 33]"
      ]
     },
     "execution_count": 3,
     "metadata": {},
     "output_type": "execute_result"
    }
   ],
   "source": [
    "A[1]"
   ]
  },
  {
   "cell_type": "code",
   "execution_count": 4,
   "id": "f0e1cbd4",
   "metadata": {},
   "outputs": [
    {
     "data": {
      "text/plain": [
       "22"
      ]
     },
     "execution_count": 4,
     "metadata": {},
     "output_type": "execute_result"
    }
   ],
   "source": [
    "A[1][1]"
   ]
  },
  {
   "cell_type": "code",
   "execution_count": 6,
   "id": "80d7d4c3",
   "metadata": {},
   "outputs": [
    {
     "data": {
      "text/plain": [
       "[11, 22, 33, [55, 78, 98]]"
      ]
     },
     "execution_count": 6,
     "metadata": {},
     "output_type": "execute_result"
    }
   ],
   "source": [
    "A = [[1,2,3],[11,22,33,[55,78,98]],[45,56,77]]\n",
    "\n",
    "A[1]"
   ]
  },
  {
   "cell_type": "code",
   "execution_count": 7,
   "id": "c7afb50a",
   "metadata": {},
   "outputs": [
    {
     "data": {
      "text/plain": [
       "[55, 78, 98]"
      ]
     },
     "execution_count": 7,
     "metadata": {},
     "output_type": "execute_result"
    }
   ],
   "source": [
    "A[1][3]"
   ]
  },
  {
   "cell_type": "code",
   "execution_count": 8,
   "id": "12c5d55d",
   "metadata": {},
   "outputs": [
    {
     "data": {
      "text/plain": [
       "78"
      ]
     },
     "execution_count": 8,
     "metadata": {},
     "output_type": "execute_result"
    }
   ],
   "source": [
    "A[1][3][1]"
   ]
  },
  {
   "cell_type": "code",
   "execution_count": 9,
   "id": "9220488e",
   "metadata": {},
   "outputs": [
    {
     "data": {
      "text/plain": [
       "'Hiii'"
      ]
     },
     "execution_count": 9,
     "metadata": {},
     "output_type": "execute_result"
    }
   ],
   "source": [
    "A = [[1,2,3], [11, 22, 33, [500, 502]], [45, [239, \"Hiii\"], 56, 77]]\n",
    "\n",
    "A[2][1][1]"
   ]
  },
  {
   "cell_type": "code",
   "execution_count": 10,
   "id": "756eb2a1",
   "metadata": {},
   "outputs": [
    {
     "data": {
      "text/plain": [
       "'Hiii'"
      ]
     },
     "execution_count": 10,
     "metadata": {},
     "output_type": "execute_result"
    }
   ],
   "source": [
    "A[-1][1][-1]"
   ]
  },
  {
   "cell_type": "code",
   "execution_count": 11,
   "id": "924eb6ee",
   "metadata": {},
   "outputs": [],
   "source": [
    "amazon_cart = [[\"watch\",5000],[\"phone\",100000],[\"laptop\",500000]]\n",
    "\n",
    "total_cost = 0"
   ]
  },
  {
   "cell_type": "code",
   "execution_count": 12,
   "id": "75ff87e5",
   "metadata": {},
   "outputs": [
    {
     "data": {
      "text/plain": [
       "5000"
      ]
     },
     "execution_count": 12,
     "metadata": {},
     "output_type": "execute_result"
    }
   ],
   "source": [
    "# without for loop\n",
    "\n",
    "amazon_cart[0][1]"
   ]
  },
  {
   "cell_type": "code",
   "execution_count": 13,
   "id": "ca16a2dc",
   "metadata": {},
   "outputs": [
    {
     "data": {
      "text/plain": [
       "100000"
      ]
     },
     "execution_count": 13,
     "metadata": {},
     "output_type": "execute_result"
    }
   ],
   "source": [
    "amazon_cart[1][1]"
   ]
  },
  {
   "cell_type": "code",
   "execution_count": 14,
   "id": "0aae0a64",
   "metadata": {},
   "outputs": [
    {
     "data": {
      "text/plain": [
       "605000"
      ]
     },
     "execution_count": 14,
     "metadata": {},
     "output_type": "execute_result"
    }
   ],
   "source": [
    "amazon_cart[0][1] + amazon_cart[1][1] + amazon_cart[2][1]"
   ]
  },
  {
   "cell_type": "code",
   "execution_count": 16,
   "id": "5e36d8e8",
   "metadata": {},
   "outputs": [
    {
     "name": "stdout",
     "output_type": "stream",
     "text": [
      "0\n",
      "5000\n",
      "------------\n",
      "1\n",
      "100000\n",
      "------------\n",
      "2\n",
      "500000\n",
      "------------\n",
      "605000\n"
     ]
    }
   ],
   "source": [
    "# With for loop\n",
    "\n",
    "total_cost = 0\n",
    "\n",
    "for i in range(len(amazon_cart)):\n",
    "    print(i)\n",
    "    print(amazon_cart[i][1])\n",
    "    total_cost = total_cost + amazon_cart[i][1]\n",
    "    print(\"------------\")\n",
    "print(total_cost)"
   ]
  },
  {
   "cell_type": "code",
   "execution_count": 24,
   "id": "6af48d95",
   "metadata": {},
   "outputs": [
    {
     "name": "stdout",
     "output_type": "stream",
     "text": [
      "empty cart: 0\n",
      "5000\n",
      "cart after adding watch: 5000\n",
      "------------\n",
      "100000\n",
      "cart after adding phone: 105000\n",
      "------------\n",
      "500000\n",
      "cart after adding laptop: 605000\n",
      "------------\n",
      "total payable amount: 605000\n"
     ]
    }
   ],
   "source": [
    "total_cost = 0\n",
    "print(f\"empty cart: {total_cost}\")\n",
    "\n",
    "for item in amazon_cart:\n",
    "    print(item[1])\n",
    "    total_cost = total_cost + item[1]\n",
    "    print(f\"cart after adding {item[0]}: {total_cost}\")\n",
    "    print(\"------------\")\n",
    "print(f\"total payable amount: {total_cost}\")"
   ]
  },
  {
   "cell_type": "markdown",
   "id": "08f38272",
   "metadata": {},
   "source": [
    "## List Comprehension"
   ]
  },
  {
   "cell_type": "code",
   "execution_count": 26,
   "id": "70b80c19",
   "metadata": {},
   "outputs": [],
   "source": [
    "# list which contains list of square of nos between 1 to 10\n",
    "\n",
    "A = [1,2,3,4,5,6,7,8,9,10]\n",
    "ans = [1, 4, 9, 16, ...]"
   ]
  },
  {
   "cell_type": "code",
   "execution_count": 30,
   "id": "11f5f539",
   "metadata": {},
   "outputs": [
    {
     "name": "stdout",
     "output_type": "stream",
     "text": [
      "1\n",
      "4\n",
      "9\n",
      "16\n",
      "25\n",
      "36\n",
      "49\n",
      "64\n",
      "81\n",
      "100\n",
      "[]\n"
     ]
    }
   ],
   "source": [
    "A = [1,2,3,4,5,6,7,8,9,10]\n",
    "\n",
    "ans = list()\n",
    "\n",
    "for i in A:\n",
    "    print(i**2)\n",
    "    #ans.append(i**2)\n",
    "    \n",
    "print(ans)"
   ]
  },
  {
   "cell_type": "code",
   "execution_count": 29,
   "id": "a3f4dc20",
   "metadata": {},
   "outputs": [
    {
     "name": "stdout",
     "output_type": "stream",
     "text": [
      "[1, 4, 9, 16, 25, 36, 49, 64, 81, 100]\n"
     ]
    }
   ],
   "source": [
    "ans = [i**2 for i in A]\n",
    "\n",
    "print(ans)"
   ]
  },
  {
   "cell_type": "code",
   "execution_count": 31,
   "id": "5c5048c7",
   "metadata": {},
   "outputs": [
    {
     "name": "stdout",
     "output_type": "stream",
     "text": [
      "[]\n",
      "1\n",
      "[1]\n",
      "9\n",
      "[1, 9]\n",
      "25\n",
      "[1, 9, 25]\n",
      "49\n",
      "[1, 9, 25, 49]\n",
      "81\n",
      "[1, 9, 25, 49, 81]\n"
     ]
    },
    {
     "data": {
      "text/plain": [
       "[1, 9, 25, 49, 81]"
      ]
     },
     "execution_count": 31,
     "metadata": {},
     "output_type": "execute_result"
    }
   ],
   "source": [
    "# only take the square of odd no in the list A\n",
    "\n",
    "A = [1,2,3,4,5,6,7,8,9,10]\n",
    "\n",
    "ans = list()\n",
    "print(ans)\n",
    "\n",
    "for ele in A:\n",
    "  if ele%2 != 0:\n",
    "    print(ele**2)\n",
    "    ans.append(ele**2)\n",
    "    print(ans)\n",
    "\n",
    "ans"
   ]
  },
  {
   "cell_type": "code",
   "execution_count": 32,
   "id": "76bcb76c",
   "metadata": {},
   "outputs": [
    {
     "name": "stdout",
     "output_type": "stream",
     "text": [
      "[1, 9, 25, 49, 81]\n"
     ]
    }
   ],
   "source": [
    "ans = [ele**2 for ele in A if ele%2 != 0]\n",
    "\n",
    "print(ans)"
   ]
  },
  {
   "cell_type": "markdown",
   "id": "70d24521",
   "metadata": {},
   "source": [
    "## Count"
   ]
  },
  {
   "cell_type": "code",
   "execution_count": 35,
   "id": "e53d2f61",
   "metadata": {},
   "outputs": [
    {
     "data": {
      "text/plain": [
       "2"
      ]
     },
     "execution_count": 35,
     "metadata": {},
     "output_type": "execute_result"
    }
   ],
   "source": [
    "A = [1,2,1,4,5,6,7,7,7]\n",
    "A.count(1)"
   ]
  },
  {
   "cell_type": "code",
   "execution_count": 36,
   "id": "72940210",
   "metadata": {},
   "outputs": [
    {
     "data": {
      "text/plain": [
       "3"
      ]
     },
     "execution_count": 36,
     "metadata": {},
     "output_type": "execute_result"
    }
   ],
   "source": [
    "A.count(7)"
   ]
  },
  {
   "cell_type": "code",
   "execution_count": 37,
   "id": "e5452537",
   "metadata": {},
   "outputs": [
    {
     "data": {
      "text/plain": [
       "0"
      ]
     },
     "execution_count": 37,
     "metadata": {},
     "output_type": "execute_result"
    }
   ],
   "source": [
    "A.count(799)"
   ]
  },
  {
   "cell_type": "code",
   "execution_count": 38,
   "id": "cbb7925d",
   "metadata": {},
   "outputs": [
    {
     "name": "stdout",
     "output_type": "stream",
     "text": [
      "1 2\n",
      "2 1\n",
      "1 2\n",
      "4 1\n",
      "5 1\n",
      "6 1\n",
      "7 3\n",
      "7 3\n",
      "7 3\n"
     ]
    }
   ],
   "source": [
    "A = [1,2,1,4,5,6,7,7,7]\n",
    "for i in A:\n",
    "    print(i,A.count(i))"
   ]
  },
  {
   "cell_type": "code",
   "execution_count": 39,
   "id": "21519039",
   "metadata": {},
   "outputs": [
    {
     "data": {
      "text/plain": [
       "2"
      ]
     },
     "execution_count": 39,
     "metadata": {},
     "output_type": "execute_result"
    }
   ],
   "source": [
    "A = [1,2,1,4,5,6,[7,7],[7,7]]\n",
    "\n",
    "A.count([7,7])"
   ]
  },
  {
   "cell_type": "code",
   "execution_count": 40,
   "id": "0c7cd244",
   "metadata": {},
   "outputs": [
    {
     "data": {
      "text/plain": [
       "0"
      ]
     },
     "execution_count": 40,
     "metadata": {},
     "output_type": "execute_result"
    }
   ],
   "source": [
    "A.count(7)"
   ]
  },
  {
   "cell_type": "code",
   "execution_count": 41,
   "id": "2d323b28",
   "metadata": {},
   "outputs": [
    {
     "data": {
      "text/plain": [
       "2"
      ]
     },
     "execution_count": 41,
     "metadata": {},
     "output_type": "execute_result"
    }
   ],
   "source": [
    "A[-1].count(7)"
   ]
  },
  {
   "cell_type": "code",
   "execution_count": 44,
   "id": "f6f6f783",
   "metadata": {},
   "outputs": [
    {
     "name": "stdout",
     "output_type": "stream",
     "text": [
      "S 1\n",
      "h 3\n",
      "u 2\n",
      "b 1\n",
      "h 3\n",
      "r 1\n",
      "a 1\n",
      "n 1\n",
      "s 1\n",
      "h 3\n",
      "u 2\n"
     ]
    }
   ],
   "source": [
    "A = \"Shubhranshu\"\n",
    "for i in A:\n",
    "    print(i,A.count(i))"
   ]
  },
  {
   "cell_type": "code",
   "execution_count": 45,
   "id": "72c0ab34",
   "metadata": {},
   "outputs": [
    {
     "name": "stdout",
     "output_type": "stream",
     "text": [
      "Shubhranshu 2\n",
      "Shubhranshu 2\n",
      "Mishra 1\n"
     ]
    }
   ],
   "source": [
    "A = [\"Shubhranshu\", \"Shubhranshu\", \"Mishra\"]\n",
    "for i in A:\n",
    "    print(i,A.count(i))"
   ]
  },
  {
   "cell_type": "code",
   "execution_count": 46,
   "id": "290fd535",
   "metadata": {},
   "outputs": [
    {
     "name": "stdout",
     "output_type": "stream",
     "text": [
      "shubhranshu 1\n",
      "Shubhranshu 1\n",
      "Mishra 1\n"
     ]
    }
   ],
   "source": [
    "A = [\"shubhranshu\", \"Shubhranshu\", \"Mishra\"]\n",
    "for i in A:\n",
    "    print(i,A.count(i))"
   ]
  },
  {
   "cell_type": "markdown",
   "id": "bf0b43a2",
   "metadata": {},
   "source": [
    "## Extend"
   ]
  },
  {
   "cell_type": "code",
   "execution_count": 48,
   "id": "7e9e1ecc",
   "metadata": {},
   "outputs": [
    {
     "name": "stdout",
     "output_type": "stream",
     "text": [
      "[1, 2, 3, 11, 22, 33]\n",
      "before assignment\n",
      "[1, 2, 3]\n",
      "after assignment\n",
      "[1, 2, 3, 11, 22, 33]\n"
     ]
    }
   ],
   "source": [
    "A = [1,2,3]\n",
    "B = [11,22,33]\n",
    "\n",
    "print(A+B)\n",
    "print(\"before assignment\")\n",
    "print(A)\n",
    "\n",
    "A = A + B\n",
    "print(\"after assignment\")\n",
    "print(A)"
   ]
  },
  {
   "cell_type": "code",
   "execution_count": 49,
   "id": "834d47d0",
   "metadata": {},
   "outputs": [
    {
     "data": {
      "text/plain": [
       "[1, 2, 3, 11, 22, 33]"
      ]
     },
     "execution_count": 49,
     "metadata": {},
     "output_type": "execute_result"
    }
   ],
   "source": [
    "A = [1,2,3]\n",
    "\n",
    "B = [11, 22, 33]\n",
    "\n",
    "A.extend(B) # permananet operation, inplace assignment\n",
    "\n",
    "A"
   ]
  },
  {
   "cell_type": "code",
   "execution_count": 50,
   "id": "de968748",
   "metadata": {},
   "outputs": [
    {
     "data": {
      "text/plain": [
       "[1, 2, 3, [11, 22, 33]]"
      ]
     },
     "execution_count": 50,
     "metadata": {},
     "output_type": "execute_result"
    }
   ],
   "source": [
    "A = [1,2,3]\n",
    "\n",
    "B = [11, 22, 33]\n",
    "\n",
    "A.append(B)  # permananet operation, inplace assignment\n",
    "\n",
    "A"
   ]
  },
  {
   "cell_type": "markdown",
   "id": "66e2abb3",
   "metadata": {},
   "source": [
    "## Index method"
   ]
  },
  {
   "cell_type": "code",
   "execution_count": 51,
   "id": "51c5e5e6",
   "metadata": {},
   "outputs": [],
   "source": [
    "A = [11,3,4,56+2j,\"Shubhranshu\",1+2j]"
   ]
  },
  {
   "cell_type": "code",
   "execution_count": 52,
   "id": "7ec13528",
   "metadata": {},
   "outputs": [
    {
     "data": {
      "text/plain": [
       "0"
      ]
     },
     "execution_count": 52,
     "metadata": {},
     "output_type": "execute_result"
    }
   ],
   "source": [
    "A.index(11)"
   ]
  },
  {
   "cell_type": "code",
   "execution_count": 54,
   "id": "cfba805a",
   "metadata": {},
   "outputs": [
    {
     "data": {
      "text/plain": [
       "4"
      ]
     },
     "execution_count": 54,
     "metadata": {},
     "output_type": "execute_result"
    }
   ],
   "source": [
    "A.index(\"Shubhranshu\")"
   ]
  },
  {
   "cell_type": "code",
   "execution_count": 55,
   "id": "1fae750b",
   "metadata": {},
   "outputs": [
    {
     "name": "stdout",
     "output_type": "stream",
     "text": [
      "Element: (56+2j) | Type: <class 'complex'> | Index: 3\n",
      "Element: (1+2j) | Type: <class 'complex'> | Index: 5\n"
     ]
    }
   ],
   "source": [
    "# print the index of all the complex nos.\n",
    "# do a for loop\n",
    "# if condition for type check\n",
    "# if type is complex then print the index\n",
    "\n",
    "for ele in A:\n",
    "  if type(ele) == complex:\n",
    "    print(f\"Element: {ele} | Type: {type(ele)} | Index: {A.index(ele)}\")"
   ]
  },
  {
   "cell_type": "code",
   "execution_count": 56,
   "id": "ee1623b9",
   "metadata": {},
   "outputs": [
    {
     "name": "stdout",
     "output_type": "stream",
     "text": [
      "Element: 11 | Type: <class 'int'> | Index: 0\n",
      "Element: 3 | Type: <class 'int'> | Index: 1\n",
      "Element: 4 | Type: <class 'int'> | Index: 2\n"
     ]
    }
   ],
   "source": [
    "for ele in A:\n",
    "  if type(ele) == int:\n",
    "    print(f\"Element: {ele} | Type: {type(ele)} | Index: {A.index(ele)}\")"
   ]
  },
  {
   "cell_type": "code",
   "execution_count": 60,
   "id": "248cec46",
   "metadata": {},
   "outputs": [
    {
     "name": "stdout",
     "output_type": "stream",
     "text": [
      "Element: Shubhranshu | Type: <class 'str'> | Index: 4\n"
     ]
    }
   ],
   "source": [
    "for ele in A:\n",
    "    if type(ele) == str:\n",
    "        print(f\"Element: {ele} | Type: {type(ele)} | Index: {A.index(ele)}\")"
   ]
  },
  {
   "cell_type": "markdown",
   "id": "e7ea6e84",
   "metadata": {},
   "source": [
    "## isinstance"
   ]
  },
  {
   "cell_type": "code",
   "execution_count": 61,
   "id": "e6f4047c",
   "metadata": {},
   "outputs": [
    {
     "name": "stdout",
     "output_type": "stream",
     "text": [
      "Element: (56+2j) | Type: <class 'complex'> | Index: 3\n",
      "Element: (1+2j) | Type: <class 'complex'> | Index: 5\n"
     ]
    }
   ],
   "source": [
    "for ele in A:\n",
    "    if isinstance(ele,complex):\n",
    "        print(f\"Element: {ele} | Type: {type(ele)} | Index: {A.index(ele)}\")"
   ]
  },
  {
   "cell_type": "code",
   "execution_count": 64,
   "id": "5531f479",
   "metadata": {},
   "outputs": [
    {
     "data": {
      "text/plain": [
       "[(56+2j), (1+2j)]"
      ]
     },
     "execution_count": 64,
     "metadata": {},
     "output_type": "execute_result"
    }
   ],
   "source": [
    "ans = [ele for ele in A if isinstance(ele,complex)]\n",
    "ans"
   ]
  },
  {
   "cell_type": "code",
   "execution_count": 67,
   "id": "e8564217",
   "metadata": {},
   "outputs": [
    {
     "data": {
      "text/plain": [
       "[(56+2j), (1+2j)]"
      ]
     },
     "execution_count": 67,
     "metadata": {},
     "output_type": "execute_result"
    }
   ],
   "source": [
    "ans = [ele for ele in A if type(ele) == complex]\n",
    "ans"
   ]
  },
  {
   "cell_type": "code",
   "execution_count": 68,
   "id": "a4b96d2c",
   "metadata": {},
   "outputs": [
    {
     "name": "stdout",
     "output_type": "stream",
     "text": [
      "Element: 11 | Type: <class 'int'> | Index: 0\n",
      "Element: 3 | Type: <class 'int'> | Index: 1\n",
      "Element: 4 | Type: <class 'int'> | Index: 2\n",
      "Element: (56+2j) | Type: <class 'complex'> | Index: 3\n",
      "Element: (1+2j) | Type: <class 'complex'> | Index: 5\n"
     ]
    }
   ],
   "source": [
    "# print the index - all the complex or int also\n",
    "\n",
    "for ele in A:\n",
    "    if isinstance(ele,complex) or isinstance(ele,int):\n",
    "        print(f\"Element: {ele} | Type: {type(ele)} | Index: {A.index(ele)}\")"
   ]
  },
  {
   "cell_type": "code",
   "execution_count": 69,
   "id": "358fe622",
   "metadata": {},
   "outputs": [
    {
     "data": {
      "text/plain": [
       "[11, 3, 4, (56+2j), 'Shubhranshu', (1+2j)]"
      ]
     },
     "execution_count": 69,
     "metadata": {},
     "output_type": "execute_result"
    }
   ],
   "source": [
    "A"
   ]
  },
  {
   "cell_type": "code",
   "execution_count": 70,
   "id": "b02e3469",
   "metadata": {},
   "outputs": [
    {
     "name": "stdout",
     "output_type": "stream",
     "text": [
      "Element: 11 | Type: <class 'int'> | Index: 0\n",
      "Element: 3 | Type: <class 'int'> | Index: 1\n",
      "Element: 4 | Type: <class 'int'> | Index: 2\n",
      "Element: (56+2j) | Type: <class 'complex'> | Index: 3\n",
      "Element: (1+2j) | Type: <class 'complex'> | Index: 5\n"
     ]
    }
   ],
   "source": [
    "for ele in A:\n",
    "  if isinstance(ele, (complex, int)): # pythonic way  # OR case\n",
    "    print(f\"Element: {ele} | Type: {type(ele)} | Index: {A.index(ele)}\")"
   ]
  },
  {
   "cell_type": "code",
   "execution_count": 71,
   "id": "042cbc71",
   "metadata": {},
   "outputs": [
    {
     "data": {
      "text/plain": [
       "[11, 3, 4, (56+2j), 'Shubhranshu', (1+2j)]"
      ]
     },
     "execution_count": 71,
     "metadata": {},
     "output_type": "execute_result"
    }
   ],
   "source": [
    "A"
   ]
  },
  {
   "cell_type": "code",
   "execution_count": 72,
   "id": "4329fa91",
   "metadata": {},
   "outputs": [
    {
     "data": {
      "text/plain": [
       "1"
      ]
     },
     "execution_count": 72,
     "metadata": {},
     "output_type": "execute_result"
    }
   ],
   "source": [
    "A.index(3)"
   ]
  },
  {
   "cell_type": "code",
   "execution_count": 73,
   "id": "040a335c",
   "metadata": {},
   "outputs": [
    {
     "ename": "ValueError",
     "evalue": "3333 is not in list",
     "output_type": "error",
     "traceback": [
      "\u001b[1;31m---------------------------------------------------------------------------\u001b[0m",
      "\u001b[1;31mValueError\u001b[0m                                Traceback (most recent call last)",
      "Cell \u001b[1;32mIn[73], line 1\u001b[0m\n\u001b[1;32m----> 1\u001b[0m \u001b[43mA\u001b[49m\u001b[38;5;241;43m.\u001b[39;49m\u001b[43mindex\u001b[49m\u001b[43m(\u001b[49m\u001b[38;5;241;43m3333\u001b[39;49m\u001b[43m)\u001b[49m\n",
      "\u001b[1;31mValueError\u001b[0m: 3333 is not in list"
     ]
    }
   ],
   "source": [
    "A.index(3333)"
   ]
  },
  {
   "cell_type": "code",
   "execution_count": 74,
   "id": "302df9fc",
   "metadata": {},
   "outputs": [
    {
     "data": {
      "text/plain": [
       "3"
      ]
     },
     "execution_count": 74,
     "metadata": {},
     "output_type": "execute_result"
    }
   ],
   "source": [
    "A = [1, 2, 3, [4,5,6], 7,8,9]\n",
    "\n",
    "A.index([4,5,6])"
   ]
  },
  {
   "cell_type": "code",
   "execution_count": 75,
   "id": "cc97905e",
   "metadata": {},
   "outputs": [
    {
     "ename": "ValueError",
     "evalue": "4 is not in list",
     "output_type": "error",
     "traceback": [
      "\u001b[1;31m---------------------------------------------------------------------------\u001b[0m",
      "\u001b[1;31mValueError\u001b[0m                                Traceback (most recent call last)",
      "Cell \u001b[1;32mIn[75], line 3\u001b[0m\n\u001b[0;32m      1\u001b[0m A \u001b[38;5;241m=\u001b[39m [\u001b[38;5;241m1\u001b[39m, \u001b[38;5;241m2\u001b[39m, \u001b[38;5;241m3\u001b[39m, [\u001b[38;5;241m4\u001b[39m,\u001b[38;5;241m5\u001b[39m,\u001b[38;5;241m6\u001b[39m], \u001b[38;5;241m7\u001b[39m,\u001b[38;5;241m8\u001b[39m,\u001b[38;5;241m9\u001b[39m]\n\u001b[1;32m----> 3\u001b[0m \u001b[43mA\u001b[49m\u001b[38;5;241;43m.\u001b[39;49m\u001b[43mindex\u001b[49m\u001b[43m(\u001b[49m\u001b[38;5;241;43m4\u001b[39;49m\u001b[43m)\u001b[49m\n",
      "\u001b[1;31mValueError\u001b[0m: 4 is not in list"
     ]
    }
   ],
   "source": [
    "A = [1, 2, 3, [4,5,6], 7,8,9]\n",
    "\n",
    "A.index(4)"
   ]
  },
  {
   "cell_type": "code",
   "execution_count": 76,
   "id": "b2f7bea4",
   "metadata": {},
   "outputs": [
    {
     "data": {
      "text/plain": [
       "0"
      ]
     },
     "execution_count": 76,
     "metadata": {},
     "output_type": "execute_result"
    }
   ],
   "source": [
    "A[3].index(4)"
   ]
  },
  {
   "cell_type": "markdown",
   "id": "7430ff8e",
   "metadata": {},
   "source": [
    "## insert"
   ]
  },
  {
   "cell_type": "code",
   "execution_count": 77,
   "id": "35b3804a",
   "metadata": {},
   "outputs": [
    {
     "data": {
      "text/plain": [
       "[1, 2, 3, 4, 5, 99]"
      ]
     },
     "execution_count": 77,
     "metadata": {},
     "output_type": "execute_result"
    }
   ],
   "source": [
    "A = [1,2,3,4,5]\n",
    "\n",
    "A.append(99)\n",
    "A"
   ]
  },
  {
   "cell_type": "code",
   "execution_count": 78,
   "id": "6d41f3c6",
   "metadata": {},
   "outputs": [
    {
     "data": {
      "text/plain": [
       "[1, 2, 'Shubhranshu', 3, 4, 5, 99]"
      ]
     },
     "execution_count": 78,
     "metadata": {},
     "output_type": "execute_result"
    }
   ],
   "source": [
    "A.insert(2, \"Shubhranshu\")\n",
    "\n",
    "A"
   ]
  },
  {
   "cell_type": "code",
   "execution_count": 79,
   "id": "5a599c39",
   "metadata": {},
   "outputs": [],
   "source": [
    "A.insert(2000,\"Shubhranshu\")"
   ]
  },
  {
   "cell_type": "code",
   "execution_count": 80,
   "id": "7e1491a6",
   "metadata": {},
   "outputs": [
    {
     "data": {
      "text/plain": [
       "[1, 2, 'Shubhranshu', 3, 4, 5, 99, 'Shubhranshu']"
      ]
     },
     "execution_count": 80,
     "metadata": {},
     "output_type": "execute_result"
    }
   ],
   "source": [
    "A"
   ]
  },
  {
   "cell_type": "code",
   "execution_count": 81,
   "id": "899a36ac",
   "metadata": {},
   "outputs": [
    {
     "ename": "IndexError",
     "evalue": "list index out of range",
     "output_type": "error",
     "traceback": [
      "\u001b[1;31m---------------------------------------------------------------------------\u001b[0m",
      "\u001b[1;31mIndexError\u001b[0m                                Traceback (most recent call last)",
      "Cell \u001b[1;32mIn[81], line 1\u001b[0m\n\u001b[1;32m----> 1\u001b[0m \u001b[43mA\u001b[49m\u001b[43m[\u001b[49m\u001b[38;5;241;43m2000\u001b[39;49m\u001b[43m]\u001b[49m\n",
      "\u001b[1;31mIndexError\u001b[0m: list index out of range"
     ]
    }
   ],
   "source": [
    "A[2000]"
   ]
  },
  {
   "cell_type": "code",
   "execution_count": 82,
   "id": "2b96b04a",
   "metadata": {},
   "outputs": [
    {
     "data": {
      "text/plain": [
       "['Shubhranshu', 1, 2, 'Shubhranshu', 3, 4, 5, 99, 'Shubhranshu']"
      ]
     },
     "execution_count": 82,
     "metadata": {},
     "output_type": "execute_result"
    }
   ],
   "source": [
    "A.insert(-2000,\"Shubhranshu\")\n",
    "A"
   ]
  },
  {
   "cell_type": "code",
   "execution_count": 83,
   "id": "ef55bc1f",
   "metadata": {},
   "outputs": [
    {
     "ename": "IndexError",
     "evalue": "list index out of range",
     "output_type": "error",
     "traceback": [
      "\u001b[1;31m---------------------------------------------------------------------------\u001b[0m",
      "\u001b[1;31mIndexError\u001b[0m                                Traceback (most recent call last)",
      "Cell \u001b[1;32mIn[83], line 1\u001b[0m\n\u001b[1;32m----> 1\u001b[0m \u001b[43mA\u001b[49m\u001b[43m[\u001b[49m\u001b[38;5;241;43m-\u001b[39;49m\u001b[38;5;241;43m2000\u001b[39;49m\u001b[43m]\u001b[49m\n",
      "\u001b[1;31mIndexError\u001b[0m: list index out of range"
     ]
    }
   ],
   "source": [
    "A[-2000]"
   ]
  },
  {
   "cell_type": "code",
   "execution_count": 84,
   "id": "61af5da2",
   "metadata": {},
   "outputs": [
    {
     "data": {
      "text/plain": [
       "['Shubhranshu', 1, [1, 3, 4], 2, 'Shubhranshu', 3, 4, 5, 99, 'Shubhranshu']"
      ]
     },
     "execution_count": 84,
     "metadata": {},
     "output_type": "execute_result"
    }
   ],
   "source": [
    "A.insert(2,[1,3,4])\n",
    "A"
   ]
  },
  {
   "cell_type": "markdown",
   "id": "f2e305bd",
   "metadata": {},
   "source": [
    "## remove"
   ]
  },
  {
   "cell_type": "code",
   "execution_count": 85,
   "id": "f629931a",
   "metadata": {},
   "outputs": [
    {
     "data": {
      "text/plain": [
       "[1, 2, 3, 6, 77]"
      ]
     },
     "execution_count": 85,
     "metadata": {},
     "output_type": "execute_result"
    }
   ],
   "source": [
    "A = [1,2,3,455, 6, 77]\n",
    "\n",
    "A.remove(455)\n",
    "\n",
    "A"
   ]
  },
  {
   "cell_type": "code",
   "execution_count": 86,
   "id": "36ca4a85",
   "metadata": {},
   "outputs": [
    {
     "data": {
      "text/plain": [
       "[1, 2, 3, 455, 6]"
      ]
     },
     "execution_count": 86,
     "metadata": {},
     "output_type": "execute_result"
    }
   ],
   "source": [
    "A = [1,2,3,455, 6, 77]\n",
    "\n",
    "A.remove(77)\n",
    "\n",
    "A"
   ]
  },
  {
   "cell_type": "code",
   "execution_count": 87,
   "id": "203f22ab",
   "metadata": {},
   "outputs": [
    {
     "ename": "ValueError",
     "evalue": "list.remove(x): x not in list",
     "output_type": "error",
     "traceback": [
      "\u001b[1;31m---------------------------------------------------------------------------\u001b[0m",
      "\u001b[1;31mValueError\u001b[0m                                Traceback (most recent call last)",
      "Cell \u001b[1;32mIn[87], line 3\u001b[0m\n\u001b[0;32m      1\u001b[0m A \u001b[38;5;241m=\u001b[39m [\u001b[38;5;241m1\u001b[39m,\u001b[38;5;241m2\u001b[39m,\u001b[38;5;241m3\u001b[39m,\u001b[38;5;241m455\u001b[39m, \u001b[38;5;241m6\u001b[39m, \u001b[38;5;241m77\u001b[39m]\n\u001b[1;32m----> 3\u001b[0m \u001b[43mA\u001b[49m\u001b[38;5;241;43m.\u001b[39;49m\u001b[43mremove\u001b[49m\u001b[43m(\u001b[49m\u001b[38;5;241;43m999\u001b[39;49m\u001b[43m)\u001b[49m\n\u001b[0;32m      5\u001b[0m A\n",
      "\u001b[1;31mValueError\u001b[0m: list.remove(x): x not in list"
     ]
    }
   ],
   "source": [
    "A = [1,2,3,455, 6, 77]\n",
    "\n",
    "A.remove(999)\n",
    "\n",
    "A"
   ]
  },
  {
   "cell_type": "code",
   "execution_count": 88,
   "id": "4eab1548",
   "metadata": {},
   "outputs": [
    {
     "data": {
      "text/plain": [
       "77"
      ]
     },
     "execution_count": 88,
     "metadata": {},
     "output_type": "execute_result"
    }
   ],
   "source": [
    "A.pop(-1)"
   ]
  },
  {
   "cell_type": "code",
   "execution_count": 89,
   "id": "51a80c06",
   "metadata": {},
   "outputs": [
    {
     "data": {
      "text/plain": [
       "6"
      ]
     },
     "execution_count": 89,
     "metadata": {},
     "output_type": "execute_result"
    }
   ],
   "source": [
    "A.pop() #this removes the last element"
   ]
  },
  {
   "cell_type": "markdown",
   "id": "a5c7cd8f",
   "metadata": {},
   "source": [
    "## Tuples () - Immutable\n",
    "list [] - mutable"
   ]
  },
  {
   "cell_type": "code",
   "execution_count": 90,
   "id": "9f6bafd5",
   "metadata": {},
   "outputs": [
    {
     "data": {
      "text/plain": [
       "tuple"
      ]
     },
     "execution_count": 90,
     "metadata": {},
     "output_type": "execute_result"
    }
   ],
   "source": [
    "A = (1,2,3)\n",
    "type(A)"
   ]
  },
  {
   "cell_type": "code",
   "execution_count": 91,
   "id": "29a35ec5",
   "metadata": {},
   "outputs": [
    {
     "data": {
      "text/plain": [
       "1"
      ]
     },
     "execution_count": 91,
     "metadata": {},
     "output_type": "execute_result"
    }
   ],
   "source": [
    "A[0]"
   ]
  },
  {
   "cell_type": "code",
   "execution_count": 93,
   "id": "31e4c447",
   "metadata": {},
   "outputs": [
    {
     "data": {
      "text/plain": [
       "3"
      ]
     },
     "execution_count": 93,
     "metadata": {},
     "output_type": "execute_result"
    }
   ],
   "source": [
    "A[-1]"
   ]
  },
  {
   "cell_type": "code",
   "execution_count": 96,
   "id": "4a339f5e",
   "metadata": {},
   "outputs": [
    {
     "ename": "TypeError",
     "evalue": "'tuple' object does not support item assignment",
     "output_type": "error",
     "traceback": [
      "\u001b[1;31m---------------------------------------------------------------------------\u001b[0m",
      "\u001b[1;31mTypeError\u001b[0m                                 Traceback (most recent call last)",
      "Cell \u001b[1;32mIn[96], line 1\u001b[0m\n\u001b[1;32m----> 1\u001b[0m \u001b[43mA\u001b[49m\u001b[43m[\u001b[49m\u001b[38;5;241;43m0\u001b[39;49m\u001b[43m]\u001b[49m \u001b[38;5;241m=\u001b[39m \u001b[38;5;241m22\u001b[39m\n",
      "\u001b[1;31mTypeError\u001b[0m: 'tuple' object does not support item assignment"
     ]
    }
   ],
   "source": [
    "A[0] = 22"
   ]
  },
  {
   "cell_type": "code",
   "execution_count": 97,
   "id": "69174562",
   "metadata": {},
   "outputs": [],
   "source": [
    "A = (22,12,34,1)"
   ]
  },
  {
   "cell_type": "code",
   "execution_count": 98,
   "id": "038ed442",
   "metadata": {},
   "outputs": [
    {
     "ename": "AttributeError",
     "evalue": "'tuple' object has no attribute 'sort'",
     "output_type": "error",
     "traceback": [
      "\u001b[1;31m---------------------------------------------------------------------------\u001b[0m",
      "\u001b[1;31mAttributeError\u001b[0m                            Traceback (most recent call last)",
      "Cell \u001b[1;32mIn[98], line 1\u001b[0m\n\u001b[1;32m----> 1\u001b[0m \u001b[43mA\u001b[49m\u001b[38;5;241;43m.\u001b[39;49m\u001b[43msort\u001b[49m()\n",
      "\u001b[1;31mAttributeError\u001b[0m: 'tuple' object has no attribute 'sort'"
     ]
    }
   ],
   "source": [
    "A.sort()"
   ]
  },
  {
   "cell_type": "code",
   "execution_count": 99,
   "id": "1d44b417",
   "metadata": {},
   "outputs": [
    {
     "data": {
      "text/plain": [
       "[1, 12, 22, 34]"
      ]
     },
     "execution_count": 99,
     "metadata": {},
     "output_type": "execute_result"
    }
   ],
   "source": [
    "sorted(A)"
   ]
  },
  {
   "cell_type": "code",
   "execution_count": 100,
   "id": "f9f75e3d",
   "metadata": {},
   "outputs": [
    {
     "data": {
      "text/plain": [
       "[1, 12, 22, 34]"
      ]
     },
     "execution_count": 100,
     "metadata": {},
     "output_type": "execute_result"
    }
   ],
   "source": [
    "A = sorted(A)\n",
    "\n",
    "A"
   ]
  },
  {
   "cell_type": "code",
   "execution_count": 101,
   "id": "f47c07db",
   "metadata": {},
   "outputs": [
    {
     "data": {
      "text/plain": [
       "4"
      ]
     },
     "execution_count": 101,
     "metadata": {},
     "output_type": "execute_result"
    }
   ],
   "source": [
    "len(A)"
   ]
  },
  {
   "cell_type": "code",
   "execution_count": 102,
   "id": "ab4504d7",
   "metadata": {},
   "outputs": [
    {
     "ename": "TypeError",
     "evalue": "unsupported operand type(s) for ** or pow(): 'list' and 'int'",
     "output_type": "error",
     "traceback": [
      "\u001b[1;31m---------------------------------------------------------------------------\u001b[0m",
      "\u001b[1;31mTypeError\u001b[0m                                 Traceback (most recent call last)",
      "Cell \u001b[1;32mIn[102], line 1\u001b[0m\n\u001b[1;32m----> 1\u001b[0m \u001b[43mA\u001b[49m\u001b[43m \u001b[49m\u001b[38;5;241;43m*\u001b[39;49m\u001b[38;5;241;43m*\u001b[39;49m\u001b[43m \u001b[49m\u001b[38;5;241;43m2\u001b[39;49m\n",
      "\u001b[1;31mTypeError\u001b[0m: unsupported operand type(s) for ** or pow(): 'list' and 'int'"
     ]
    }
   ],
   "source": [
    "A ** 2"
   ]
  },
  {
   "cell_type": "code",
   "execution_count": 103,
   "id": "66e42bec",
   "metadata": {},
   "outputs": [
    {
     "data": {
      "text/plain": [
       "34"
      ]
     },
     "execution_count": 103,
     "metadata": {},
     "output_type": "execute_result"
    }
   ],
   "source": [
    "max(A)"
   ]
  },
  {
   "cell_type": "code",
   "execution_count": 104,
   "id": "75496388",
   "metadata": {},
   "outputs": [
    {
     "data": {
      "text/plain": [
       "1"
      ]
     },
     "execution_count": 104,
     "metadata": {},
     "output_type": "execute_result"
    }
   ],
   "source": [
    "min(A)"
   ]
  },
  {
   "cell_type": "code",
   "execution_count": 105,
   "id": "ac674ad4",
   "metadata": {},
   "outputs": [
    {
     "data": {
      "text/plain": [
       "1"
      ]
     },
     "execution_count": 105,
     "metadata": {},
     "output_type": "execute_result"
    }
   ],
   "source": [
    "A.index(12)"
   ]
  },
  {
   "cell_type": "code",
   "execution_count": 106,
   "id": "42797ca3",
   "metadata": {},
   "outputs": [
    {
     "data": {
      "text/plain": [
       "1"
      ]
     },
     "execution_count": 106,
     "metadata": {},
     "output_type": "execute_result"
    }
   ],
   "source": [
    "A.count(12)"
   ]
  },
  {
   "cell_type": "code",
   "execution_count": 107,
   "id": "4b54a021",
   "metadata": {},
   "outputs": [
    {
     "data": {
      "text/plain": [
       "69"
      ]
     },
     "execution_count": 107,
     "metadata": {},
     "output_type": "execute_result"
    }
   ],
   "source": [
    "sum(A)"
   ]
  },
  {
   "cell_type": "code",
   "execution_count": 110,
   "id": "e677e2a9",
   "metadata": {},
   "outputs": [
    {
     "data": {
      "text/plain": [
       "[1, 12, 22, 34]"
      ]
     },
     "execution_count": 110,
     "metadata": {},
     "output_type": "execute_result"
    }
   ],
   "source": [
    "A"
   ]
  },
  {
   "cell_type": "code",
   "execution_count": 111,
   "id": "f8d56e93",
   "metadata": {},
   "outputs": [
    {
     "data": {
      "text/plain": [
       "[12, 22, 34]"
      ]
     },
     "execution_count": 111,
     "metadata": {},
     "output_type": "execute_result"
    }
   ],
   "source": [
    "A[1:]"
   ]
  },
  {
   "cell_type": "code",
   "execution_count": 112,
   "id": "16a5d279",
   "metadata": {},
   "outputs": [
    {
     "data": {
      "text/plain": [
       "[34, 22, 12, 1]"
      ]
     },
     "execution_count": 112,
     "metadata": {},
     "output_type": "execute_result"
    }
   ],
   "source": [
    "A[::-1]"
   ]
  },
  {
   "cell_type": "code",
   "execution_count": 113,
   "id": "d70ee839",
   "metadata": {},
   "outputs": [],
   "source": [
    "# (\"item_name\", amount) \n",
    "\n",
    "amazon_cart = [(\"watch\", 5000), (\"phone\", 10000), (\"laptop\", 50000), (\"shirt\", 1000)]\n",
    "\n",
    "total_cost = 0"
   ]
  },
  {
   "cell_type": "code",
   "execution_count": 114,
   "id": "4090bb1a",
   "metadata": {},
   "outputs": [
    {
     "name": "stdout",
     "output_type": "stream",
     "text": [
      "empty cart: 0\n",
      "5000\n",
      "cart after adding watch: 5000\n",
      "10000\n",
      "cart after adding phone: 15000\n",
      "50000\n",
      "cart after adding laptop: 65000\n",
      "1000\n",
      "cart after adding shirt: 66000\n",
      "Total payable amount: 66000\n"
     ]
    }
   ],
   "source": [
    "total_cost = 0\n",
    "print(f\"empty cart: {total_cost}\")\n",
    "\n",
    "for item in amazon_cart:\n",
    "  print(item[1])\n",
    "  total_cost = total_cost + item[1]\n",
    "  print(f\"cart after adding {item[0]}: {total_cost}\")\n",
    "\n",
    "print(f\"Total payable amount: {total_cost}\")"
   ]
  },
  {
   "cell_type": "code",
   "execution_count": 115,
   "id": "712e8e05",
   "metadata": {},
   "outputs": [
    {
     "name": "stdout",
     "output_type": "stream",
     "text": [
      "What you want to purchase? : phone\n"
     ]
    }
   ],
   "source": [
    "amazon_website = [(\"watch\", 5000), (\"phone\", 10000), (\"laptop\", 50000), (\"shirt\", 1000)]\n",
    "\n",
    "my_choice = input(\"What you want to purchase? : \")"
   ]
  },
  {
   "cell_type": "code",
   "execution_count": 116,
   "id": "e310d308",
   "metadata": {},
   "outputs": [
    {
     "name": "stdout",
     "output_type": "stream",
     "text": [
      "('phone', 10000)\n"
     ]
    }
   ],
   "source": [
    "for item in amazon_website:\n",
    "    if item[0] == my_choice:\n",
    "        print(item)"
   ]
  },
  {
   "cell_type": "markdown",
   "id": "c03bb731",
   "metadata": {},
   "source": [
    "## Sets\n",
    "\n",
    "unordered collection of unique elements"
   ]
  },
  {
   "cell_type": "code",
   "execution_count": 117,
   "id": "71ce6730",
   "metadata": {},
   "outputs": [],
   "source": [
    "x = {1,2,33,6,7}"
   ]
  },
  {
   "cell_type": "code",
   "execution_count": 118,
   "id": "ed9ca814",
   "metadata": {},
   "outputs": [
    {
     "data": {
      "text/plain": [
       "set"
      ]
     },
     "execution_count": 118,
     "metadata": {},
     "output_type": "execute_result"
    }
   ],
   "source": [
    "type(x)"
   ]
  },
  {
   "cell_type": "code",
   "execution_count": 119,
   "id": "a3954864",
   "metadata": {},
   "outputs": [
    {
     "data": {
      "text/plain": [
       "{1, 2, 6, 7, 33}"
      ]
     },
     "execution_count": 119,
     "metadata": {},
     "output_type": "execute_result"
    }
   ],
   "source": [
    "x =  {1,2,33,6,7, 7, 7}\n",
    "\n",
    "x"
   ]
  },
  {
   "cell_type": "code",
   "execution_count": 120,
   "id": "db2cac0d",
   "metadata": {},
   "outputs": [
    {
     "data": {
      "text/plain": [
       "set"
      ]
     },
     "execution_count": 120,
     "metadata": {},
     "output_type": "execute_result"
    }
   ],
   "source": [
    "x = set() # RECOMMENDED\n",
    "\n",
    "type(x)"
   ]
  },
  {
   "cell_type": "code",
   "execution_count": 121,
   "id": "31b9f577",
   "metadata": {},
   "outputs": [
    {
     "data": {
      "text/plain": [
       "dict"
      ]
     },
     "execution_count": 121,
     "metadata": {},
     "output_type": "execute_result"
    }
   ],
   "source": [
    "x = {} # NOT recommended\n",
    "\n",
    "type(x)"
   ]
  },
  {
   "cell_type": "code",
   "execution_count": 122,
   "id": "0a8fd25f",
   "metadata": {},
   "outputs": [
    {
     "data": {
      "text/plain": [
       "()"
      ]
     },
     "execution_count": 122,
     "metadata": {},
     "output_type": "execute_result"
    }
   ],
   "source": [
    "x = tuple()\n",
    "x"
   ]
  },
  {
   "cell_type": "code",
   "execution_count": 123,
   "id": "d20d88d6",
   "metadata": {},
   "outputs": [
    {
     "data": {
      "text/plain": [
       "[]"
      ]
     },
     "execution_count": 123,
     "metadata": {},
     "output_type": "execute_result"
    }
   ],
   "source": [
    "x = list()\n",
    "x"
   ]
  },
  {
   "cell_type": "code",
   "execution_count": 124,
   "id": "c1030ea0",
   "metadata": {},
   "outputs": [
    {
     "data": {
      "text/plain": [
       "{1, 2, 6, 7, 33}"
      ]
     },
     "execution_count": 124,
     "metadata": {},
     "output_type": "execute_result"
    }
   ],
   "source": [
    "x =  {1,2,33,6,7, 7, 7}\n",
    "\n",
    "x"
   ]
  },
  {
   "cell_type": "code",
   "execution_count": 125,
   "id": "1a3b3205",
   "metadata": {},
   "outputs": [
    {
     "ename": "TypeError",
     "evalue": "'set' object is not subscriptable",
     "output_type": "error",
     "traceback": [
      "\u001b[1;31m---------------------------------------------------------------------------\u001b[0m",
      "\u001b[1;31mTypeError\u001b[0m                                 Traceback (most recent call last)",
      "Cell \u001b[1;32mIn[125], line 1\u001b[0m\n\u001b[1;32m----> 1\u001b[0m \u001b[43mx\u001b[49m\u001b[43m[\u001b[49m\u001b[38;5;241;43m0\u001b[39;49m\u001b[43m]\u001b[49m \u001b[38;5;66;03m# NOT allowed as set is unordered\u001b[39;00m\n",
      "\u001b[1;31mTypeError\u001b[0m: 'set' object is not subscriptable"
     ]
    }
   ],
   "source": [
    "x[0] # NOT allowed as set is unordered"
   ]
  },
  {
   "cell_type": "code",
   "execution_count": 126,
   "id": "e48901eb",
   "metadata": {},
   "outputs": [
    {
     "data": {
      "text/plain": [
       "{1, 2, 33, 6, 'Sunny'}"
      ]
     },
     "execution_count": 126,
     "metadata": {},
     "output_type": "execute_result"
    }
   ],
   "source": [
    "x =  {1,2,33,6,\"Sunny\"}\n",
    "\n",
    "x"
   ]
  },
  {
   "cell_type": "code",
   "execution_count": 127,
   "id": "4bf61c26",
   "metadata": {},
   "outputs": [
    {
     "data": {
      "text/plain": [
       "{1, 2, 33, 6, 99, 'Sunny'}"
      ]
     },
     "execution_count": 127,
     "metadata": {},
     "output_type": "execute_result"
    }
   ],
   "source": [
    "x.add(99)\n",
    "\n",
    "x"
   ]
  },
  {
   "cell_type": "code",
   "execution_count": 128,
   "id": "64fa5316",
   "metadata": {},
   "outputs": [
    {
     "data": {
      "text/plain": [
       "{(99+2j), 1, 2, 33, 6, 99, 'Sunny'}"
      ]
     },
     "execution_count": 128,
     "metadata": {},
     "output_type": "execute_result"
    }
   ],
   "source": [
    "x.add(99+2j)\n",
    "\n",
    "x"
   ]
  },
  {
   "cell_type": "code",
   "execution_count": 129,
   "id": "d6d1065d",
   "metadata": {},
   "outputs": [
    {
     "data": {
      "text/plain": [
       "{(99+2j), -100, 1, 2, 33, 6, 99, 'Sunny'}"
      ]
     },
     "execution_count": 129,
     "metadata": {},
     "output_type": "execute_result"
    }
   ],
   "source": [
    "x.add( -100)\n",
    "\n",
    "x"
   ]
  },
  {
   "cell_type": "code",
   "execution_count": 130,
   "id": "362128b5",
   "metadata": {},
   "outputs": [
    {
     "ename": "AttributeError",
     "evalue": "'set' object has no attribute 'append'",
     "output_type": "error",
     "traceback": [
      "\u001b[1;31m---------------------------------------------------------------------------\u001b[0m",
      "\u001b[1;31mAttributeError\u001b[0m                            Traceback (most recent call last)",
      "Cell \u001b[1;32mIn[130], line 1\u001b[0m\n\u001b[1;32m----> 1\u001b[0m \u001b[43mx\u001b[49m\u001b[38;5;241;43m.\u001b[39;49m\u001b[43mappend\u001b[49m(\u001b[38;5;241m45\u001b[39m)\n",
      "\u001b[1;31mAttributeError\u001b[0m: 'set' object has no attribute 'append'"
     ]
    }
   ],
   "source": [
    "x.append(45)"
   ]
  },
  {
   "cell_type": "code",
   "execution_count": 131,
   "id": "9bf61eb0",
   "metadata": {},
   "outputs": [
    {
     "data": {
      "text/plain": [
       "{(99+2j), -100, 1, 2, 20.2, 33, 6, 99, 'Sunny'}"
      ]
     },
     "execution_count": 131,
     "metadata": {},
     "output_type": "execute_result"
    }
   ],
   "source": [
    "x.add( 20.2)\n",
    "\n",
    "x"
   ]
  },
  {
   "cell_type": "code",
   "execution_count": 132,
   "id": "295f2601",
   "metadata": {},
   "outputs": [
    {
     "data": {
      "text/plain": [
       "{(99+2j), 1, 2, 20.2, 33, 6, 99, 'Sunny'}"
      ]
     },
     "execution_count": 132,
     "metadata": {},
     "output_type": "execute_result"
    }
   ],
   "source": [
    "x.remove(-100)\n",
    "\n",
    "x"
   ]
  },
  {
   "cell_type": "code",
   "execution_count": 133,
   "id": "15746e56",
   "metadata": {},
   "outputs": [
    {
     "data": {
      "text/plain": [
       "[1, 2, 3, 5, 6, 7]"
      ]
     },
     "execution_count": 133,
     "metadata": {},
     "output_type": "execute_result"
    }
   ],
   "source": [
    "## return the list with unique elements\n",
    "\n",
    "A = [1,2,3,5,5,6,6,7,7,7]\n",
    "\n",
    "A = list(set(A))\n",
    "\n",
    "A"
   ]
  },
  {
   "cell_type": "code",
   "execution_count": 134,
   "id": "f4d97c4f",
   "metadata": {},
   "outputs": [
    {
     "ename": "TypeError",
     "evalue": "unsupported operand type(s) for +: 'set' and 'set'",
     "output_type": "error",
     "traceback": [
      "\u001b[1;31m---------------------------------------------------------------------------\u001b[0m",
      "\u001b[1;31mTypeError\u001b[0m                                 Traceback (most recent call last)",
      "Cell \u001b[1;32mIn[134], line 5\u001b[0m\n\u001b[0;32m      1\u001b[0m A \u001b[38;5;241m=\u001b[39m {\u001b[38;5;241m1\u001b[39m,\u001b[38;5;241m2\u001b[39m,\u001b[38;5;241m3\u001b[39m}\n\u001b[0;32m      2\u001b[0m B \u001b[38;5;241m=\u001b[39m {\u001b[38;5;241m4\u001b[39m,\u001b[38;5;241m5\u001b[39m,\u001b[38;5;241m6\u001b[39m}\n\u001b[1;32m----> 5\u001b[0m \u001b[43mA\u001b[49m\u001b[43m \u001b[49m\u001b[38;5;241;43m+\u001b[39;49m\u001b[43m \u001b[49m\u001b[43mB\u001b[49m\n",
      "\u001b[1;31mTypeError\u001b[0m: unsupported operand type(s) for +: 'set' and 'set'"
     ]
    }
   ],
   "source": [
    "A = {1,2,3}\n",
    "B = {4,5,6}\n",
    "\n",
    "\n",
    "A + B"
   ]
  }
 ],
 "metadata": {
  "kernelspec": {
   "display_name": "Python 3 (ipykernel)",
   "language": "python",
   "name": "python3"
  },
  "language_info": {
   "codemirror_mode": {
    "name": "ipython",
    "version": 3
   },
   "file_extension": ".py",
   "mimetype": "text/x-python",
   "name": "python",
   "nbconvert_exporter": "python",
   "pygments_lexer": "ipython3",
   "version": "3.9.12"
  }
 },
 "nbformat": 4,
 "nbformat_minor": 5
}
