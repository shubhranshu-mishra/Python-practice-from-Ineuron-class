{
 "cells": [
  {
   "cell_type": "markdown",
   "id": "5179df78",
   "metadata": {},
   "source": [
    "## Arithmatic operators"
   ]
  },
  {
   "cell_type": "markdown",
   "id": "8da63dce",
   "metadata": {},
   "source": [
    "operator|meaning\n",
    "-|-\n",
    "+|addition\n",
    "-|subtraction\n",
    "*|multiplication\n",
    "/|True division\n",
    "//|integer division\n",
    "%|modulo operator"
   ]
  },
  {
   "cell_type": "code",
   "execution_count": 1,
   "id": "791e612a",
   "metadata": {},
   "outputs": [
    {
     "name": "stdout",
     "output_type": "stream",
     "text": [
      "integer division: 25/5=5\n"
     ]
    }
   ],
   "source": [
    "var_a = 5\n",
    "var_b = 25\n",
    "integer_division = var_b // var_a\n",
    "print(f\"integer division: {var_b}/{var_a}={integer_division}\")"
   ]
  },
  {
   "cell_type": "code",
   "execution_count": 2,
   "id": "74873c3d",
   "metadata": {},
   "outputs": [
    {
     "name": "stdout",
     "output_type": "stream",
     "text": [
      "integer division: 25/3=8\n"
     ]
    }
   ],
   "source": [
    "var_a = 3\n",
    "var_b = 25\n",
    "integer_division = var_b // var_a\n",
    "print(f\"integer division: {var_b}/{var_a}={integer_division}\")"
   ]
  },
  {
   "cell_type": "code",
   "execution_count": 3,
   "id": "e52da94c",
   "metadata": {},
   "outputs": [
    {
     "name": "stdout",
     "output_type": "stream",
     "text": [
      "remainder: 25/5 is 0\n"
     ]
    }
   ],
   "source": [
    "var_a = 5\n",
    "var_b = 25\n",
    "remainder = var_b % var_a\n",
    "print(f\"remainder: {var_b}/{var_a} is {remainder}\")"
   ]
  },
  {
   "cell_type": "code",
   "execution_count": 4,
   "id": "4013aca8",
   "metadata": {},
   "outputs": [
    {
     "name": "stdout",
     "output_type": "stream",
     "text": [
      "remainder: 25/3 is 1\n"
     ]
    }
   ],
   "source": [
    "var_a = 3\n",
    "var_b = 25\n",
    "remainder = var_b % var_a\n",
    "print(f\"remainder: {var_b}/{var_a} is {remainder}\")"
   ]
  },
  {
   "cell_type": "code",
   "execution_count": 5,
   "id": "023c6cf9",
   "metadata": {},
   "outputs": [
    {
     "data": {
      "text/plain": [
       "45"
      ]
     },
     "execution_count": 5,
     "metadata": {},
     "output_type": "execute_result"
    }
   ],
   "source": [
    "A = 22\n",
    "B = 23\n",
    "\n",
    "A + B"
   ]
  },
  {
   "cell_type": "code",
   "execution_count": 6,
   "id": "fe06882e",
   "metadata": {},
   "outputs": [
    {
     "data": {
      "text/plain": [
       "-1"
      ]
     },
     "execution_count": 6,
     "metadata": {},
     "output_type": "execute_result"
    }
   ],
   "source": [
    "A - B"
   ]
  },
  {
   "cell_type": "code",
   "execution_count": 7,
   "id": "7347323b",
   "metadata": {},
   "outputs": [
    {
     "data": {
      "text/plain": [
       "0.9565217391304348"
      ]
     },
     "execution_count": 7,
     "metadata": {},
     "output_type": "execute_result"
    }
   ],
   "source": [
    "A / B"
   ]
  },
  {
   "cell_type": "code",
   "execution_count": 8,
   "id": "a281eccf",
   "metadata": {},
   "outputs": [
    {
     "data": {
      "text/plain": [
       "0"
      ]
     },
     "execution_count": 8,
     "metadata": {},
     "output_type": "execute_result"
    }
   ],
   "source": [
    "A // B"
   ]
  },
  {
   "cell_type": "code",
   "execution_count": 9,
   "id": "5936873b",
   "metadata": {},
   "outputs": [
    {
     "data": {
      "text/plain": [
       "2"
      ]
     },
     "execution_count": 9,
     "metadata": {},
     "output_type": "execute_result"
    }
   ],
   "source": [
    "A = 5\n",
    "B = 2\n",
    "\n",
    "A // B"
   ]
  },
  {
   "cell_type": "code",
   "execution_count": 10,
   "id": "c5493f61",
   "metadata": {},
   "outputs": [
    {
     "data": {
      "text/plain": [
       "1"
      ]
     },
     "execution_count": 10,
     "metadata": {},
     "output_type": "execute_result"
    }
   ],
   "source": [
    "A % B"
   ]
  },
  {
   "cell_type": "code",
   "execution_count": 11,
   "id": "6e092b3c",
   "metadata": {},
   "outputs": [
    {
     "data": {
      "text/plain": [
       "0"
      ]
     },
     "execution_count": 11,
     "metadata": {},
     "output_type": "execute_result"
    }
   ],
   "source": [
    "A = 4\n",
    "B = 2\n",
    "\n",
    "A % B"
   ]
  },
  {
   "cell_type": "code",
   "execution_count": 12,
   "id": "70ab432b",
   "metadata": {},
   "outputs": [
    {
     "name": "stdout",
     "output_type": "stream",
     "text": [
      "A: 55 is not divisible by B: 2\n"
     ]
    }
   ],
   "source": [
    "A = 55\n",
    "B = 2\n",
    "\n",
    "if A % B == 0:\n",
    "    print(f\"A: {A} is divisible by B: {B}\")\n",
    "else:\n",
    "    print(f\"A: {A} is not divisible by B: {B}\")"
   ]
  },
  {
   "cell_type": "code",
   "execution_count": 13,
   "id": "ed712c56",
   "metadata": {},
   "outputs": [
    {
     "name": "stdout",
     "output_type": "stream",
     "text": [
      "A: 55 is not divisible by B: 3\n"
     ]
    }
   ],
   "source": [
    "A = 55\n",
    "B = 3\n",
    "\n",
    "if A % B == 0:\n",
    "    print(f\"A: {A} is divisible by B: {B}\")\n",
    "else:\n",
    "    print(f\"A: {A} is not divisible by B: {B}\")"
   ]
  },
  {
   "cell_type": "code",
   "execution_count": 16,
   "id": "c4ebe8be",
   "metadata": {},
   "outputs": [
    {
     "data": {
      "text/plain": [
       "2.0"
      ]
     },
     "execution_count": 16,
     "metadata": {},
     "output_type": "execute_result"
    }
   ],
   "source": [
    "A = 4\n",
    "\n",
    "A ** (1/2) # Square Root"
   ]
  },
  {
   "cell_type": "code",
   "execution_count": 17,
   "id": "32599054",
   "metadata": {},
   "outputs": [
    {
     "data": {
      "text/plain": [
       "16"
      ]
     },
     "execution_count": 17,
     "metadata": {},
     "output_type": "execute_result"
    }
   ],
   "source": [
    "A ** 2 # A raised/ powered to 2/ squared"
   ]
  },
  {
   "cell_type": "markdown",
   "id": "3e27ef4b",
   "metadata": {},
   "source": [
    "## String methods"
   ]
  },
  {
   "cell_type": "markdown",
   "id": "9ec936b9",
   "metadata": {},
   "source": [
    "If N characters or elements are there in a string, then the index range will vary from 0 to N-1. For example, in \"Shubhranshu\" N=11, index value is ranging from 0 to 10.\n",
    "To index in reverse order, the index value ranges from -1 to -N "
   ]
  },
  {
   "cell_type": "code",
   "execution_count": 18,
   "id": "282ab9bf",
   "metadata": {},
   "outputs": [
    {
     "data": {
      "text/plain": [
       "'S'"
      ]
     },
     "execution_count": 18,
     "metadata": {},
     "output_type": "execute_result"
    }
   ],
   "source": [
    "# String indexing\n",
    "# 012345678910\n",
    "# -11-10-9-8-7-6-5-4-3-2-1\n",
    "\n",
    "name = \"Shubhranshu\"\n",
    "\n",
    "name[0]"
   ]
  },
  {
   "cell_type": "code",
   "execution_count": 19,
   "id": "f73204ac",
   "metadata": {},
   "outputs": [
    {
     "data": {
      "text/plain": [
       "'h'"
      ]
     },
     "execution_count": 19,
     "metadata": {},
     "output_type": "execute_result"
    }
   ],
   "source": [
    "name[4]"
   ]
  },
  {
   "cell_type": "code",
   "execution_count": 20,
   "id": "a3823621",
   "metadata": {},
   "outputs": [
    {
     "data": {
      "text/plain": [
       "'u'"
      ]
     },
     "execution_count": 20,
     "metadata": {},
     "output_type": "execute_result"
    }
   ],
   "source": [
    "name[-1]"
   ]
  },
  {
   "cell_type": "code",
   "execution_count": 21,
   "id": "7e215321",
   "metadata": {},
   "outputs": [
    {
     "data": {
      "text/plain": [
       "'S'"
      ]
     },
     "execution_count": 21,
     "metadata": {},
     "output_type": "execute_result"
    }
   ],
   "source": [
    "name[-11]"
   ]
  },
  {
   "cell_type": "code",
   "execution_count": 22,
   "id": "3fd3b26d",
   "metadata": {},
   "outputs": [
    {
     "data": {
      "text/plain": [
       "'hubhranshu'"
      ]
     },
     "execution_count": 22,
     "metadata": {},
     "output_type": "execute_result"
    }
   ],
   "source": [
    "# String slicing\n",
    "\n",
    "name = \"Shubhranshu\"\n",
    "\n",
    "name[1:]"
   ]
  },
  {
   "cell_type": "code",
   "execution_count": 23,
   "id": "77e99937",
   "metadata": {},
   "outputs": [
    {
     "data": {
      "text/plain": [
       "'hu'"
      ]
     },
     "execution_count": 23,
     "metadata": {},
     "output_type": "execute_result"
    }
   ],
   "source": [
    "name[1:3] # Ending is excluded"
   ]
  },
  {
   "cell_type": "code",
   "execution_count": 24,
   "id": "efe49417",
   "metadata": {},
   "outputs": [
    {
     "data": {
      "text/plain": [
       "'hub'"
      ]
     },
     "execution_count": 24,
     "metadata": {},
     "output_type": "execute_result"
    }
   ],
   "source": [
    "name[1:4]"
   ]
  },
  {
   "cell_type": "code",
   "execution_count": 25,
   "id": "8deca3b9",
   "metadata": {},
   "outputs": [
    {
     "data": {
      "text/plain": [
       "'hubhrans'"
      ]
     },
     "execution_count": 25,
     "metadata": {},
     "output_type": "execute_result"
    }
   ],
   "source": [
    "name[1:9]"
   ]
  },
  {
   "cell_type": "code",
   "execution_count": 27,
   "id": "17e41028",
   "metadata": {},
   "outputs": [
    {
     "data": {
      "text/plain": [
       "'Shubhransh'"
      ]
     },
     "execution_count": 27,
     "metadata": {},
     "output_type": "execute_result"
    }
   ],
   "source": [
    "name[-11:-1]"
   ]
  },
  {
   "cell_type": "code",
   "execution_count": 28,
   "id": "d13b51d1",
   "metadata": {},
   "outputs": [
    {
     "name": "stdout",
     "output_type": "stream",
     "text": [
      "its 22th day of 12 month of the year 2022\n"
     ]
    }
   ],
   "source": [
    "date = \"22/12/2022\"\n",
    "#index  0123456789\n",
    "\n",
    "# today's date, month and year\n",
    "\n",
    "todays_date = date[0:2]\n",
    "month = date[3:5]\n",
    "year = date[6:]\n",
    "\n",
    "print(f\"its {todays_date}th day of {month} month of the year {year}\")"
   ]
  },
  {
   "cell_type": "code",
   "execution_count": 30,
   "id": "89ba92b2",
   "metadata": {},
   "outputs": [
    {
     "name": "stdout",
     "output_type": "stream",
     "text": [
      "Enter date of birth in the format DD/MM/YYYY: 09/03/1995\n",
      "The user was born on 09 in the month of 03 in the year 1995\n"
     ]
    }
   ],
   "source": [
    "date = input(\"Enter date of birth in the format DD/MM/YYYY: \")\n",
    "\n",
    "day = date[0:2]\n",
    "month = date[3:5]\n",
    "year = date[6:10]\n",
    "\n",
    "print(f\"The user was born on {day} in the month of {month} in the year {year}\")"
   ]
  },
  {
   "cell_type": "code",
   "execution_count": 35,
   "id": "10c28634",
   "metadata": {},
   "outputs": [
    {
     "name": "stdout",
     "output_type": "stream",
     "text": [
      "Enter date of birth in the format DD/MMM/YYYY: 09/Mar/1995\n",
      "The user was born on 09th of Mar in the year 1995\n"
     ]
    }
   ],
   "source": [
    "date = input(\"Enter date of birth in the format DD/MMM/YYYY: \")\n",
    "\n",
    "day = date[0:2]\n",
    "month = date[3:6]\n",
    "year = date[7:11]\n",
    "\n",
    "print(f\"The user was born on {day}th of {month} in the year {year}\")"
   ]
  },
  {
   "cell_type": "code",
   "execution_count": 38,
   "id": "1db89d6b",
   "metadata": {},
   "outputs": [
    {
     "data": {
      "text/plain": [
       "'Suhasu'"
      ]
     },
     "execution_count": 38,
     "metadata": {},
     "output_type": "execute_result"
    }
   ],
   "source": [
    "name = \"Shubhranshu\" #S_u_h_a_s_u\n",
    "\n",
    "name[0:11:2] #[start, end, step]"
   ]
  },
  {
   "cell_type": "code",
   "execution_count": 39,
   "id": "0d14e492",
   "metadata": {},
   "outputs": [
    {
     "data": {
      "text/plain": [
       "'Suhasu'"
      ]
     },
     "execution_count": 39,
     "metadata": {},
     "output_type": "execute_result"
    }
   ],
   "source": [
    "name[0::2]"
   ]
  },
  {
   "cell_type": "code",
   "execution_count": 40,
   "id": "1bded923",
   "metadata": {},
   "outputs": [
    {
     "data": {
      "text/plain": [
       "'Sbah'"
      ]
     },
     "execution_count": 40,
     "metadata": {},
     "output_type": "execute_result"
    }
   ],
   "source": [
    "name[0:11:3]"
   ]
  },
  {
   "cell_type": "code",
   "execution_count": 41,
   "id": "91b6a7c0",
   "metadata": {},
   "outputs": [
    {
     "data": {
      "text/plain": [
       "'SuhasuMsr'"
      ]
     },
     "execution_count": 41,
     "metadata": {},
     "output_type": "execute_result"
    }
   ],
   "source": [
    "name = \"Shubhranshu Mishra\"\n",
    "\n",
    "name[0::2]"
   ]
  },
  {
   "cell_type": "code",
   "execution_count": 42,
   "id": "90da45ce",
   "metadata": {},
   "outputs": [
    {
     "data": {
      "text/plain": [
       "'SbahMh'"
      ]
     },
     "execution_count": 42,
     "metadata": {},
     "output_type": "execute_result"
    }
   ],
   "source": [
    "name[0::3]"
   ]
  },
  {
   "cell_type": "code",
   "execution_count": 43,
   "id": "fda24525",
   "metadata": {},
   "outputs": [
    {
     "data": {
      "text/plain": [
       "'SuhasuMsr'"
      ]
     },
     "execution_count": 43,
     "metadata": {},
     "output_type": "execute_result"
    }
   ],
   "source": [
    "name[::2]"
   ]
  },
  {
   "cell_type": "code",
   "execution_count": 44,
   "id": "8a00547a",
   "metadata": {},
   "outputs": [
    {
     "data": {
      "text/plain": [
       "'ahi hnrbh'"
      ]
     },
     "execution_count": 44,
     "metadata": {},
     "output_type": "execute_result"
    }
   ],
   "source": [
    "name[::-2]"
   ]
  },
  {
   "cell_type": "code",
   "execution_count": 45,
   "id": "83d82a5a",
   "metadata": {},
   "outputs": [
    {
     "data": {
      "text/plain": [
       "'arhsiM uhsnarhbuhS'"
      ]
     },
     "execution_count": 45,
     "metadata": {},
     "output_type": "execute_result"
    }
   ],
   "source": [
    "name[::-1]"
   ]
  },
  {
   "cell_type": "code",
   "execution_count": 46,
   "id": "04e065a4",
   "metadata": {},
   "outputs": [
    {
     "name": "stdout",
     "output_type": "stream",
     "text": [
      "input a string: radar\n",
      "radar radar\n"
     ]
    }
   ],
   "source": [
    "# Palindrone\n",
    "# Eg- malayalam, madam, bob, radar\n",
    "\n",
    "data = input(\"input a string: \")\n",
    "reverse = data[::-1]\n",
    "\n",
    "print(data, reverse)"
   ]
  },
  {
   "cell_type": "code",
   "execution_count": 47,
   "id": "ed8861ce",
   "metadata": {},
   "outputs": [
    {
     "name": "stdout",
     "output_type": "stream",
     "text": [
      "input a string: shubhranshu\n",
      "shubhranshu uhsnarhbuhs\n"
     ]
    }
   ],
   "source": [
    "# Non palindrome\n",
    "\n",
    "data = input(\"input a string: \")\n",
    "reverse = data[::-1]\n",
    "\n",
    "print(data, reverse)"
   ]
  },
  {
   "cell_type": "code",
   "execution_count": 48,
   "id": "f7d40c01",
   "metadata": {},
   "outputs": [
    {
     "name": "stdout",
     "output_type": "stream",
     "text": [
      "input a string: 123456\n",
      "123456 654321\n"
     ]
    }
   ],
   "source": [
    "data = input(\"input a string: \")\n",
    "reverse = data[::-1]\n",
    "\n",
    "print(data, reverse)"
   ]
  },
  {
   "cell_type": "code",
   "execution_count": 51,
   "id": "1a2c1896",
   "metadata": {},
   "outputs": [
    {
     "name": "stdout",
     "output_type": "stream",
     "text": [
      "Input a string: arunabh\n",
      "arunabh is not palindrome\n"
     ]
    }
   ],
   "source": [
    "data = input(\"Input a string: \")\n",
    "reverse = data[::-1]\n",
    "\n",
    "if data == reverse:\n",
    "    print(f\"{data} is palindrome\")\n",
    "else:\n",
    "    print(f\"{data} is not palindrome\")"
   ]
  },
  {
   "cell_type": "code",
   "execution_count": 52,
   "id": "f0253d77",
   "metadata": {},
   "outputs": [
    {
     "name": "stdout",
     "output_type": "stream",
     "text": [
      "Input a string: madam\n",
      "madam is palindrome\n"
     ]
    }
   ],
   "source": [
    "data = input(\"Input a string: \")\n",
    "reverse = data[::-1]\n",
    "\n",
    "if data == reverse:\n",
    "    print(f\"{data} is palindrome\")\n",
    "else:\n",
    "    print(f\"{data} is not palindrome\")"
   ]
  },
  {
   "cell_type": "markdown",
   "id": "88fbe26e",
   "metadata": {},
   "source": [
    "## Mutability\n",
    "\n",
    "It means subject to change or which can be changed"
   ]
  },
  {
   "cell_type": "code",
   "execution_count": 53,
   "id": "50dca004",
   "metadata": {},
   "outputs": [
    {
     "ename": "TypeError",
     "evalue": "'str' object does not support item assignment",
     "output_type": "error",
     "traceback": [
      "\u001b[1;31m---------------------------------------------------------------------------\u001b[0m",
      "\u001b[1;31mTypeError\u001b[0m                                 Traceback (most recent call last)",
      "Cell \u001b[1;32mIn[53], line 5\u001b[0m\n\u001b[0;32m      1\u001b[0m name \u001b[38;5;241m=\u001b[39m \u001b[38;5;124m\"\u001b[39m\u001b[38;5;124mShubhranshu\u001b[39m\u001b[38;5;124m\"\u001b[39m\n\u001b[0;32m      3\u001b[0m \u001b[38;5;66;03m# Repalce S with F\u001b[39;00m\n\u001b[1;32m----> 5\u001b[0m \u001b[43mname\u001b[49m\u001b[43m[\u001b[49m\u001b[38;5;241;43m0\u001b[39;49m\u001b[43m]\u001b[49m \u001b[38;5;241m=\u001b[39m \u001b[38;5;124m\"\u001b[39m\u001b[38;5;124mF\u001b[39m\u001b[38;5;124m\"\u001b[39m\n",
      "\u001b[1;31mTypeError\u001b[0m: 'str' object does not support item assignment"
     ]
    }
   ],
   "source": [
    "name = \"Shubhranshu\"\n",
    "\n",
    "# Repalce S with F\n",
    "\n",
    "name[0] = \"F\""
   ]
  },
  {
   "cell_type": "code",
   "execution_count": 55,
   "id": "b3b36fea",
   "metadata": {},
   "outputs": [
    {
     "data": {
      "text/plain": [
       "'Fhubhranshu'"
      ]
     },
     "execution_count": 55,
     "metadata": {},
     "output_type": "execute_result"
    }
   ],
   "source": [
    "\"F\" + name[1:]"
   ]
  },
  {
   "cell_type": "code",
   "execution_count": 56,
   "id": "381c6a1d",
   "metadata": {},
   "outputs": [
    {
     "data": {
      "text/plain": [
       "'Shubhranshu'"
      ]
     },
     "execution_count": 56,
     "metadata": {},
     "output_type": "execute_result"
    }
   ],
   "source": [
    "name"
   ]
  },
  {
   "cell_type": "code",
   "execution_count": 59,
   "id": "05f4c1d5",
   "metadata": {},
   "outputs": [
    {
     "data": {
      "text/plain": [
       "'Fhubhranshu'"
      ]
     },
     "execution_count": 59,
     "metadata": {},
     "output_type": "execute_result"
    }
   ],
   "source": [
    "name = \"F\" + name[1:]\n",
    "\n",
    "name"
   ]
  },
  {
   "cell_type": "code",
   "execution_count": 61,
   "id": "e4756e94",
   "metadata": {},
   "outputs": [
    {
     "data": {
      "text/plain": [
       "'FhUUUUbhranshUUUU'"
      ]
     },
     "execution_count": 61,
     "metadata": {},
     "output_type": "execute_result"
    }
   ],
   "source": [
    "name = name.replace(\"u\",\"UUUU\")\n",
    "name"
   ]
  },
  {
   "cell_type": "code",
   "execution_count": 62,
   "id": "0f394b08",
   "metadata": {},
   "outputs": [
    {
     "data": {
      "text/plain": [
       "'FhUUUUbhranshUUUU'"
      ]
     },
     "execution_count": 62,
     "metadata": {},
     "output_type": "execute_result"
    }
   ],
   "source": [
    "name"
   ]
  },
  {
   "cell_type": "code",
   "execution_count": 63,
   "id": "4966f5fe",
   "metadata": {},
   "outputs": [],
   "source": [
    "name = \"Shubhranshu Mishra\"\n",
    "\n",
    "name = name.replace(\"Shubhranshu\",\"SHUBHRANSHU\")"
   ]
  },
  {
   "cell_type": "code",
   "execution_count": 64,
   "id": "d71eaf89",
   "metadata": {},
   "outputs": [
    {
     "data": {
      "text/plain": [
       "'SHUBHRANSHU Mishra'"
      ]
     },
     "execution_count": 64,
     "metadata": {},
     "output_type": "execute_result"
    }
   ],
   "source": [
    "name"
   ]
  },
  {
   "cell_type": "code",
   "execution_count": 65,
   "id": "8bd2eba7",
   "metadata": {},
   "outputs": [
    {
     "data": {
      "text/plain": [
       "'ShubhRanshu MishRa'"
      ]
     },
     "execution_count": 65,
     "metadata": {},
     "output_type": "execute_result"
    }
   ],
   "source": [
    "name = \"Shubhranshu Mishra\"\n",
    "\n",
    "name = name.replace(\"r\",\"R\")\n",
    "\n",
    "name"
   ]
  },
  {
   "cell_type": "code",
   "execution_count": 66,
   "id": "a6c529ed",
   "metadata": {},
   "outputs": [
    {
     "data": {
      "text/plain": [
       "'Shubhranshu_Mishra'"
      ]
     },
     "execution_count": 66,
     "metadata": {},
     "output_type": "execute_result"
    }
   ],
   "source": [
    "name = \"Shubhranshu Mishra\"\n",
    "\n",
    "name = name.replace(\" \",\"_\")\n",
    "\n",
    "name"
   ]
  },
  {
   "cell_type": "markdown",
   "id": "cd756a2a",
   "metadata": {},
   "source": [
    "## Length of the string"
   ]
  },
  {
   "cell_type": "code",
   "execution_count": 67,
   "id": "29704c56",
   "metadata": {},
   "outputs": [
    {
     "data": {
      "text/plain": [
       "'Shubhranshu_Mishra'"
      ]
     },
     "execution_count": 67,
     "metadata": {},
     "output_type": "execute_result"
    }
   ],
   "source": [
    "name"
   ]
  },
  {
   "cell_type": "code",
   "execution_count": 68,
   "id": "7db3ad00",
   "metadata": {},
   "outputs": [
    {
     "data": {
      "text/plain": [
       "18"
      ]
     },
     "execution_count": 68,
     "metadata": {},
     "output_type": "execute_result"
    }
   ],
   "source": [
    "len(name)"
   ]
  },
  {
   "cell_type": "code",
   "execution_count": 69,
   "id": "8898882f",
   "metadata": {},
   "outputs": [
    {
     "data": {
      "text/plain": [
       "11"
      ]
     },
     "execution_count": 69,
     "metadata": {},
     "output_type": "execute_result"
    }
   ],
   "source": [
    "len(\"Shubhranshu\")"
   ]
  },
  {
   "cell_type": "code",
   "execution_count": 70,
   "id": "73a11f11",
   "metadata": {},
   "outputs": [
    {
     "data": {
      "text/plain": [
       "19"
      ]
     },
     "execution_count": 70,
     "metadata": {},
     "output_type": "execute_result"
    }
   ],
   "source": [
    "len(\"Shubhranshu        \")"
   ]
  },
  {
   "cell_type": "code",
   "execution_count": 74,
   "id": "ccb551c7",
   "metadata": {},
   "outputs": [
    {
     "name": "stdout",
     "output_type": "stream",
     "text": [
      "16\n",
      "11\n"
     ]
    }
   ],
   "source": [
    "name = \"Shubhranshu     \"\n",
    "print(len(name))\n",
    "name = name.replace(\" \",\"\")\n",
    "name\n",
    "print(len(name))"
   ]
  },
  {
   "cell_type": "markdown",
   "id": "b3df748c",
   "metadata": {},
   "source": [
    "string is immutable because we cannot directly assign any value using indexing"
   ]
  },
  {
   "cell_type": "code",
   "execution_count": 76,
   "id": "a1a9083f",
   "metadata": {},
   "outputs": [
    {
     "data": {
      "text/plain": [
       "'h'"
      ]
     },
     "execution_count": 76,
     "metadata": {},
     "output_type": "execute_result"
    }
   ],
   "source": [
    "name = \"Shubhranshu Mishra\"\n",
    "name[4]"
   ]
  },
  {
   "cell_type": "code",
   "execution_count": 79,
   "id": "8f5e01af",
   "metadata": {},
   "outputs": [
    {
     "data": {
      "text/plain": [
       "' Mishra'"
      ]
     },
     "execution_count": 79,
     "metadata": {},
     "output_type": "execute_result"
    }
   ],
   "source": [
    "name[11:18]"
   ]
  },
  {
   "cell_type": "code",
   "execution_count": 81,
   "id": "b661c4c2",
   "metadata": {},
   "outputs": [
    {
     "data": {
      "text/plain": [
       "'Shubhranshu=Mishra'"
      ]
     },
     "execution_count": 81,
     "metadata": {},
     "output_type": "execute_result"
    }
   ],
   "source": [
    "name.replace(\" \",\"=\")"
   ]
  },
  {
   "cell_type": "code",
   "execution_count": 82,
   "id": "64a97408",
   "metadata": {},
   "outputs": [
    {
     "data": {
      "text/plain": [
       "18"
      ]
     },
     "execution_count": 82,
     "metadata": {},
     "output_type": "execute_result"
    }
   ],
   "source": [
    "len(name)"
   ]
  },
  {
   "cell_type": "code",
   "execution_count": 84,
   "id": "b19a71d8",
   "metadata": {},
   "outputs": [
    {
     "ename": "TypeError",
     "evalue": "'str' object does not support item assignment",
     "output_type": "error",
     "traceback": [
      "\u001b[1;31m---------------------------------------------------------------------------\u001b[0m",
      "\u001b[1;31mTypeError\u001b[0m                                 Traceback (most recent call last)",
      "Cell \u001b[1;32mIn[84], line 1\u001b[0m\n\u001b[1;32m----> 1\u001b[0m \u001b[43mname\u001b[49m\u001b[43m[\u001b[49m\u001b[38;5;241;43m0\u001b[39;49m\u001b[43m]\u001b[49m \u001b[38;5;241m=\u001b[39m \u001b[38;5;124m\"\u001b[39m\u001b[38;5;124mF\u001b[39m\u001b[38;5;124m\"\u001b[39m \u001b[38;5;66;03m# This is not allowed\u001b[39;00m\n",
      "\u001b[1;31mTypeError\u001b[0m: 'str' object does not support item assignment"
     ]
    }
   ],
   "source": [
    "name[0] = \"F\" # This is not allowed"
   ]
  },
  {
   "cell_type": "code",
   "execution_count": 87,
   "id": "cd5d1f92",
   "metadata": {},
   "outputs": [
    {
     "data": {
      "text/plain": [
       "'Shubhranshu Mishra'"
      ]
     },
     "execution_count": 87,
     "metadata": {},
     "output_type": "execute_result"
    }
   ],
   "source": [
    "name"
   ]
  },
  {
   "cell_type": "code",
   "execution_count": 95,
   "id": "bd6c6a5e",
   "metadata": {},
   "outputs": [
    {
     "data": {
      "text/plain": [
       "''"
      ]
     },
     "execution_count": 95,
     "metadata": {},
     "output_type": "execute_result"
    }
   ],
   "source": [
    "name[-5:-5:]"
   ]
  },
  {
   "cell_type": "markdown",
   "id": "37ceb72e",
   "metadata": {},
   "source": [
    "## Count specific characters in a string"
   ]
  },
  {
   "cell_type": "code",
   "execution_count": 97,
   "id": "237bf893",
   "metadata": {},
   "outputs": [
    {
     "data": {
      "text/plain": [
       "1"
      ]
     },
     "execution_count": 97,
     "metadata": {},
     "output_type": "execute_result"
    }
   ],
   "source": [
    "name = \"Shubhranshu\"\n",
    "\n",
    "name.count(\"n\")"
   ]
  },
  {
   "cell_type": "code",
   "execution_count": 100,
   "id": "1298eb31",
   "metadata": {},
   "outputs": [
    {
     "data": {
      "text/plain": [
       "1"
      ]
     },
     "execution_count": 100,
     "metadata": {},
     "output_type": "execute_result"
    }
   ],
   "source": [
    "name.count(\"s\") # Case sensitivity"
   ]
  },
  {
   "cell_type": "code",
   "execution_count": 101,
   "id": "099b0743",
   "metadata": {},
   "outputs": [
    {
     "data": {
      "text/plain": [
       "2"
      ]
     },
     "execution_count": 101,
     "metadata": {},
     "output_type": "execute_result"
    }
   ],
   "source": [
    "name.count(\"u\")"
   ]
  },
  {
   "cell_type": "markdown",
   "id": "84dee265",
   "metadata": {},
   "source": [
    "## Split operation"
   ]
  },
  {
   "cell_type": "code",
   "execution_count": 102,
   "id": "acddd7d8",
   "metadata": {},
   "outputs": [
    {
     "data": {
      "text/plain": [
       "['Shubhranshu', 'Mishra']"
      ]
     },
     "execution_count": 102,
     "metadata": {},
     "output_type": "execute_result"
    }
   ],
   "source": [
    "name = \"Shubhranshu Mishra\"\n",
    "name.split(\" \")"
   ]
  },
  {
   "cell_type": "code",
   "execution_count": 103,
   "id": "a42e2b21",
   "metadata": {},
   "outputs": [
    {
     "name": "stdout",
     "output_type": "stream",
     "text": [
      "\n",
      "First name: Shubhranshu\n",
      "Last name: Mishra\n",
      "\n"
     ]
    }
   ],
   "source": [
    "first_name, sur_name = name.split(\" \")\n",
    "\n",
    "print(f\"\"\"\n",
    "First name: {first_name}\n",
    "Last name: {sur_name}\n",
    "\"\"\")"
   ]
  },
  {
   "cell_type": "code",
   "execution_count": 104,
   "id": "cab067de",
   "metadata": {},
   "outputs": [
    {
     "name": "stdout",
     "output_type": "stream",
     "text": [
      "Enter date of birth in the format DD/MMM/YYYY: 09/Mar/1995\n",
      "The user was born in the month of Mar in the year 1995 on date 09\n"
     ]
    }
   ],
   "source": [
    "data = input(\"Enter date of birth in the format DD/MMM/YYYY: \")\n",
    "\n",
    "date, month, year = data.split(\"/\")\n",
    "\n",
    "print(f\"The user was born in the month of {month} in the year {year} on date {date}\")"
   ]
  },
  {
   "cell_type": "code",
   "execution_count": 105,
   "id": "a20ceb6b",
   "metadata": {},
   "outputs": [
    {
     "name": "stdout",
     "output_type": "stream",
     "text": [
      "Enter date of birth in the format DD/MMM/YYYY: 09/Mar-1995\n"
     ]
    },
    {
     "data": {
      "text/plain": [
       "['09', 'Mar-1995']"
      ]
     },
     "execution_count": 105,
     "metadata": {},
     "output_type": "execute_result"
    }
   ],
   "source": [
    "data = input(\"Enter date of birth in the format DD/MMM/YYYY: \")\n",
    "data.split(\"/\")"
   ]
  },
  {
   "cell_type": "code",
   "execution_count": 106,
   "id": "a04efd6d",
   "metadata": {},
   "outputs": [
    {
     "data": {
      "text/plain": [
       "['Shubhranshu', 'Mishra']"
      ]
     },
     "execution_count": 106,
     "metadata": {},
     "output_type": "execute_result"
    }
   ],
   "source": [
    "name = \"Shubhranshu_Mishra\"\n",
    "\n",
    "name.split(\"_\")"
   ]
  },
  {
   "cell_type": "code",
   "execution_count": 107,
   "id": "9a6af4e1",
   "metadata": {},
   "outputs": [
    {
     "data": {
      "text/plain": [
       "['Shubh', 'anshu_Mish', 'a']"
      ]
     },
     "execution_count": 107,
     "metadata": {},
     "output_type": "execute_result"
    }
   ],
   "source": [
    "name.split(\"r\")"
   ]
  },
  {
   "cell_type": "code",
   "execution_count": 108,
   "id": "257cc7e9",
   "metadata": {},
   "outputs": [
    {
     "data": {
      "text/plain": [
       "['Shubhranshu_Mishra']"
      ]
     },
     "execution_count": 108,
     "metadata": {},
     "output_type": "execute_result"
    }
   ],
   "source": [
    "name.split(\".\")"
   ]
  },
  {
   "cell_type": "code",
   "execution_count": 109,
   "id": "ecfdbd36",
   "metadata": {},
   "outputs": [
    {
     "name": "stdout",
     "output_type": "stream",
     "text": [
      "Enter the date in DD/MM/YYYY: 17th/March/1995\n"
     ]
    },
    {
     "data": {
      "text/plain": [
       "['17th', 'March', '1995']"
      ]
     },
     "execution_count": 109,
     "metadata": {},
     "output_type": "execute_result"
    }
   ],
   "source": [
    "date = input(\"Enter the date in DD/MM/YYYY: \")\n",
    "date.split(\"/\")"
   ]
  },
  {
   "cell_type": "code",
   "execution_count": 110,
   "id": "e854af23",
   "metadata": {},
   "outputs": [
    {
     "name": "stdout",
     "output_type": "stream",
     "text": [
      "17th March 1995\n"
     ]
    }
   ],
   "source": [
    "A,B,C = date.split(\"/\")\n",
    "\n",
    "print(A,B,C)"
   ]
  },
  {
   "cell_type": "code",
   "execution_count": 111,
   "id": "e8bdd55b",
   "metadata": {},
   "outputs": [
    {
     "data": {
      "text/plain": [
       "['17th', 'March', '1995']"
      ]
     },
     "execution_count": 111,
     "metadata": {},
     "output_type": "execute_result"
    }
   ],
   "source": [
    "A = date.split(\"/\")\n",
    "A"
   ]
  },
  {
   "cell_type": "code",
   "execution_count": 112,
   "id": "32ecf52c",
   "metadata": {},
   "outputs": [
    {
     "data": {
      "text/plain": [
       "'17th'"
      ]
     },
     "execution_count": 112,
     "metadata": {},
     "output_type": "execute_result"
    }
   ],
   "source": [
    "A[0]"
   ]
  },
  {
   "cell_type": "code",
   "execution_count": 113,
   "id": "8004664c",
   "metadata": {},
   "outputs": [
    {
     "data": {
      "text/plain": [
       "'March'"
      ]
     },
     "execution_count": 113,
     "metadata": {},
     "output_type": "execute_result"
    }
   ],
   "source": [
    "A[1]"
   ]
  },
  {
   "cell_type": "code",
   "execution_count": 114,
   "id": "4bfc5aa9",
   "metadata": {},
   "outputs": [
    {
     "data": {
      "text/plain": [
       "3"
      ]
     },
     "execution_count": 114,
     "metadata": {},
     "output_type": "execute_result"
    }
   ],
   "source": [
    "len(A)"
   ]
  },
  {
   "cell_type": "markdown",
   "id": "c27c285d",
   "metadata": {},
   "source": [
    "## Lower, Upper, Title case etc."
   ]
  },
  {
   "cell_type": "code",
   "execution_count": 115,
   "id": "400744ff",
   "metadata": {},
   "outputs": [
    {
     "data": {
      "text/plain": [
       "'shubhranshu mishra'"
      ]
     },
     "execution_count": 115,
     "metadata": {},
     "output_type": "execute_result"
    }
   ],
   "source": [
    "name = \"Shubhranshu Mishra\"\n",
    "\n",
    "name.lower()"
   ]
  },
  {
   "cell_type": "code",
   "execution_count": 116,
   "id": "52ef699f",
   "metadata": {},
   "outputs": [
    {
     "data": {
      "text/plain": [
       "'SHUBHRANSHU MISHRA'"
      ]
     },
     "execution_count": 116,
     "metadata": {},
     "output_type": "execute_result"
    }
   ],
   "source": [
    "name.upper()"
   ]
  },
  {
   "cell_type": "code",
   "execution_count": 1,
   "id": "7e274dc5",
   "metadata": {},
   "outputs": [
    {
     "name": "stdout",
     "output_type": "stream",
     "text": [
      "Enter your name: shubhranshu mishra\n",
      "user input: shubhranshu mishra\n",
      "name in upper case: SHUBHRANSHU MISHRA\n",
      "name in lower case: shubhranshu mishra\n",
      "name in title case: Shubhranshu Mishra\n",
      "name in capitalize case: Shubhranshu mishra\n",
      "name in swap case: SHUBHRANSHU MISHRA\n"
     ]
    }
   ],
   "source": [
    "name = input(\"Enter your name: \")\n",
    "\n",
    "print(f\"user input: {name}\")\n",
    "print(f\"name in upper case: {name.upper()}\")\n",
    "print(f\"name in lower case: {name.lower()}\")\n",
    "print(f\"name in title case: {name.title()}\")\n",
    "print(f\"name in capitalize case: {name.capitalize()}\")\n",
    "print(f\"name in swap case: {name.swapcase()}\")"
   ]
  },
  {
   "cell_type": "code",
   "execution_count": 2,
   "id": "bae6039d",
   "metadata": {},
   "outputs": [
    {
     "name": "stdout",
     "output_type": "stream",
     "text": [
      "user input: TodaY iS tHe BesT day OF my liFE\n",
      "name in upper case: TODAY IS THE BEST DAY OF MY LIFE\n",
      "name in lower case: today is the best day of my life\n",
      "name in title case: Today Is The Best Day Of My Life\n",
      "name in capitalize case: Today is the best day of my life\n",
      "name in swap case: tODAy Is ThE bESt DAY of MY LIfe\n"
     ]
    }
   ],
   "source": [
    "name = \"TodaY iS tHe BesT day OF my liFE\"\n",
    "\n",
    "print(f\"user input: {name}\")\n",
    "print(f\"name in upper case: {name.upper()}\")\n",
    "print(f\"name in lower case: {name.lower()}\")\n",
    "print(f\"name in title case: {name.title()}\")\n",
    "print(f\"name in capitalize case: {name.capitalize()}\")\n",
    "print(f\"name in swap case: {name.swapcase()}\")"
   ]
  },
  {
   "cell_type": "code",
   "execution_count": 3,
   "id": "4c7bf7cf",
   "metadata": {},
   "outputs": [
    {
     "data": {
      "text/plain": [
       "'S*h*u*b*h*r*a*n*s*h*u* *M*i*s*h*r*a'"
      ]
     },
     "execution_count": 3,
     "metadata": {},
     "output_type": "execute_result"
    }
   ],
   "source": [
    "name = \"Shubhranshu Mishra\"\n",
    "\n",
    "\"*\".join(name)"
   ]
  },
  {
   "cell_type": "code",
   "execution_count": 4,
   "id": "04a4daea",
   "metadata": {},
   "outputs": [
    {
     "data": {
      "text/plain": [
       "'S_h_u_b_h_r_a_n_s_h_u_ _M_i_s_h_r_a'"
      ]
     },
     "execution_count": 4,
     "metadata": {},
     "output_type": "execute_result"
    }
   ],
   "source": [
    "name = \"Shubhranshu Mishra\"\n",
    "\n",
    "\"_\".join(name)"
   ]
  },
  {
   "cell_type": "code",
   "execution_count": 5,
   "id": "bf686f52",
   "metadata": {},
   "outputs": [
    {
     "data": {
      "text/plain": [
       "'S|h|u|b|h|r|a|n|s|h|u| |M|i|s|h|r|a'"
      ]
     },
     "execution_count": 5,
     "metadata": {},
     "output_type": "execute_result"
    }
   ],
   "source": [
    "name = \"Shubhranshu Mishra\"\n",
    "\n",
    "\"|\".join(name)"
   ]
  },
  {
   "cell_type": "code",
   "execution_count": 6,
   "id": "cc29c5ce",
   "metadata": {},
   "outputs": [
    {
     "data": {
      "text/plain": [
       "'S h u b h r a n s h u   M i s h r a'"
      ]
     },
     "execution_count": 6,
     "metadata": {},
     "output_type": "execute_result"
    }
   ],
   "source": [
    "name = \"Shubhranshu Mishra\"\n",
    "\n",
    "\" \".join(name)"
   ]
  },
  {
   "cell_type": "code",
   "execution_count": 7,
   "id": "a0533f1a",
   "metadata": {},
   "outputs": [
    {
     "data": {
      "text/plain": [
       "'Shubhranshu|Mishra'"
      ]
     },
     "execution_count": 7,
     "metadata": {},
     "output_type": "execute_result"
    }
   ],
   "source": [
    "name = \"Shubhranshu Mishra\"\n",
    "\n",
    "name.replace(\" \",\"|\")"
   ]
  },
  {
   "cell_type": "code",
   "execution_count": 8,
   "id": "1d9c4531",
   "metadata": {},
   "outputs": [
    {
     "data": {
      "text/plain": [
       "'arhsiM uhsnarhbuhS'"
      ]
     },
     "execution_count": 8,
     "metadata": {},
     "output_type": "execute_result"
    }
   ],
   "source": [
    "\"\".join(reversed(name))"
   ]
  },
  {
   "cell_type": "code",
   "execution_count": 9,
   "id": "41d27efa",
   "metadata": {},
   "outputs": [
    {
     "data": {
      "text/plain": [
       "'arhsiM uhsnarhbuhS'"
      ]
     },
     "execution_count": 9,
     "metadata": {},
     "output_type": "execute_result"
    }
   ],
   "source": [
    "name[::-1]"
   ]
  },
  {
   "cell_type": "markdown",
   "id": "54367678",
   "metadata": {},
   "source": [
    "## Remove extra spaces front and back of the string"
   ]
  },
  {
   "cell_type": "code",
   "execution_count": 10,
   "id": "4b082391",
   "metadata": {},
   "outputs": [
    {
     "data": {
      "text/plain": [
       "'Shubhranshu'"
      ]
     },
     "execution_count": 10,
     "metadata": {},
     "output_type": "execute_result"
    }
   ],
   "source": [
    "name = \"     Shubhranshu            \"\n",
    "\n",
    "name.strip()"
   ]
  },
  {
   "cell_type": "code",
   "execution_count": 11,
   "id": "34108da9",
   "metadata": {},
   "outputs": [
    {
     "data": {
      "text/plain": [
       "'Shubhranshu            '"
      ]
     },
     "execution_count": 11,
     "metadata": {},
     "output_type": "execute_result"
    }
   ],
   "source": [
    "name.lstrip()"
   ]
  },
  {
   "cell_type": "code",
   "execution_count": 12,
   "id": "ad1bd6ad",
   "metadata": {},
   "outputs": [
    {
     "data": {
      "text/plain": [
       "'     Shubhranshu'"
      ]
     },
     "execution_count": 12,
     "metadata": {},
     "output_type": "execute_result"
    }
   ],
   "source": [
    "name.rstrip()"
   ]
  },
  {
   "cell_type": "code",
   "execution_count": 14,
   "id": "8fd815b1",
   "metadata": {},
   "outputs": [
    {
     "data": {
      "text/plain": [
       "'Shubhranshu'"
      ]
     },
     "execution_count": 14,
     "metadata": {},
     "output_type": "execute_result"
    }
   ],
   "source": [
    "name = \"========Shubhranshu========\"\n",
    "\n",
    "name.strip(\"=\")"
   ]
  },
  {
   "cell_type": "code",
   "execution_count": 15,
   "id": "cf9ed7e4",
   "metadata": {},
   "outputs": [
    {
     "data": {
      "text/plain": [
       "'Shubhranshu'"
      ]
     },
     "execution_count": 15,
     "metadata": {},
     "output_type": "execute_result"
    }
   ],
   "source": [
    "name = \"             Shubhranshu        \"\n",
    "\n",
    "name.replace(\" \",\"\")"
   ]
  },
  {
   "cell_type": "markdown",
   "id": "f4058bcd",
   "metadata": {},
   "source": [
    "## Formatting"
   ]
  },
  {
   "cell_type": "code",
   "execution_count": 18,
   "id": "10671e76",
   "metadata": {},
   "outputs": [
    {
     "data": {
      "text/plain": [
       "'####Shubhranshu#####'"
      ]
     },
     "execution_count": 18,
     "metadata": {},
     "output_type": "execute_result"
    }
   ],
   "source": [
    "name = \"Shubhranshu\"\n",
    "\n",
    "name.center(20,\"#\")"
   ]
  },
  {
   "cell_type": "code",
   "execution_count": 4,
   "id": "0d7566ba",
   "metadata": {},
   "outputs": [
    {
     "data": {
      "text/plain": [
       "'Shubhranshu'"
      ]
     },
     "execution_count": 4,
     "metadata": {},
     "output_type": "execute_result"
    }
   ],
   "source": [
    "name = \"Shubhranshu\"\n",
    "name.center(10,\"#\")"
   ]
  },
  {
   "cell_type": "code",
   "execution_count": 5,
   "id": "74436354",
   "metadata": {},
   "outputs": [
    {
     "data": {
      "text/plain": [
       "11"
      ]
     },
     "execution_count": 5,
     "metadata": {},
     "output_type": "execute_result"
    }
   ],
   "source": [
    "len(name)"
   ]
  },
  {
   "cell_type": "markdown",
   "id": "d8f9c35f",
   "metadata": {},
   "source": [
    "## Checking string cases"
   ]
  },
  {
   "cell_type": "code",
   "execution_count": 2,
   "id": "a001953a",
   "metadata": {},
   "outputs": [
    {
     "data": {
      "text/plain": [
       "False"
      ]
     },
     "execution_count": 2,
     "metadata": {},
     "output_type": "execute_result"
    }
   ],
   "source": [
    "name = \"Shubhranshu\"\n",
    "\n",
    "name.isupper()"
   ]
  },
  {
   "cell_type": "code",
   "execution_count": 3,
   "id": "21b1889c",
   "metadata": {},
   "outputs": [
    {
     "data": {
      "text/plain": [
       "True"
      ]
     },
     "execution_count": 3,
     "metadata": {},
     "output_type": "execute_result"
    }
   ],
   "source": [
    "name = \"SHUBHRANSHU\"\n",
    "\n",
    "name.isupper()"
   ]
  },
  {
   "cell_type": "code",
   "execution_count": 4,
   "id": "d18fb8bb",
   "metadata": {},
   "outputs": [],
   "source": [
    "# is upper --> isupper"
   ]
  },
  {
   "cell_type": "code",
   "execution_count": 6,
   "id": "58906291",
   "metadata": {},
   "outputs": [
    {
     "data": {
      "text/plain": [
       "True"
      ]
     },
     "execution_count": 6,
     "metadata": {},
     "output_type": "execute_result"
    }
   ],
   "source": [
    "name = \"shubhranshu\"\n",
    "\n",
    "name.islower()"
   ]
  },
  {
   "cell_type": "code",
   "execution_count": 7,
   "id": "3370f133",
   "metadata": {},
   "outputs": [
    {
     "data": {
      "text/plain": [
       "True"
      ]
     },
     "execution_count": 7,
     "metadata": {},
     "output_type": "execute_result"
    }
   ],
   "source": [
    "name = \"Shubhranshu\"\n",
    "\n",
    "name.istitle()"
   ]
  },
  {
   "cell_type": "code",
   "execution_count": 8,
   "id": "ef125631",
   "metadata": {},
   "outputs": [
    {
     "data": {
      "text/plain": [
       "False"
      ]
     },
     "execution_count": 8,
     "metadata": {},
     "output_type": "execute_result"
    }
   ],
   "source": [
    "name = \"Shubhranshu \"\n",
    "\n",
    "name.isspace()"
   ]
  },
  {
   "cell_type": "code",
   "execution_count": 9,
   "id": "822b682b",
   "metadata": {},
   "outputs": [
    {
     "data": {
      "text/plain": [
       "True"
      ]
     },
     "execution_count": 9,
     "metadata": {},
     "output_type": "execute_result"
    }
   ],
   "source": [
    "name = \"   \"\n",
    "\n",
    "name.isspace()"
   ]
  },
  {
   "cell_type": "code",
   "execution_count": 10,
   "id": "53d397b4",
   "metadata": {},
   "outputs": [
    {
     "data": {
      "text/plain": [
       "False"
      ]
     },
     "execution_count": 10,
     "metadata": {},
     "output_type": "execute_result"
    }
   ],
   "source": [
    "name = \"Shu   bhran  shu\"\n",
    "\n",
    "name.isspace()"
   ]
  },
  {
   "cell_type": "code",
   "execution_count": 11,
   "id": "330a7788",
   "metadata": {},
   "outputs": [
    {
     "name": "stdout",
     "output_type": "stream",
     "text": [
      "Enter your name: Shubhranshu Mishra\n",
      "user input: Shubhranshu Mishra\n",
      "user has given the correct input\n"
     ]
    }
   ],
   "source": [
    "name = input(\"Enter your name: \")\n",
    "\n",
    "print(f\"user input: {name}\")\n",
    "\n",
    "if name.istitle():\n",
    "    print(f\"user has given the correct input\")\n",
    "elif name.isspace():\n",
    "    print(f\"wrong input, please try again\")\n",
    "else:\n",
    "    print(f\"wrong input, we need to autocorrect it\")\n",
    "    name = name.title()\n",
    "    print(f\"correct output: {name}\")"
   ]
  },
  {
   "cell_type": "code",
   "execution_count": 12,
   "id": "55b28664",
   "metadata": {},
   "outputs": [
    {
     "name": "stdout",
     "output_type": "stream",
     "text": [
      "Enter your name: shubhranshu mishra\n",
      "user input: shubhranshu mishra\n",
      "wrong input, we need to autocorrect it\n",
      "correct output: Shubhranshu Mishra\n"
     ]
    }
   ],
   "source": [
    "name = input(\"Enter your name: \")\n",
    "\n",
    "print(f\"user input: {name}\")\n",
    "\n",
    "if name.istitle():\n",
    "    print(f\"user has given the correct input\")\n",
    "elif name.isspace():\n",
    "    print(f\"wrong input, please try again\")\n",
    "else:\n",
    "    print(f\"wrong input, we need to autocorrect it\")\n",
    "    name = name.title()\n",
    "    print(f\"correct output: {name}\")"
   ]
  },
  {
   "cell_type": "code",
   "execution_count": 13,
   "id": "ef873dab",
   "metadata": {},
   "outputs": [
    {
     "name": "stdout",
     "output_type": "stream",
     "text": [
      "Enter your name: shuBHRanshu MisHRa\n",
      "user input: shuBHRanshu MisHRa\n",
      "wrong input, we need to autocorrect it\n",
      "correct output: Shubhranshu Mishra\n"
     ]
    }
   ],
   "source": [
    "name = input(\"Enter your name: \")\n",
    "\n",
    "print(f\"user input: {name}\")\n",
    "\n",
    "if name.istitle():\n",
    "    print(f\"user has given the correct input\")\n",
    "elif name.isspace():\n",
    "    print(f\"wrong input, please try again\")\n",
    "else:\n",
    "    print(f\"wrong input, we need to autocorrect it\")\n",
    "    name = name.title()\n",
    "    print(f\"correct output: {name}\")"
   ]
  },
  {
   "cell_type": "code",
   "execution_count": 15,
   "id": "30d4493b",
   "metadata": {},
   "outputs": [
    {
     "data": {
      "text/plain": [
       "True"
      ]
     },
     "execution_count": 15,
     "metadata": {},
     "output_type": "execute_result"
    }
   ],
   "source": [
    "phone_number = \"9876543210\"\n",
    "\n",
    "phone_number.isdigit()"
   ]
  },
  {
   "cell_type": "code",
   "execution_count": 16,
   "id": "f2806355",
   "metadata": {},
   "outputs": [
    {
     "data": {
      "text/plain": [
       "False"
      ]
     },
     "execution_count": 16,
     "metadata": {},
     "output_type": "execute_result"
    }
   ],
   "source": [
    "phone_number = \"987sde2346543210\"\n",
    "\n",
    "phone_number.isdigit()"
   ]
  },
  {
   "cell_type": "code",
   "execution_count": 18,
   "id": "0e9283cd",
   "metadata": {},
   "outputs": [
    {
     "name": "stdout",
     "output_type": "stream",
     "text": [
      "Enter your phone number: 9874563210\n",
      "user input is correct\n"
     ]
    }
   ],
   "source": [
    "phone_number = input(\"Enter your phone number: \")\n",
    "\n",
    "if phone_number.isdigit() and len(phone_number) == 10:\n",
    "    print(f\"user input is correct\")\n",
    "else:\n",
    "    print(\"invalid input\")"
   ]
  },
  {
   "cell_type": "code",
   "execution_count": 19,
   "id": "b61111f0",
   "metadata": {},
   "outputs": [
    {
     "name": "stdout",
     "output_type": "stream",
     "text": [
      "Enter your phone number: 78615 26216 251\n",
      "invalid input\n"
     ]
    }
   ],
   "source": [
    "phone_number = input(\"Enter your phone number: \")\n",
    "\n",
    "if phone_number.isdigit() and len(phone_number) == 10:\n",
    "    print(f\"user input is correct\")\n",
    "else:\n",
    "    print(\"invalid input\")"
   ]
  },
  {
   "cell_type": "code",
   "execution_count": 20,
   "id": "51ea914b",
   "metadata": {},
   "outputs": [
    {
     "name": "stdout",
     "output_type": "stream",
     "text": [
      "Enter your phone number: 78945612378946113\n",
      "invalid input\n"
     ]
    }
   ],
   "source": [
    "phone_number = input(\"Enter your phone number: \")\n",
    "\n",
    "if phone_number.isdigit() and len(phone_number) == 10:\n",
    "    print(f\"user input is correct\")\n",
    "else:\n",
    "    print(\"invalid input\")"
   ]
  },
  {
   "cell_type": "code",
   "execution_count": 21,
   "id": "52f737d6",
   "metadata": {},
   "outputs": [
    {
     "name": "stdout",
     "output_type": "stream",
     "text": [
      "Enter your phone number: 0000000000\n",
      "user input is correct\n"
     ]
    }
   ],
   "source": [
    "phone_number = input(\"Enter your phone number: \")\n",
    "\n",
    "if phone_number.isdigit() and len(phone_number) == 10:\n",
    "    print(f\"user input is correct\")\n",
    "else:\n",
    "    print(\"invalid input\")"
   ]
  },
  {
   "cell_type": "code",
   "execution_count": 23,
   "id": "51eed32d",
   "metadata": {},
   "outputs": [
    {
     "name": "stdout",
     "output_type": "stream",
     "text": [
      "Enter your phone number: 0000000000\n",
      "invalid input\n"
     ]
    }
   ],
   "source": [
    "phone_number = input(\"Enter your phone number: \")\n",
    "\n",
    "if phone_number.isdigit() and len(phone_number) == 10 and phone_number != \"0000000000\":\n",
    "    print(f\"user input is correct\")\n",
    "else:\n",
    "    print(\"invalid input\")"
   ]
  },
  {
   "cell_type": "code",
   "execution_count": 25,
   "id": "cc2e8267",
   "metadata": {},
   "outputs": [
    {
     "data": {
      "text/plain": [
       "True"
      ]
     },
     "execution_count": 25,
     "metadata": {},
     "output_type": "execute_result"
    }
   ],
   "source": [
    "phone_number.startswith(\"0\")"
   ]
  },
  {
   "cell_type": "code",
   "execution_count": 26,
   "id": "416f13f9",
   "metadata": {},
   "outputs": [
    {
     "data": {
      "text/plain": [
       "True"
      ]
     },
     "execution_count": 26,
     "metadata": {},
     "output_type": "execute_result"
    }
   ],
   "source": [
    "phone_number.endswith(\"0\")"
   ]
  },
  {
   "cell_type": "code",
   "execution_count": 31,
   "id": "b8f1175f",
   "metadata": {},
   "outputs": [
    {
     "data": {
      "text/plain": [
       "True"
      ]
     },
     "execution_count": 31,
     "metadata": {},
     "output_type": "execute_result"
    }
   ],
   "source": [
    "phone_number = \"+911234567890\"\n",
    "\n",
    "phone_number.startswith(\"+91\")"
   ]
  },
  {
   "cell_type": "code",
   "execution_count": 32,
   "id": "fe89485d",
   "metadata": {},
   "outputs": [
    {
     "data": {
      "text/plain": [
       "'911234567890'"
      ]
     },
     "execution_count": 32,
     "metadata": {},
     "output_type": "execute_result"
    }
   ],
   "source": [
    "phone_number[1:]"
   ]
  },
  {
   "cell_type": "code",
   "execution_count": 34,
   "id": "bda2326b",
   "metadata": {},
   "outputs": [
    {
     "data": {
      "text/plain": [
       "True"
      ]
     },
     "execution_count": 34,
     "metadata": {},
     "output_type": "execute_result"
    }
   ],
   "source": [
    "phone_number[1:].isdigit()"
   ]
  },
  {
   "cell_type": "code",
   "execution_count": 35,
   "id": "eede990c",
   "metadata": {},
   "outputs": [
    {
     "data": {
      "text/plain": [
       "True"
      ]
     },
     "execution_count": 35,
     "metadata": {},
     "output_type": "execute_result"
    }
   ],
   "source": [
    "len(phone_number) == 13"
   ]
  },
  {
   "cell_type": "code",
   "execution_count": 36,
   "id": "10d48cce",
   "metadata": {},
   "outputs": [
    {
     "data": {
      "text/plain": [
       "10"
      ]
     },
     "execution_count": 36,
     "metadata": {},
     "output_type": "execute_result"
    }
   ],
   "source": [
    "phone_number = \"+910000000000\"\n",
    "\n",
    "phone_number.count(\"0\")"
   ]
  },
  {
   "cell_type": "code",
   "execution_count": 37,
   "id": "19663d51",
   "metadata": {},
   "outputs": [
    {
     "name": "stdout",
     "output_type": "stream",
     "text": [
      "Enter your Indian phone number: +9125165102351561556\n",
      "invalid input\n"
     ]
    }
   ],
   "source": [
    "phone_number = input(\"Enter your Indian phone number: \")\n",
    "\n",
    "if phone_number.startswith(\"+91\") and phone_number[1:].isdigit() and len(phone_number) == 13:\n",
    "    print(f\"user input is correct\")\n",
    "else:\n",
    "    print(\"invalid input\")"
   ]
  },
  {
   "cell_type": "code",
   "execution_count": 38,
   "id": "4aaa36cf",
   "metadata": {},
   "outputs": [
    {
     "name": "stdout",
     "output_type": "stream",
     "text": [
      "Enter your Indian phone number: +11265\n",
      "invalid input\n"
     ]
    }
   ],
   "source": [
    "phone_number = input(\"Enter your Indian phone number: \")\n",
    "\n",
    "if phone_number.startswith(\"+91\") and phone_number[1:].isdigit() and len(phone_number) == 13:\n",
    "    print(f\"user input is correct\")\n",
    "else:\n",
    "    print(\"invalid input\")"
   ]
  },
  {
   "cell_type": "code",
   "execution_count": 39,
   "id": "8eb544a7",
   "metadata": {},
   "outputs": [
    {
     "name": "stdout",
     "output_type": "stream",
     "text": [
      "Enter your Indian phone number: +919876543210\n",
      "user input is correct\n"
     ]
    }
   ],
   "source": [
    "phone_number = input(\"Enter your Indian phone number: \")\n",
    "\n",
    "if phone_number.startswith(\"+91\") and phone_number[1:].isdigit() and len(phone_number) == 13:\n",
    "    print(f\"user input is correct\")\n",
    "else:\n",
    "    print(\"invalid input\")"
   ]
  },
  {
   "cell_type": "code",
   "execution_count": 40,
   "id": "a5cba8be",
   "metadata": {},
   "outputs": [
    {
     "data": {
      "text/plain": [
       "True"
      ]
     },
     "execution_count": 40,
     "metadata": {},
     "output_type": "execute_result"
    }
   ],
   "source": [
    "pan_number = \"ABCDE1234F\"\n",
    "pan_number.isalnum() # check for alpha numeric case"
   ]
  },
  {
   "cell_type": "code",
   "execution_count": 42,
   "id": "4bdd29f8",
   "metadata": {},
   "outputs": [
    {
     "data": {
      "text/plain": [
       "True"
      ]
     },
     "execution_count": 42,
     "metadata": {},
     "output_type": "execute_result"
    }
   ],
   "source": [
    "pan_number = \"shubhranshu\"\n",
    "pan_number.isalnum() # as alnum gives True for either alphabets or numbers or both"
   ]
  },
  {
   "cell_type": "code",
   "execution_count": 44,
   "id": "4e9139c2",
   "metadata": {},
   "outputs": [
    {
     "data": {
      "text/plain": [
       "False"
      ]
     },
     "execution_count": 44,
     "metadata": {},
     "output_type": "execute_result"
    }
   ],
   "source": [
    "pan_number = \"Shubhranshu Mishra\"\n",
    "pan_number.isalnum() # as space is neither alphabet or number"
   ]
  }
 ],
 "metadata": {
  "kernelspec": {
   "display_name": "Python 3 (ipykernel)",
   "language": "python",
   "name": "python3"
  },
  "language_info": {
   "codemirror_mode": {
    "name": "ipython",
    "version": 3
   },
   "file_extension": ".py",
   "mimetype": "text/x-python",
   "name": "python",
   "nbconvert_exporter": "python",
   "pygments_lexer": "ipython3",
   "version": "3.9.12"
  }
 },
 "nbformat": 4,
 "nbformat_minor": 5
}
